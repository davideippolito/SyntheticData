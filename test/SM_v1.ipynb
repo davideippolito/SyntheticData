{
 "cells": [
  {
   "attachments": {},
   "cell_type": "markdown",
   "metadata": {},
   "source": [
    "# Statistics and Metrics Evaluation"
   ]
  },
  {
   "attachments": {},
   "cell_type": "markdown",
   "metadata": {},
   "source": [
    "### Import"
   ]
  },
  {
   "cell_type": "code",
   "execution_count": 29,
   "metadata": {},
   "outputs": [],
   "source": [
    "import pandas as pd\n",
    "from sdv.metadata import SingleTableMetadata\n",
    "from sdv.metadata import MultiTableMetadata\n",
    "from sdv.evaluation.single_table import evaluate_quality as eqs\n",
    "from sdv.evaluation.multi_table import evaluate_quality as eqm\n",
    "from sdv.evaluation.multi_table import run_diagnostic"
   ]
  },
  {
   "attachments": {},
   "cell_type": "markdown",
   "metadata": {},
   "source": [
    "External Functions"
   ]
  },
  {
   "cell_type": "code",
   "execution_count": 30,
   "metadata": {},
   "outputs": [],
   "source": [
    "%run utils/Statistics.py\n",
    "%run utils/Generator.py"
   ]
  },
  {
   "attachments": {},
   "cell_type": "markdown",
   "metadata": {},
   "source": [
    "File Paths"
   ]
  },
  {
   "cell_type": "code",
   "execution_count": 31,
   "metadata": {},
   "outputs": [],
   "source": [
    "# Real Dataset Output\n",
    "path_RD = '../data/real_data/REF.csv'\n",
    "\n",
    "# Metadata based on Real Dataset Output\n",
    "path_metadata_st = '../data/metadata/metadata_st_REF.json'\n",
    "path_metadata_mt = '../data/metadata/metadata_mt_REF.json'\n",
    "\n",
    "# Reference Synthetic Dataset Output\n",
    "path_FAST_ML = '../data/synthetic_data/FAST_ML_test.csv'\n",
    "# path_CTGAN = '../data/synthetic_data/CTGAN_test.csv'\n",
    "path_HMA = '../data/synthetic_data/HMA_test.csv'\n",
    "\n",
    "# Test Synthetic Dataset Output\n",
    "path_FAST_ML_test = '../data/synthetic_data/FAST_ML_d_test.csv'\n",
    "# path_CTGAN_test = '../data/synthetic_data/CTGAN_d_test.csv'\n",
    "path_HMA_test = '../data/synthetic_data/HMA_d_test.csv'"
   ]
  },
  {
   "attachments": {},
   "cell_type": "markdown",
   "metadata": {},
   "source": [
    "Real Data"
   ]
  },
  {
   "cell_type": "code",
   "execution_count": 32,
   "metadata": {},
   "outputs": [],
   "source": [
    "RD = pd.read_csv(path_RD)"
   ]
  },
  {
   "attachments": {},
   "cell_type": "markdown",
   "metadata": {},
   "source": [
    "Metadata"
   ]
  },
  {
   "cell_type": "code",
   "execution_count": 33,
   "metadata": {},
   "outputs": [],
   "source": [
    "# Single Table metadata\n",
    "metadata_st = SingleTableMetadata.load_from_json(path_metadata_st)\n",
    "\n",
    "# Multi Table metadata\n",
    "metadata_mt = MultiTableMetadata.load_from_json(path_metadata_mt)"
   ]
  },
  {
   "attachments": {},
   "cell_type": "markdown",
   "metadata": {},
   "source": [
    "Synthetic Data"
   ]
  },
  {
   "cell_type": "code",
   "execution_count": 34,
   "metadata": {},
   "outputs": [],
   "source": [
    "# CTGAN = pd.read_csv(path_CTGAN)\n",
    "SD_FAST_ML = pd.read_csv(path_FAST_ML)\n",
    "# SD_CTGAN = pd.read_csv(path_CTGAN)\n",
    "SD_HMA = pd.read_csv(path_HMA)"
   ]
  },
  {
   "attachments": {},
   "cell_type": "markdown",
   "metadata": {},
   "source": [
    "Test Data"
   ]
  },
  {
   "cell_type": "code",
   "execution_count": 35,
   "metadata": {},
   "outputs": [],
   "source": [
    "SD_FAST_ML_test = pd.read_csv(path_FAST_ML_test)\n",
    "# SD_CTGAN_test = pd.read_csv(path_CTGAN_test)\n",
    "SD_HMA_test = pd.read_csv(path_HMA_test)"
   ]
  },
  {
   "attachments": {},
   "cell_type": "markdown",
   "metadata": {},
   "source": [
    "### Statistics"
   ]
  },
  {
   "attachments": {},
   "cell_type": "markdown",
   "metadata": {},
   "source": [
    "In this section a reference SD is compared to a new test SD to evaluate and statistics."
   ]
  },
  {
   "attachments": {},
   "cell_type": "markdown",
   "metadata": {},
   "source": [
    "##### FAST_ML"
   ]
  },
  {
   "attachments": {},
   "cell_type": "markdown",
   "metadata": {},
   "source": [
    "REF"
   ]
  },
  {
   "cell_type": "code",
   "execution_count": 36,
   "metadata": {},
   "outputs": [
    {
     "data": {
      "text/html": [
       "<div>\n",
       "<style scoped>\n",
       "    .dataframe tbody tr th:only-of-type {\n",
       "        vertical-align: middle;\n",
       "    }\n",
       "\n",
       "    .dataframe tbody tr th {\n",
       "        vertical-align: top;\n",
       "    }\n",
       "\n",
       "    .dataframe thead th {\n",
       "        text-align: right;\n",
       "    }\n",
       "</style>\n",
       "<table border=\"1\" class=\"dataframe\">\n",
       "  <thead>\n",
       "    <tr style=\"text-align: right;\">\n",
       "      <th></th>\n",
       "      <th>Statistic</th>\n",
       "      <th>RD_Balance</th>\n",
       "      <th>SD_Balance</th>\n",
       "      <th>RD_Credit_Score</th>\n",
       "      <th>SD_Credit_Score</th>\n",
       "    </tr>\n",
       "  </thead>\n",
       "  <tbody>\n",
       "    <tr>\n",
       "      <th>0</th>\n",
       "      <td>Mean</td>\n",
       "      <td>502181.747275</td>\n",
       "      <td>536612.451899</td>\n",
       "      <td>822.326603</td>\n",
       "      <td>825.501710</td>\n",
       "    </tr>\n",
       "    <tr>\n",
       "      <th>1</th>\n",
       "      <td>Std</td>\n",
       "      <td>472645.099200</td>\n",
       "      <td>414670.592861</td>\n",
       "      <td>429.086412</td>\n",
       "      <td>407.082121</td>\n",
       "    </tr>\n",
       "  </tbody>\n",
       "</table>\n",
       "</div>"
      ],
      "text/plain": [
       "  Statistic     RD_Balance     SD_Balance  RD_Credit_Score  SD_Credit_Score\n",
       "0      Mean  502181.747275  536612.451899       822.326603       825.501710\n",
       "1       Std  472645.099200  414670.592861       429.086412       407.082121"
      ]
     },
     "execution_count": 36,
     "metadata": {},
     "output_type": "execute_result"
    }
   ],
   "source": [
    "RD_stats = calculate_statistics(RD)\n",
    "SD_FAST_ML_stats = calculate_statistics(SD_FAST_ML)\n",
    "compare_statistics(RD_stats, SD_FAST_ML_stats)"
   ]
  },
  {
   "attachments": {},
   "cell_type": "markdown",
   "metadata": {},
   "source": [
    "TEST"
   ]
  },
  {
   "cell_type": "code",
   "execution_count": 37,
   "metadata": {},
   "outputs": [
    {
     "data": {
      "text/html": [
       "<div>\n",
       "<style scoped>\n",
       "    .dataframe tbody tr th:only-of-type {\n",
       "        vertical-align: middle;\n",
       "    }\n",
       "\n",
       "    .dataframe tbody tr th {\n",
       "        vertical-align: top;\n",
       "    }\n",
       "\n",
       "    .dataframe thead th {\n",
       "        text-align: right;\n",
       "    }\n",
       "</style>\n",
       "<table border=\"1\" class=\"dataframe\">\n",
       "  <thead>\n",
       "    <tr style=\"text-align: right;\">\n",
       "      <th></th>\n",
       "      <th>Statistic</th>\n",
       "      <th>RD_Balance</th>\n",
       "      <th>SD_Balance</th>\n",
       "      <th>RD_Credit_Score</th>\n",
       "      <th>SD_Credit_Score</th>\n",
       "    </tr>\n",
       "  </thead>\n",
       "  <tbody>\n",
       "    <tr>\n",
       "      <th>0</th>\n",
       "      <td>Mean</td>\n",
       "      <td>502181.747275</td>\n",
       "      <td>533943.208948</td>\n",
       "      <td>822.326603</td>\n",
       "      <td>840.509613</td>\n",
       "    </tr>\n",
       "    <tr>\n",
       "      <th>1</th>\n",
       "      <td>Std</td>\n",
       "      <td>472645.099200</td>\n",
       "      <td>428938.034034</td>\n",
       "      <td>429.086412</td>\n",
       "      <td>425.492158</td>\n",
       "    </tr>\n",
       "  </tbody>\n",
       "</table>\n",
       "</div>"
      ],
      "text/plain": [
       "  Statistic     RD_Balance     SD_Balance  RD_Credit_Score  SD_Credit_Score\n",
       "0      Mean  502181.747275  533943.208948       822.326603       840.509613\n",
       "1       Std  472645.099200  428938.034034       429.086412       425.492158"
      ]
     },
     "execution_count": 37,
     "metadata": {},
     "output_type": "execute_result"
    }
   ],
   "source": [
    "RD_stats = calculate_statistics(RD)\n",
    "SD_FAST_ML_stats = calculate_statistics(SD_FAST_ML_test)\n",
    "compare_statistics(RD_stats, SD_FAST_ML_stats)"
   ]
  },
  {
   "attachments": {},
   "cell_type": "markdown",
   "metadata": {},
   "source": [
    "##### CTGAN"
   ]
  },
  {
   "attachments": {},
   "cell_type": "markdown",
   "metadata": {},
   "source": [
    "REF"
   ]
  },
  {
   "cell_type": "code",
   "execution_count": 38,
   "metadata": {},
   "outputs": [],
   "source": [
    "# RD_stats = calculate_statistics(RD)\n",
    "# SD_CTGAN_stats = calculate_statistics(SD_CTGAN)\n",
    "# compare_statistics(RD_stats, SD_CTGAN_stats)"
   ]
  },
  {
   "attachments": {},
   "cell_type": "markdown",
   "metadata": {},
   "source": [
    "TEST"
   ]
  },
  {
   "cell_type": "code",
   "execution_count": 39,
   "metadata": {},
   "outputs": [],
   "source": [
    "# RD_stats = calculate_statistics(RD)\n",
    "# SD_CTGAN_stats = calculate_statistics(SD_CTGAN_test)\n",
    "# compare_statistics(RD_stats, SD_CTGAN_stats)"
   ]
  },
  {
   "attachments": {},
   "cell_type": "markdown",
   "metadata": {},
   "source": [
    "##### HMA"
   ]
  },
  {
   "attachments": {},
   "cell_type": "markdown",
   "metadata": {},
   "source": [
    "REF"
   ]
  },
  {
   "cell_type": "code",
   "execution_count": 40,
   "metadata": {},
   "outputs": [
    {
     "data": {
      "text/html": [
       "<div>\n",
       "<style scoped>\n",
       "    .dataframe tbody tr th:only-of-type {\n",
       "        vertical-align: middle;\n",
       "    }\n",
       "\n",
       "    .dataframe tbody tr th {\n",
       "        vertical-align: top;\n",
       "    }\n",
       "\n",
       "    .dataframe thead th {\n",
       "        text-align: right;\n",
       "    }\n",
       "</style>\n",
       "<table border=\"1\" class=\"dataframe\">\n",
       "  <thead>\n",
       "    <tr style=\"text-align: right;\">\n",
       "      <th></th>\n",
       "      <th>Statistic</th>\n",
       "      <th>RD_Balance</th>\n",
       "      <th>SD_Balance</th>\n",
       "      <th>RD_Credit_Score</th>\n",
       "      <th>SD_Credit_Score</th>\n",
       "    </tr>\n",
       "  </thead>\n",
       "  <tbody>\n",
       "    <tr>\n",
       "      <th>0</th>\n",
       "      <td>Mean</td>\n",
       "      <td>502181.747275</td>\n",
       "      <td>501840.886799</td>\n",
       "      <td>822.326603</td>\n",
       "      <td>829.322619</td>\n",
       "    </tr>\n",
       "    <tr>\n",
       "      <th>1</th>\n",
       "      <td>Std</td>\n",
       "      <td>472645.099200</td>\n",
       "      <td>469844.973593</td>\n",
       "      <td>429.086412</td>\n",
       "      <td>449.160143</td>\n",
       "    </tr>\n",
       "  </tbody>\n",
       "</table>\n",
       "</div>"
      ],
      "text/plain": [
       "  Statistic     RD_Balance     SD_Balance  RD_Credit_Score  SD_Credit_Score\n",
       "0      Mean  502181.747275  501840.886799       822.326603       829.322619\n",
       "1       Std  472645.099200  469844.973593       429.086412       449.160143"
      ]
     },
     "execution_count": 40,
     "metadata": {},
     "output_type": "execute_result"
    }
   ],
   "source": [
    "RD_stats = calculate_statistics(RD)\n",
    "SD_HMA_stats = calculate_statistics(SD_HMA)\n",
    "compare_statistics(RD_stats, SD_HMA_stats)"
   ]
  },
  {
   "attachments": {},
   "cell_type": "markdown",
   "metadata": {},
   "source": [
    "TEST"
   ]
  },
  {
   "cell_type": "code",
   "execution_count": 41,
   "metadata": {},
   "outputs": [
    {
     "data": {
      "text/html": [
       "<div>\n",
       "<style scoped>\n",
       "    .dataframe tbody tr th:only-of-type {\n",
       "        vertical-align: middle;\n",
       "    }\n",
       "\n",
       "    .dataframe tbody tr th {\n",
       "        vertical-align: top;\n",
       "    }\n",
       "\n",
       "    .dataframe thead th {\n",
       "        text-align: right;\n",
       "    }\n",
       "</style>\n",
       "<table border=\"1\" class=\"dataframe\">\n",
       "  <thead>\n",
       "    <tr style=\"text-align: right;\">\n",
       "      <th></th>\n",
       "      <th>Statistic</th>\n",
       "      <th>RD_Balance</th>\n",
       "      <th>SD_Balance</th>\n",
       "      <th>RD_Credit_Score</th>\n",
       "      <th>SD_Credit_Score</th>\n",
       "    </tr>\n",
       "  </thead>\n",
       "  <tbody>\n",
       "    <tr>\n",
       "      <th>0</th>\n",
       "      <td>Mean</td>\n",
       "      <td>502181.747275</td>\n",
       "      <td>503634.254569</td>\n",
       "      <td>822.326603</td>\n",
       "      <td>841.803805</td>\n",
       "    </tr>\n",
       "    <tr>\n",
       "      <th>1</th>\n",
       "      <td>Std</td>\n",
       "      <td>472645.099200</td>\n",
       "      <td>464968.967484</td>\n",
       "      <td>429.086412</td>\n",
       "      <td>458.127227</td>\n",
       "    </tr>\n",
       "  </tbody>\n",
       "</table>\n",
       "</div>"
      ],
      "text/plain": [
       "  Statistic     RD_Balance     SD_Balance  RD_Credit_Score  SD_Credit_Score\n",
       "0      Mean  502181.747275  503634.254569       822.326603       841.803805\n",
       "1       Std  472645.099200  464968.967484       429.086412       458.127227"
      ]
     },
     "execution_count": 41,
     "metadata": {},
     "output_type": "execute_result"
    }
   ],
   "source": [
    "RD_stats = calculate_statistics(RD)\n",
    "SD_HMA_stats = calculate_statistics(SD_HMA_test)\n",
    "compare_statistics(RD_stats, SD_HMA_stats)"
   ]
  },
  {
   "attachments": {},
   "cell_type": "markdown",
   "metadata": {},
   "source": [
    "### Metrics"
   ]
  },
  {
   "attachments": {},
   "cell_type": "markdown",
   "metadata": {},
   "source": [
    "In this section a reference SD and a new test SD are compared to the RD to evaluate quality on synthetic data and provide diagnostic information."
   ]
  },
  {
   "attachments": {},
   "cell_type": "markdown",
   "metadata": {},
   "source": [
    "##### FAST_ML"
   ]
  },
  {
   "attachments": {},
   "cell_type": "markdown",
   "metadata": {},
   "source": [
    "REF"
   ]
  },
  {
   "cell_type": "code",
   "execution_count": 42,
   "metadata": {},
   "outputs": [
    {
     "name": "stderr",
     "output_type": "stream",
     "text": [
      "Creating report: 100%|██████████| 4/4 [00:12<00:00,  3.10s/it]\n"
     ]
    },
    {
     "name": "stdout",
     "output_type": "stream",
     "text": [
      "\n",
      "Overall Quality Score: 90.61%\n",
      "\n",
      "Properties:\n",
      "Column Shapes: 92.61%\n",
      "Column Pair Trends: 88.6%\n"
     ]
    }
   ],
   "source": [
    "quality_report = eqs(\n",
    "    real_data=RD,\n",
    "    synthetic_data=SD_FAST_ML,\n",
    "    metadata=metadata_st\n",
    ")"
   ]
  },
  {
   "cell_type": "code",
   "execution_count": 43,
   "metadata": {},
   "outputs": [
    {
     "data": {
      "text/html": [
       "<div>\n",
       "<style scoped>\n",
       "    .dataframe tbody tr th:only-of-type {\n",
       "        vertical-align: middle;\n",
       "    }\n",
       "\n",
       "    .dataframe tbody tr th {\n",
       "        vertical-align: top;\n",
       "    }\n",
       "\n",
       "    .dataframe thead th {\n",
       "        text-align: right;\n",
       "    }\n",
       "</style>\n",
       "<table border=\"1\" class=\"dataframe\">\n",
       "  <thead>\n",
       "    <tr style=\"text-align: right;\">\n",
       "      <th></th>\n",
       "      <th>Column</th>\n",
       "      <th>Metric</th>\n",
       "      <th>Quality Score</th>\n",
       "    </tr>\n",
       "  </thead>\n",
       "  <tbody>\n",
       "    <tr>\n",
       "      <th>0</th>\n",
       "      <td>Balance</td>\n",
       "      <td>KSComplement</td>\n",
       "      <td>0.856408</td>\n",
       "    </tr>\n",
       "    <tr>\n",
       "      <th>1</th>\n",
       "      <td>Last_Transaction_Date</td>\n",
       "      <td>KSComplement</td>\n",
       "      <td>0.941388</td>\n",
       "    </tr>\n",
       "    <tr>\n",
       "      <th>2</th>\n",
       "      <td>Last_Transaction_Amount</td>\n",
       "      <td>KSComplement</td>\n",
       "      <td>0.942081</td>\n",
       "    </tr>\n",
       "    <tr>\n",
       "      <th>3</th>\n",
       "      <td>Tot_Transaction_Amount</td>\n",
       "      <td>KSComplement</td>\n",
       "      <td>0.939183</td>\n",
       "    </tr>\n",
       "    <tr>\n",
       "      <th>4</th>\n",
       "      <td>Credit_Score</td>\n",
       "      <td>KSComplement</td>\n",
       "      <td>0.912097</td>\n",
       "    </tr>\n",
       "    <tr>\n",
       "      <th>5</th>\n",
       "      <td>Loan_Amount</td>\n",
       "      <td>KSComplement</td>\n",
       "      <td>0.942067</td>\n",
       "    </tr>\n",
       "    <tr>\n",
       "      <th>6</th>\n",
       "      <td>Interest_Rate</td>\n",
       "      <td>KSComplement</td>\n",
       "      <td>0.941535</td>\n",
       "    </tr>\n",
       "    <tr>\n",
       "      <th>7</th>\n",
       "      <td>Account_Type</td>\n",
       "      <td>TVComplement</td>\n",
       "      <td>0.999144</td>\n",
       "    </tr>\n",
       "    <tr>\n",
       "      <th>8</th>\n",
       "      <td>Currency</td>\n",
       "      <td>TVComplement</td>\n",
       "      <td>1.000000</td>\n",
       "    </tr>\n",
       "    <tr>\n",
       "      <th>9</th>\n",
       "      <td>Region</td>\n",
       "      <td>TVComplement</td>\n",
       "      <td>0.866659</td>\n",
       "    </tr>\n",
       "    <tr>\n",
       "      <th>10</th>\n",
       "      <td>Employment_Type</td>\n",
       "      <td>TVComplement</td>\n",
       "      <td>0.881330</td>\n",
       "    </tr>\n",
       "    <tr>\n",
       "      <th>11</th>\n",
       "      <td>Loan_Term</td>\n",
       "      <td>TVComplement</td>\n",
       "      <td>0.891841</td>\n",
       "    </tr>\n",
       "  </tbody>\n",
       "</table>\n",
       "</div>"
      ],
      "text/plain": [
       "                     Column        Metric  Quality Score\n",
       "0                   Balance  KSComplement       0.856408\n",
       "1     Last_Transaction_Date  KSComplement       0.941388\n",
       "2   Last_Transaction_Amount  KSComplement       0.942081\n",
       "3    Tot_Transaction_Amount  KSComplement       0.939183\n",
       "4              Credit_Score  KSComplement       0.912097\n",
       "5               Loan_Amount  KSComplement       0.942067\n",
       "6             Interest_Rate  KSComplement       0.941535\n",
       "7              Account_Type  TVComplement       0.999144\n",
       "8                  Currency  TVComplement       1.000000\n",
       "9                    Region  TVComplement       0.866659\n",
       "10          Employment_Type  TVComplement       0.881330\n",
       "11                Loan_Term  TVComplement       0.891841"
      ]
     },
     "execution_count": 43,
     "metadata": {},
     "output_type": "execute_result"
    }
   ],
   "source": [
    "quality_report.get_details(property_name='Column Shapes')"
   ]
  },
  {
   "attachments": {},
   "cell_type": "markdown",
   "metadata": {},
   "source": [
    "TEST"
   ]
  },
  {
   "cell_type": "code",
   "execution_count": 45,
   "metadata": {},
   "outputs": [
    {
     "name": "stderr",
     "output_type": "stream",
     "text": [
      "Creating report:   0%|          | 0/4 [00:00<?, ?it/s]\n"
     ]
    },
    {
     "ename": "ValueError",
     "evalue": "`real_data` and `synthetic_data` must have the same columns",
     "output_type": "error",
     "traceback": [
      "\u001b[1;31m---------------------------------------------------------------------------\u001b[0m",
      "\u001b[1;31mValueError\u001b[0m                                Traceback (most recent call last)",
      "\u001b[1;32mc:\\Users\\david\\Desktop\\Davide\\SyntheticData\\Github\\SyntheticData\\src\\SM.ipynb Cell 42\u001b[0m in \u001b[0;36m<cell line: 1>\u001b[1;34m()\u001b[0m\n\u001b[1;32m----> <a href='vscode-notebook-cell:/c%3A/Users/david/Desktop/Davide/SyntheticData/Github/SyntheticData/src/SM.ipynb#X56sZmlsZQ%3D%3D?line=0'>1</a>\u001b[0m quality_report_test \u001b[39m=\u001b[39m eqs(\n\u001b[0;32m      <a href='vscode-notebook-cell:/c%3A/Users/david/Desktop/Davide/SyntheticData/Github/SyntheticData/src/SM.ipynb#X56sZmlsZQ%3D%3D?line=1'>2</a>\u001b[0m     real_data\u001b[39m=\u001b[39;49mRD,\n\u001b[0;32m      <a href='vscode-notebook-cell:/c%3A/Users/david/Desktop/Davide/SyntheticData/Github/SyntheticData/src/SM.ipynb#X56sZmlsZQ%3D%3D?line=2'>3</a>\u001b[0m     synthetic_data\u001b[39m=\u001b[39;49mSD_FAST_ML_test,\n\u001b[0;32m      <a href='vscode-notebook-cell:/c%3A/Users/david/Desktop/Davide/SyntheticData/Github/SyntheticData/src/SM.ipynb#X56sZmlsZQ%3D%3D?line=3'>4</a>\u001b[0m     metadata\u001b[39m=\u001b[39;49mmetadata_st\n\u001b[0;32m      <a href='vscode-notebook-cell:/c%3A/Users/david/Desktop/Davide/SyntheticData/Github/SyntheticData/src/SM.ipynb#X56sZmlsZQ%3D%3D?line=4'>5</a>\u001b[0m )\n",
      "File \u001b[1;32mc:\\Users\\david\\miniconda3\\envs\\SDV_env\\lib\\site-packages\\sdv\\evaluation\\single_table.py:27\u001b[0m, in \u001b[0;36mevaluate_quality\u001b[1;34m(real_data, synthetic_data, metadata, verbose)\u001b[0m\n\u001b[0;32m      9\u001b[0m \u001b[39m\u001b[39m\u001b[39m\"\"\"Evaluate the quality of the synthetic data.\u001b[39;00m\n\u001b[0;32m     10\u001b[0m \n\u001b[0;32m     11\u001b[0m \u001b[39mArgs:\u001b[39;00m\n\u001b[1;32m   (...)\u001b[0m\n\u001b[0;32m     24\u001b[0m \u001b[39m        Single table quality report object.\u001b[39;00m\n\u001b[0;32m     25\u001b[0m \u001b[39m\"\"\"\u001b[39;00m\n\u001b[0;32m     26\u001b[0m quality_report \u001b[39m=\u001b[39m QualityReport()\n\u001b[1;32m---> 27\u001b[0m quality_report\u001b[39m.\u001b[39;49mgenerate(real_data, synthetic_data, metadata\u001b[39m.\u001b[39;49mto_dict(), verbose)\n\u001b[0;32m     28\u001b[0m \u001b[39mreturn\u001b[39;00m quality_report\n",
      "File \u001b[1;32mc:\\Users\\david\\miniconda3\\envs\\SDV_env\\lib\\site-packages\\sdmetrics\\reports\\single_table\\quality_report.py:77\u001b[0m, in \u001b[0;36mQualityReport.generate\u001b[1;34m(self, real_data, synthetic_data, metadata, verbose)\u001b[0m\n\u001b[0;32m     75\u001b[0m \u001b[39mfor\u001b[39;00m metric \u001b[39min\u001b[39;00m tqdm\u001b[39m.\u001b[39mtqdm(metrics, desc\u001b[39m=\u001b[39m\u001b[39m'\u001b[39m\u001b[39mCreating report\u001b[39m\u001b[39m'\u001b[39m, disable\u001b[39m=\u001b[39m(\u001b[39mnot\u001b[39;00m verbose)):\n\u001b[0;32m     76\u001b[0m     \u001b[39mtry\u001b[39;00m:\n\u001b[1;32m---> 77\u001b[0m         \u001b[39mself\u001b[39m\u001b[39m.\u001b[39m_metric_results[metric\u001b[39m.\u001b[39m\u001b[39m__name__\u001b[39m] \u001b[39m=\u001b[39m metric\u001b[39m.\u001b[39;49mcompute_breakdown(\n\u001b[0;32m     78\u001b[0m             real_data, synthetic_data, metadata)\n\u001b[0;32m     79\u001b[0m     \u001b[39mexcept\u001b[39;00m IncomputableMetricError:\n\u001b[0;32m     80\u001b[0m         \u001b[39m# Metric is not compatible with this dataset.\u001b[39;00m\n\u001b[0;32m     81\u001b[0m         \u001b[39mself\u001b[39m\u001b[39m.\u001b[39m_metric_results[metric\u001b[39m.\u001b[39m\u001b[39m__name__\u001b[39m] \u001b[39m=\u001b[39m {}\n",
      "File \u001b[1;32mc:\\Users\\david\\miniconda3\\envs\\SDV_env\\lib\\site-packages\\sdmetrics\\single_table\\multi_single_column.py:147\u001b[0m, in \u001b[0;36mMultiSingleColumnMetric.compute_breakdown\u001b[1;34m(cls, real_data, synthetic_data, metadata, **kwargs)\u001b[0m\n\u001b[0;32m    123\u001b[0m \u001b[39m@classmethod\u001b[39m\n\u001b[0;32m    124\u001b[0m \u001b[39mdef\u001b[39;00m \u001b[39mcompute_breakdown\u001b[39m(\u001b[39mcls\u001b[39m, real_data, synthetic_data, metadata\u001b[39m=\u001b[39m\u001b[39mNone\u001b[39;00m, \u001b[39m*\u001b[39m\u001b[39m*\u001b[39mkwargs):\n\u001b[0;32m    125\u001b[0m \u001b[39m    \u001b[39m\u001b[39m\"\"\"Compute this metric broken down by column.\u001b[39;00m\n\u001b[0;32m    126\u001b[0m \n\u001b[0;32m    127\u001b[0m \u001b[39m    This is done by computing the underlying SingleColumn metric to all the\u001b[39;00m\n\u001b[1;32m   (...)\u001b[0m\n\u001b[0;32m    145\u001b[0m \u001b[39m            A mapping of column name to metric output.\u001b[39;00m\n\u001b[0;32m    146\u001b[0m \u001b[39m    \"\"\"\u001b[39;00m\n\u001b[1;32m--> 147\u001b[0m     \u001b[39mreturn\u001b[39;00m \u001b[39mcls\u001b[39;49m\u001b[39m.\u001b[39;49m_compute(\n\u001b[0;32m    148\u001b[0m         \u001b[39mcls\u001b[39;49m, real_data, synthetic_data, metadata, store_errors\u001b[39m=\u001b[39;49m\u001b[39mTrue\u001b[39;49;00m, \u001b[39m*\u001b[39;49m\u001b[39m*\u001b[39;49mkwargs)\n",
      "File \u001b[1;32mc:\\Users\\david\\miniconda3\\envs\\SDV_env\\lib\\site-packages\\sdmetrics\\single_table\\multi_single_column.py:68\u001b[0m, in \u001b[0;36mMultiSingleColumnMetric._compute\u001b[1;34m(self, real_data, synthetic_data, metadata, store_errors, **kwargs)\u001b[0m\n\u001b[0;32m     43\u001b[0m \u001b[39mdef\u001b[39;00m \u001b[39m_compute\u001b[39m(\u001b[39mself\u001b[39m, real_data, synthetic_data, metadata\u001b[39m=\u001b[39m\u001b[39mNone\u001b[39;00m, store_errors\u001b[39m=\u001b[39m\u001b[39mFalse\u001b[39;00m, \u001b[39m*\u001b[39m\u001b[39m*\u001b[39mkwargs):\n\u001b[0;32m     44\u001b[0m \u001b[39m    \u001b[39m\u001b[39m\"\"\"Compute this metric for all columns.\u001b[39;00m\n\u001b[0;32m     45\u001b[0m \n\u001b[0;32m     46\u001b[0m \u001b[39m    This is done by computing the underlying SingleColumn metric to all the\u001b[39;00m\n\u001b[1;32m   (...)\u001b[0m\n\u001b[0;32m     66\u001b[0m \u001b[39m            A mapping of column name to metric output.\u001b[39;00m\n\u001b[0;32m     67\u001b[0m \u001b[39m    \"\"\"\u001b[39;00m\n\u001b[1;32m---> 68\u001b[0m     real_data, synthetic_data, metadata \u001b[39m=\u001b[39m \u001b[39mself\u001b[39;49m\u001b[39m.\u001b[39;49m_validate_inputs(\n\u001b[0;32m     69\u001b[0m         real_data, synthetic_data, metadata)\n\u001b[0;32m     71\u001b[0m     fields \u001b[39m=\u001b[39m \u001b[39mself\u001b[39m\u001b[39m.\u001b[39m_select_fields(metadata, \u001b[39mself\u001b[39m\u001b[39m.\u001b[39mfield_types)\n\u001b[0;32m     72\u001b[0m     invalid_cols \u001b[39m=\u001b[39m \u001b[39mset\u001b[39m(get_columns_from_metadata(metadata)\u001b[39m.\u001b[39mkeys()) \u001b[39m-\u001b[39m \u001b[39mset\u001b[39m(fields)\n",
      "File \u001b[1;32mc:\\Users\\david\\miniconda3\\envs\\SDV_env\\lib\\site-packages\\sdmetrics\\single_table\\base.py:119\u001b[0m, in \u001b[0;36mSingleTableMetric._validate_inputs\u001b[1;34m(cls, real_data, synthetic_data, metadata)\u001b[0m\n\u001b[0;32m    116\u001b[0m     metadata \u001b[39m=\u001b[39m copy\u001b[39m.\u001b[39mdeepcopy(metadata)\n\u001b[0;32m    118\u001b[0m \u001b[39mif\u001b[39;00m \u001b[39mset\u001b[39m(real_data\u001b[39m.\u001b[39mcolumns) \u001b[39m!=\u001b[39m \u001b[39mset\u001b[39m(synthetic_data\u001b[39m.\u001b[39mcolumns):\n\u001b[1;32m--> 119\u001b[0m     \u001b[39mraise\u001b[39;00m \u001b[39mValueError\u001b[39;00m(\u001b[39m'\u001b[39m\u001b[39m`real_data` and `synthetic_data` must have the same columns\u001b[39m\u001b[39m'\u001b[39m)\n\u001b[0;32m    121\u001b[0m \u001b[39mif\u001b[39;00m metadata \u001b[39mis\u001b[39;00m \u001b[39mnot\u001b[39;00m \u001b[39mNone\u001b[39;00m:\n\u001b[0;32m    122\u001b[0m     \u001b[39mif\u001b[39;00m \u001b[39mnot\u001b[39;00m \u001b[39misinstance\u001b[39m(metadata, \u001b[39mdict\u001b[39m):\n",
      "\u001b[1;31mValueError\u001b[0m: `real_data` and `synthetic_data` must have the same columns"
     ]
    }
   ],
   "source": [
    "quality_report_test = eqs(\n",
    "    real_data=RD,\n",
    "    synthetic_data=SD_FAST_ML_test,\n",
    "    metadata=metadata_st\n",
    ")"
   ]
  },
  {
   "cell_type": "code",
   "execution_count": null,
   "metadata": {},
   "outputs": [],
   "source": [
    "quality_report_test.get_details(property_name='Column Shapes')"
   ]
  },
  {
   "attachments": {},
   "cell_type": "markdown",
   "metadata": {},
   "source": [
    "##### CTGAN"
   ]
  },
  {
   "attachments": {},
   "cell_type": "markdown",
   "metadata": {},
   "source": [
    "REF"
   ]
  },
  {
   "cell_type": "code",
   "execution_count": null,
   "metadata": {},
   "outputs": [],
   "source": [
    "# quality_report = eqs(\n",
    "#     real_data=RD,\n",
    "#     synthetic_data=SD_CTGAN,\n",
    "#     metadata=metadata_st\n",
    "# )"
   ]
  },
  {
   "cell_type": "code",
   "execution_count": null,
   "metadata": {},
   "outputs": [],
   "source": [
    "# quality_report.get_details(property_name='Column Shapes')"
   ]
  },
  {
   "attachments": {},
   "cell_type": "markdown",
   "metadata": {},
   "source": [
    "TEST"
   ]
  },
  {
   "cell_type": "code",
   "execution_count": null,
   "metadata": {},
   "outputs": [],
   "source": [
    "# quality_report_test = eqs(\n",
    "#     real_data=RD,\n",
    "#     synthetic_data=SD_CTGAN_test,\n",
    "#     metadata=metadata_st\n",
    "# )"
   ]
  },
  {
   "cell_type": "code",
   "execution_count": null,
   "metadata": {},
   "outputs": [],
   "source": [
    "# quality_report_test.get_details(property_name='Column Shapes')"
   ]
  },
  {
   "attachments": {},
   "cell_type": "markdown",
   "metadata": {},
   "source": [
    "##### HMA"
   ]
  },
  {
   "cell_type": "code",
   "execution_count": 50,
   "metadata": {},
   "outputs": [],
   "source": [
    "# Data dictionaries for quality evaluation\n",
    "real_data = {'d1': RD}\n",
    "synthetic_data = {'d1': SD_HMA}\n",
    "synthetic_data_test = {'d1': SD_HMA_test}"
   ]
  },
  {
   "attachments": {},
   "cell_type": "markdown",
   "metadata": {},
   "source": [
    "REF"
   ]
  },
  {
   "cell_type": "code",
   "execution_count": 51,
   "metadata": {},
   "outputs": [
    {
     "name": "stderr",
     "output_type": "stream",
     "text": [
      "Creating report: 100%|██████████| 5/5 [00:20<00:00,  4.16s/it]\n"
     ]
    },
    {
     "name": "stdout",
     "output_type": "stream",
     "text": [
      "\n",
      "Overall Quality Score: 97.8%\n",
      "\n",
      "Properties:\n",
      "Column Shapes: 98.9%\n",
      "Column Pair Trends: 96.7%\n",
      "Parent Child Relationships: NaN\n"
     ]
    },
    {
     "name": "stderr",
     "output_type": "stream",
     "text": [
      "c:\\Users\\david\\miniconda3\\envs\\SDV_env\\lib\\site-packages\\sdmetrics\\reports\\multi_table\\quality_report.py:127: RuntimeWarning: Mean of empty slice\n",
      "  self._property_breakdown[prop] = np.nanmean(prop_scores) if (\n"
     ]
    }
   ],
   "source": [
    "quality_report = eqm(\n",
    "    real_data=real_data,\n",
    "    synthetic_data=synthetic_data,\n",
    "    metadata=metadata_mt\n",
    ")"
   ]
  },
  {
   "cell_type": "code",
   "execution_count": 52,
   "metadata": {},
   "outputs": [
    {
     "data": {
      "text/html": [
       "<div>\n",
       "<style scoped>\n",
       "    .dataframe tbody tr th:only-of-type {\n",
       "        vertical-align: middle;\n",
       "    }\n",
       "\n",
       "    .dataframe tbody tr th {\n",
       "        vertical-align: top;\n",
       "    }\n",
       "\n",
       "    .dataframe thead th {\n",
       "        text-align: right;\n",
       "    }\n",
       "</style>\n",
       "<table border=\"1\" class=\"dataframe\">\n",
       "  <thead>\n",
       "    <tr style=\"text-align: right;\">\n",
       "      <th></th>\n",
       "      <th>Table</th>\n",
       "      <th>Column</th>\n",
       "      <th>Metric</th>\n",
       "      <th>Quality Score</th>\n",
       "    </tr>\n",
       "  </thead>\n",
       "  <tbody>\n",
       "    <tr>\n",
       "      <th>0</th>\n",
       "      <td>d1</td>\n",
       "      <td>Balance</td>\n",
       "      <td>KSComplement</td>\n",
       "      <td>0.982929</td>\n",
       "    </tr>\n",
       "    <tr>\n",
       "      <th>1</th>\n",
       "      <td>d1</td>\n",
       "      <td>Last_Transaction_Date</td>\n",
       "      <td>KSComplement</td>\n",
       "      <td>0.997223</td>\n",
       "    </tr>\n",
       "    <tr>\n",
       "      <th>2</th>\n",
       "      <td>d1</td>\n",
       "      <td>Last_Transaction_Amount</td>\n",
       "      <td>KSComplement</td>\n",
       "      <td>0.998663</td>\n",
       "    </tr>\n",
       "    <tr>\n",
       "      <th>3</th>\n",
       "      <td>d1</td>\n",
       "      <td>Tot_Transaction_Amount</td>\n",
       "      <td>KSComplement</td>\n",
       "      <td>0.987003</td>\n",
       "    </tr>\n",
       "    <tr>\n",
       "      <th>4</th>\n",
       "      <td>d1</td>\n",
       "      <td>Credit_Score</td>\n",
       "      <td>KSComplement</td>\n",
       "      <td>0.910966</td>\n",
       "    </tr>\n",
       "    <tr>\n",
       "      <th>5</th>\n",
       "      <td>d1</td>\n",
       "      <td>Loan_Amount</td>\n",
       "      <td>KSComplement</td>\n",
       "      <td>0.998410</td>\n",
       "    </tr>\n",
       "    <tr>\n",
       "      <th>6</th>\n",
       "      <td>d1</td>\n",
       "      <td>Interest_Rate</td>\n",
       "      <td>KSComplement</td>\n",
       "      <td>0.998039</td>\n",
       "    </tr>\n",
       "    <tr>\n",
       "      <th>7</th>\n",
       "      <td>d1</td>\n",
       "      <td>Account_Type</td>\n",
       "      <td>TVComplement</td>\n",
       "      <td>0.999803</td>\n",
       "    </tr>\n",
       "    <tr>\n",
       "      <th>8</th>\n",
       "      <td>d1</td>\n",
       "      <td>Currency</td>\n",
       "      <td>TVComplement</td>\n",
       "      <td>1.000000</td>\n",
       "    </tr>\n",
       "    <tr>\n",
       "      <th>9</th>\n",
       "      <td>d1</td>\n",
       "      <td>Region</td>\n",
       "      <td>TVComplement</td>\n",
       "      <td>0.997105</td>\n",
       "    </tr>\n",
       "    <tr>\n",
       "      <th>10</th>\n",
       "      <td>d1</td>\n",
       "      <td>Employment_Type</td>\n",
       "      <td>TVComplement</td>\n",
       "      <td>0.999563</td>\n",
       "    </tr>\n",
       "    <tr>\n",
       "      <th>11</th>\n",
       "      <td>d1</td>\n",
       "      <td>Loan_Term</td>\n",
       "      <td>TVComplement</td>\n",
       "      <td>0.998630</td>\n",
       "    </tr>\n",
       "  </tbody>\n",
       "</table>\n",
       "</div>"
      ],
      "text/plain": [
       "   Table                   Column        Metric  Quality Score\n",
       "0     d1                  Balance  KSComplement       0.982929\n",
       "1     d1    Last_Transaction_Date  KSComplement       0.997223\n",
       "2     d1  Last_Transaction_Amount  KSComplement       0.998663\n",
       "3     d1   Tot_Transaction_Amount  KSComplement       0.987003\n",
       "4     d1             Credit_Score  KSComplement       0.910966\n",
       "5     d1              Loan_Amount  KSComplement       0.998410\n",
       "6     d1            Interest_Rate  KSComplement       0.998039\n",
       "7     d1             Account_Type  TVComplement       0.999803\n",
       "8     d1                 Currency  TVComplement       1.000000\n",
       "9     d1                   Region  TVComplement       0.997105\n",
       "10    d1          Employment_Type  TVComplement       0.999563\n",
       "11    d1                Loan_Term  TVComplement       0.998630"
      ]
     },
     "execution_count": 52,
     "metadata": {},
     "output_type": "execute_result"
    }
   ],
   "source": [
    "quality_report.get_details(property_name='Column Shapes')"
   ]
  },
  {
   "attachments": {},
   "cell_type": "markdown",
   "metadata": {},
   "source": [
    "TEST"
   ]
  },
  {
   "cell_type": "code",
   "execution_count": null,
   "metadata": {},
   "outputs": [],
   "source": [
    "quality_report = eqm(\n",
    "    real_data=real_data,\n",
    "    synthetic_data=synthetic_data_test,\n",
    "    metadata=metadata_mt\n",
    ")"
   ]
  },
  {
   "cell_type": "code",
   "execution_count": null,
   "metadata": {},
   "outputs": [],
   "source": [
    "quality_report.get_details(property_name='Column Shapes')"
   ]
  },
  {
   "attachments": {},
   "cell_type": "markdown",
   "metadata": {},
   "source": [
    "### Visual Evaluation"
   ]
  },
  {
   "attachments": {},
   "cell_type": "markdown",
   "metadata": {},
   "source": [
    "##### FAST_ML"
   ]
  },
  {
   "cell_type": "code",
   "execution_count": 54,
   "metadata": {},
   "outputs": [
    {
     "name": "stdout",
     "output_type": "stream",
     "text": [
      "IPython not installed.\n"
     ]
    }
   ],
   "source": [
    "from table_evaluator import TableEvaluator\n",
    "categorical = ['Account_Type', 'Currency', 'Region', 'Employment_Type', 'Loan_Term']\n",
    "table_evaluator = TableEvaluator(RD, SD_FAST_ML, cat_cols=categorical)\n",
    "table_evaluator.visual_evaluation()"
   ]
  }
 ],
 "metadata": {
  "kernelspec": {
   "display_name": "SDV_env",
   "language": "python",
   "name": "python3"
  },
  "language_info": {
   "codemirror_mode": {
    "name": "ipython",
    "version": 3
   },
   "file_extension": ".py",
   "mimetype": "text/x-python",
   "name": "python",
   "nbconvert_exporter": "python",
   "pygments_lexer": "ipython3",
   "version": "3.8.16"
  },
  "orig_nbformat": 4
 },
 "nbformat": 4,
 "nbformat_minor": 2
}
