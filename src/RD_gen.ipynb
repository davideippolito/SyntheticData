{
 "cells": [
  {
   "attachments": {},
   "cell_type": "markdown",
   "metadata": {},
   "source": [
    "# Client Data Generation"
   ]
  },
  {
   "attachments": {},
   "cell_type": "markdown",
   "metadata": {},
   "source": [
    "### Import"
   ]
  },
  {
   "cell_type": "code",
   "execution_count": 26,
   "metadata": {},
   "outputs": [],
   "source": [
    "import os\n",
    "import pandas as pd\n",
    "from sdv.single_table import CTGANSynthesizer"
   ]
  },
  {
   "attachments": {},
   "cell_type": "markdown",
   "metadata": {},
   "source": [
    "External Functions"
   ]
  },
  {
   "cell_type": "code",
   "execution_count": 27,
   "metadata": {},
   "outputs": [],
   "source": [
    "%run utils/Generator_c.py\n",
    "%run utils/Corrector.py\n",
    "%run utils/Correlator.py"
   ]
  },
  {
   "attachments": {},
   "cell_type": "markdown",
   "metadata": {},
   "source": [
    "Data Paths"
   ]
  },
  {
   "cell_type": "code",
   "execution_count": 28,
   "metadata": {},
   "outputs": [],
   "source": [
    "# Real Dataset Output\n",
    "path_RD = '../data/real_data/d_c.csv'\n",
    "\n",
    "# Metadata based on Real Dataset Output\n",
    "path_metadata_st = '../data/metadata/metadata_st_d_c.json'\n",
    "path_metadata_mt = '../data/metadata/metadata_mt_d_c.json'"
   ]
  },
  {
   "attachments": {},
   "cell_type": "markdown",
   "metadata": {},
   "source": [
    "### Real Dataset Generation"
   ]
  },
  {
   "cell_type": "code",
   "execution_count": 29,
   "metadata": {},
   "outputs": [],
   "source": [
    "# Number of subjects\n",
    "n = 1000 # 1K"
   ]
  },
  {
   "cell_type": "code",
   "execution_count": 30,
   "metadata": {},
   "outputs": [],
   "source": [
    "# Generate a random dataset\n",
    "data = generate_banking_dataset(n)"
   ]
  },
  {
   "attachments": {},
   "cell_type": "markdown",
   "metadata": {},
   "source": [
    "Correction and Correlation"
   ]
  },
  {
   "cell_type": "code",
   "execution_count": 31,
   "metadata": {},
   "outputs": [],
   "source": [
    "# Apply corrections on Real Data dataset\n",
    "correct_tot_transaction_amount(data)"
   ]
  },
  {
   "cell_type": "code",
   "execution_count": 32,
   "metadata": {},
   "outputs": [],
   "source": [
    "# Introduce dependencies between columns\n",
    "dependency_balance_region(data)\n",
    "dependency_balance_employment_type(data)\n",
    "dependency_tot_transaction_amount_credit_score(data)"
   ]
  },
  {
   "attachments": {},
   "cell_type": "markdown",
   "metadata": {},
   "source": [
    "Export"
   ]
  },
  {
   "cell_type": "code",
   "execution_count": 33,
   "metadata": {},
   "outputs": [],
   "source": [
    "# Check if the file exists and delete it if it does\n",
    "if os.path.isfile(path_RD):\n",
    "    os.remove(path_RD)\n",
    "    \n",
    "# Export of the dataset\n",
    "RD = pd.DataFrame(data)\n",
    "RD.to_csv(path_RD, index=False)"
   ]
  },
  {
   "attachments": {},
   "cell_type": "markdown",
   "metadata": {},
   "source": [
    "### Metadata Generation"
   ]
  },
  {
   "cell_type": "code",
   "execution_count": 34,
   "metadata": {},
   "outputs": [],
   "source": [
    "\n",
    "# Generate metadata st\n",
    "metadata_st = generate_banking_metadata_st(RD)"
   ]
  },
  {
   "cell_type": "code",
   "execution_count": 35,
   "metadata": {},
   "outputs": [],
   "source": [
    "%run utils/Generator_c.py\n",
    "%run utils/Corrector.py\n",
    "%run utils/Correlator.py\n",
    "# Generate metadata mt\n",
    "metadata_mt = generate_banking_metadata_mt(RD)"
   ]
  },
  {
   "attachments": {},
   "cell_type": "markdown",
   "metadata": {},
   "source": [
    "Export metadata json"
   ]
  },
  {
   "cell_type": "code",
   "execution_count": 36,
   "metadata": {},
   "outputs": [],
   "source": [
    "# Check if the file exists and delete it if it does\n",
    "if os.path.isfile(path_metadata_st_d_c):\n",
    "    os.remove(path_metadata_st_d_c)\n",
    "metadata_st.save_to_json(path_metadata_st_d_c)"
   ]
  },
  {
   "cell_type": "code",
   "execution_count": 37,
   "metadata": {},
   "outputs": [],
   "source": [
    "# Check if the file exists and delete it if it does\n",
    "if os.path.isfile(path_metadata_mt_d_c):\n",
    "    os.remove(path_metadata_mt_d_c)\n",
    "metadata_mt.save_to_json(path_metadata_mt_d_c)"
   ]
  },
  {
   "cell_type": "code",
   "execution_count": null,
   "metadata": {},
   "outputs": [],
   "source": []
  }
 ],
 "metadata": {
  "kernelspec": {
   "display_name": "SDV_env",
   "language": "python",
   "name": "python3"
  },
  "language_info": {
   "codemirror_mode": {
    "name": "ipython",
    "version": 3
   },
   "file_extension": ".py",
   "mimetype": "text/x-python",
   "name": "python",
   "nbconvert_exporter": "python",
   "pygments_lexer": "ipython3",
   "version": "3.8.16"
  },
  "orig_nbformat": 4
 },
 "nbformat": 4,
 "nbformat_minor": 2
}
