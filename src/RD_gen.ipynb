{
 "cells": [
  {
   "attachments": {},
   "cell_type": "markdown",
   "metadata": {},
   "source": [
    "# Real Data Generation"
   ]
  },
  {
   "attachments": {},
   "cell_type": "markdown",
   "metadata": {},
   "source": [
    "### Import"
   ]
  },
  {
   "cell_type": "code",
   "execution_count": 84,
   "metadata": {},
   "outputs": [],
   "source": [
    "import os\n",
    "import pandas as pd\n",
    "from sdv.single_table import CTGANSynthesizer"
   ]
  },
  {
   "cell_type": "code",
   "execution_count": 85,
   "metadata": {},
   "outputs": [],
   "source": [
    "%run utils/Correlation.py\n",
    "%run utils/Generator.py"
   ]
  },
  {
   "attachments": {},
   "cell_type": "markdown",
   "metadata": {},
   "source": [
    "### Real Dataset "
   ]
  },
  {
   "cell_type": "code",
   "execution_count": 86,
   "metadata": {},
   "outputs": [],
   "source": [
    "# Number of subjects\n",
    "n = 10000 # 10K"
   ]
  },
  {
   "cell_type": "code",
   "execution_count": 87,
   "metadata": {},
   "outputs": [
    {
     "data": {
      "text/plain": [
       "10000"
      ]
     },
     "execution_count": 87,
     "metadata": {},
     "output_type": "execute_result"
    }
   ],
   "source": [
    "# Generate a random dataset\n",
    "data = generate_banking_dataset(n)\n",
    "RD = pd.DataFrame(data)\n",
    "len(RD)"
   ]
  },
  {
   "attachments": {},
   "cell_type": "markdown",
   "metadata": {},
   "source": [
    "### Correction and Correlation"
   ]
  },
  {
   "cell_type": "code",
   "execution_count": 88,
   "metadata": {},
   "outputs": [],
   "source": [
    "# Apply corrections and introduce correlation\n",
    "dependency_balance_employment_type(data)\n",
    "dependency_region_balance(data)\n",
    "dependency_tot_transaction_amount_credit_score(data)"
   ]
  },
  {
   "cell_type": "code",
   "execution_count": 89,
   "metadata": {},
   "outputs": [],
   "source": [
    "# Check if the file exists and delete it if it does\n",
    "if os.path.isfile('../data/real_data/d_nan.csv'):\n",
    "    os.remove('../data/real_data/d_nan.csv')\n",
    "    \n",
    "# Export of the dataset\n",
    "RD.to_csv('../data/real_data/d_nan.csv', index=False)"
   ]
  },
  {
   "attachments": {},
   "cell_type": "markdown",
   "metadata": {},
   "source": [
    "### Metadata Generation"
   ]
  },
  {
   "cell_type": "code",
   "execution_count": 90,
   "metadata": {},
   "outputs": [],
   "source": [
    "# Generate metadata st\n",
    "metadata_st = generate_metadata_st(RD)\n",
    "# Generate metadata mt\n",
    "metadata_mt = generate_metadata_mt(RD)"
   ]
  },
  {
   "attachments": {},
   "cell_type": "markdown",
   "metadata": {},
   "source": [
    "Export metadata json"
   ]
  },
  {
   "cell_type": "code",
   "execution_count": 91,
   "metadata": {},
   "outputs": [],
   "source": [
    "# Check if the file exists and delete it if it does\n",
    "if os.path.isfile('../data/metadata/metadata_st_d_nan.json'):\n",
    "    os.remove('../data/metadata/metadata_st_d_nan.json')\n",
    "metadata_st.save_to_json('../data/metadata/metadata_st_d_nan.json')"
   ]
  },
  {
   "cell_type": "code",
   "execution_count": 92,
   "metadata": {},
   "outputs": [],
   "source": [
    "# Check if the file exists and delete it if it does\n",
    "if os.path.isfile('../data/metadata/metadata_mt_d_nan.json'):\n",
    "    os.remove('../data/metadata/metadata_mt_d_nan.json')\n",
    "metadata_mt.save_to_json('../data/metadata/metadata_mt_d_nan.json')"
   ]
  },
  {
   "cell_type": "code",
   "execution_count": null,
   "metadata": {},
   "outputs": [],
   "source": []
  }
 ],
 "metadata": {
  "kernelspec": {
   "display_name": "SDV_env",
   "language": "python",
   "name": "python3"
  },
  "language_info": {
   "codemirror_mode": {
    "name": "ipython",
    "version": 3
   },
   "file_extension": ".py",
   "mimetype": "text/x-python",
   "name": "python",
   "nbconvert_exporter": "python",
   "pygments_lexer": "ipython3",
   "version": "3.8.16"
  },
  "orig_nbformat": 4
 },
 "nbformat": 4,
 "nbformat_minor": 2
}
