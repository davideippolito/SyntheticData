{
 "cells": [
  {
   "attachments": {},
   "cell_type": "markdown",
   "metadata": {},
   "source": [
    "# HMASynthesizer"
   ]
  },
  {
   "attachments": {},
   "cell_type": "markdown",
   "metadata": {},
   "source": [
    "The HMA Synthesizer uses hierarchical ML algorithm to learn from real data and generate synthetic data.\n",
    "\n",
    "The HMASynthesizer is designed to capture correlations between different tables with high quality. The algorithm is optimized for datasets with around 5 tables and 1 level of depth (eg. a parent and its child table). You may find the modeling time will increase if you have multiple levels of tables and more columns."
   ]
  },
  {
   "attachments": {},
   "cell_type": "markdown",
   "metadata": {},
   "source": [
    "### Import"
   ]
  },
  {
   "cell_type": "code",
   "execution_count": null,
   "metadata": {},
   "outputs": [],
   "source": [
    "import pandas as pd\n",
    "from sdv.metadata import MultiTableMetadata"
   ]
  },
  {
   "cell_type": "code",
   "execution_count": null,
   "metadata": {},
   "outputs": [],
   "source": [
    "%run models/mt_HMA.py"
   ]
  },
  {
   "cell_type": "code",
   "execution_count": null,
   "metadata": {},
   "outputs": [],
   "source": [
    "# Real data\n",
    "RD = pd.read_csv('../data/real_data/d1.csv')"
   ]
  },
  {
   "cell_type": "code",
   "execution_count": 19,
   "metadata": {},
   "outputs": [],
   "source": [
    "# Multi-Table metadata\n",
    "metadata = MultiTableMetadata.load_from_json('../data/metadata/metadata_mt_d1.json')"
   ]
  },
  {
   "attachments": {},
   "cell_type": "markdown",
   "metadata": {},
   "source": [
    "### Model Fitting"
   ]
  },
  {
   "cell_type": "code",
   "execution_count": 20,
   "metadata": {},
   "outputs": [
    {
     "name": "stderr",
     "output_type": "stream",
     "text": [
      "c:\\Users\\david\\miniconda3\\envs\\SDV_env\\lib\\site-packages\\rdt\\transformers\\numerical.py:100: UserWarning: No rounding scheme detected for column 'Balance'. Data will not be rounded.\n",
      "  warnings.warn(\n",
      "c:\\Users\\david\\miniconda3\\envs\\SDV_env\\lib\\site-packages\\rdt\\transformers\\numerical.py:100: UserWarning: No rounding scheme detected for column 'Credit_Score'. Data will not be rounded.\n",
      "  warnings.warn(\n"
     ]
    }
   ],
   "source": [
    "SD_HMA = HMA(RD, metadata)"
   ]
  },
  {
   "attachments": {},
   "cell_type": "markdown",
   "metadata": {},
   "source": [
    "### Export"
   ]
  },
  {
   "cell_type": "code",
   "execution_count": null,
   "metadata": {},
   "outputs": [],
   "source": [
    "# Export synthetic dataset\n",
    "SD_HMA_d1 = pd.DataFrame(SD_HMA['d1'])\n",
    "SD_HMA_d1.to_csv('../data/synthetic_data/HMA_d1.csv', index=False)"
   ]
  },
  {
   "attachments": {},
   "cell_type": "markdown",
   "metadata": {},
   "source": [
    "# CTGAN Model Fitting"
   ]
  },
  {
   "attachments": {},
   "cell_type": "markdown",
   "metadata": {},
   "source": [
    "The CTGAN Synthesizer uses GAN-based, deep learning methods to train a model and generate synthetic data."
   ]
  },
  {
   "attachments": {},
   "cell_type": "markdown",
   "metadata": {},
   "source": [
    "### Import"
   ]
  },
  {
   "cell_type": "code",
   "execution_count": 1,
   "metadata": {},
   "outputs": [],
   "source": [
    "import pandas as pd\n",
    "from sdv.metadata import SingleTableMetadata"
   ]
  },
  {
   "cell_type": "code",
   "execution_count": 2,
   "metadata": {},
   "outputs": [],
   "source": [
    "%run models/st_CTGAN.py"
   ]
  },
  {
   "cell_type": "code",
   "execution_count": 3,
   "metadata": {},
   "outputs": [],
   "source": [
    "# Real data\n",
    "RD = pd.read_csv('../data/real_data/d1.csv')"
   ]
  },
  {
   "cell_type": "code",
   "execution_count": 6,
   "metadata": {},
   "outputs": [],
   "source": [
    "# Single-Table metadata\n",
    "metadata = pd.read_json('../data/metadata/metadata_st_d1.json')"
   ]
  },
  {
   "attachments": {},
   "cell_type": "markdown",
   "metadata": {},
   "source": [
    "### Model Fitting"
   ]
  },
  {
   "cell_type": "code",
   "execution_count": 7,
   "metadata": {},
   "outputs": [
    {
     "ename": "AttributeError",
     "evalue": "'DataFrame' object has no attribute 'validate'",
     "output_type": "error",
     "traceback": [
      "\u001b[1;31m---------------------------------------------------------------------------\u001b[0m",
      "\u001b[1;31mAttributeError\u001b[0m                            Traceback (most recent call last)",
      "\u001b[1;32mc:\\Users\\david\\Desktop\\Davide\\SyntheticData\\Github\\SyntheticData\\src\\SD_generation.ipynb Cell 20\u001b[0m in \u001b[0;36m<cell line: 1>\u001b[1;34m()\u001b[0m\n\u001b[1;32m----> <a href='vscode-notebook-cell:/c%3A/Users/david/Desktop/Davide/SyntheticData/Github/SyntheticData/src/SD_generation.ipynb#X25sZmlsZQ%3D%3D?line=0'>1</a>\u001b[0m SD_CTGAN \u001b[39m=\u001b[39m CTGAN(RD, metadata)\n",
      "File \u001b[1;32m~\\Desktop\\Davide\\SyntheticData\\Github\\SyntheticData\\src\\models\\st_CTGAN.py:4\u001b[0m, in \u001b[0;36mCTGAN\u001b[1;34m(RD, metadata_st)\u001b[0m\n\u001b[0;32m      3\u001b[0m \u001b[39mdef\u001b[39;00m \u001b[39mCTGAN\u001b[39m(RD, metadata_st):\n\u001b[1;32m----> 4\u001b[0m     synthesizer \u001b[39m=\u001b[39m CTGANSynthesizer(metadata_st)\n\u001b[0;32m      5\u001b[0m     synthesizer\u001b[39m.\u001b[39mvalidate(RD)\n\u001b[0;32m      7\u001b[0m     \u001b[39m#Initialize the SDV model and fit it to the DataFrame:\u001b[39;00m\n",
      "File \u001b[1;32mc:\\Users\\david\\miniconda3\\envs\\SDV_env\\lib\\site-packages\\sdv\\single_table\\ctgan.py:69\u001b[0m, in \u001b[0;36mCTGANSynthesizer.__init__\u001b[1;34m(self, metadata, enforce_min_max_values, enforce_rounding, locales, embedding_dim, generator_dim, discriminator_dim, generator_lr, generator_decay, discriminator_lr, discriminator_decay, batch_size, discriminator_steps, log_frequency, verbose, epochs, pac, cuda)\u001b[0m\n\u001b[0;32m     63\u001b[0m \u001b[39mdef\u001b[39;00m \u001b[39m__init__\u001b[39m(\u001b[39mself\u001b[39m, metadata, enforce_min_max_values\u001b[39m=\u001b[39m\u001b[39mTrue\u001b[39;00m, enforce_rounding\u001b[39m=\u001b[39m\u001b[39mTrue\u001b[39;00m, locales\u001b[39m=\u001b[39m\u001b[39mNone\u001b[39;00m,\n\u001b[0;32m     64\u001b[0m              embedding_dim\u001b[39m=\u001b[39m\u001b[39m128\u001b[39m, generator_dim\u001b[39m=\u001b[39m(\u001b[39m256\u001b[39m, \u001b[39m256\u001b[39m), discriminator_dim\u001b[39m=\u001b[39m(\u001b[39m256\u001b[39m, \u001b[39m256\u001b[39m),\n\u001b[0;32m     65\u001b[0m              generator_lr\u001b[39m=\u001b[39m\u001b[39m2e-4\u001b[39m, generator_decay\u001b[39m=\u001b[39m\u001b[39m1e-6\u001b[39m, discriminator_lr\u001b[39m=\u001b[39m\u001b[39m2e-4\u001b[39m,\n\u001b[0;32m     66\u001b[0m              discriminator_decay\u001b[39m=\u001b[39m\u001b[39m1e-6\u001b[39m, batch_size\u001b[39m=\u001b[39m\u001b[39m500\u001b[39m, discriminator_steps\u001b[39m=\u001b[39m\u001b[39m1\u001b[39m,\n\u001b[0;32m     67\u001b[0m              log_frequency\u001b[39m=\u001b[39m\u001b[39mTrue\u001b[39;00m, verbose\u001b[39m=\u001b[39m\u001b[39mFalse\u001b[39;00m, epochs\u001b[39m=\u001b[39m\u001b[39m300\u001b[39m, pac\u001b[39m=\u001b[39m\u001b[39m10\u001b[39m, cuda\u001b[39m=\u001b[39m\u001b[39mTrue\u001b[39;00m):\n\u001b[1;32m---> 69\u001b[0m     \u001b[39msuper\u001b[39;49m()\u001b[39m.\u001b[39;49m\u001b[39m__init__\u001b[39;49m(\n\u001b[0;32m     70\u001b[0m         metadata\u001b[39m=\u001b[39;49mmetadata,\n\u001b[0;32m     71\u001b[0m         enforce_min_max_values\u001b[39m=\u001b[39;49menforce_min_max_values,\n\u001b[0;32m     72\u001b[0m         enforce_rounding\u001b[39m=\u001b[39;49menforce_rounding,\n\u001b[0;32m     73\u001b[0m         locales\u001b[39m=\u001b[39;49mlocales\n\u001b[0;32m     74\u001b[0m     )\n\u001b[0;32m     76\u001b[0m     \u001b[39mself\u001b[39m\u001b[39m.\u001b[39membedding_dim \u001b[39m=\u001b[39m embedding_dim\n\u001b[0;32m     77\u001b[0m     \u001b[39mself\u001b[39m\u001b[39m.\u001b[39mgenerator_dim \u001b[39m=\u001b[39m generator_dim\n",
      "File \u001b[1;32mc:\\Users\\david\\miniconda3\\envs\\SDV_env\\lib\\site-packages\\sdv\\single_table\\base.py:79\u001b[0m, in \u001b[0;36mBaseSynthesizer.__init__\u001b[1;34m(self, metadata, enforce_min_max_values, enforce_rounding, locales)\u001b[0m\n\u001b[0;32m     77\u001b[0m \u001b[39mself\u001b[39m\u001b[39m.\u001b[39m_validate_inputs(enforce_min_max_values, enforce_rounding)\n\u001b[0;32m     78\u001b[0m \u001b[39mself\u001b[39m\u001b[39m.\u001b[39mmetadata \u001b[39m=\u001b[39m metadata\n\u001b[1;32m---> 79\u001b[0m \u001b[39mself\u001b[39;49m\u001b[39m.\u001b[39;49mmetadata\u001b[39m.\u001b[39;49mvalidate()\n\u001b[0;32m     80\u001b[0m \u001b[39mself\u001b[39m\u001b[39m.\u001b[39menforce_min_max_values \u001b[39m=\u001b[39m enforce_min_max_values\n\u001b[0;32m     81\u001b[0m \u001b[39mself\u001b[39m\u001b[39m.\u001b[39menforce_rounding \u001b[39m=\u001b[39m enforce_rounding\n",
      "File \u001b[1;32mc:\\Users\\david\\miniconda3\\envs\\SDV_env\\lib\\site-packages\\pandas\\core\\generic.py:5989\u001b[0m, in \u001b[0;36mNDFrame.__getattr__\u001b[1;34m(self, name)\u001b[0m\n\u001b[0;32m   5982\u001b[0m \u001b[39mif\u001b[39;00m (\n\u001b[0;32m   5983\u001b[0m     name \u001b[39mnot\u001b[39;00m \u001b[39min\u001b[39;00m \u001b[39mself\u001b[39m\u001b[39m.\u001b[39m_internal_names_set\n\u001b[0;32m   5984\u001b[0m     \u001b[39mand\u001b[39;00m name \u001b[39mnot\u001b[39;00m \u001b[39min\u001b[39;00m \u001b[39mself\u001b[39m\u001b[39m.\u001b[39m_metadata\n\u001b[0;32m   5985\u001b[0m     \u001b[39mand\u001b[39;00m name \u001b[39mnot\u001b[39;00m \u001b[39min\u001b[39;00m \u001b[39mself\u001b[39m\u001b[39m.\u001b[39m_accessors\n\u001b[0;32m   5986\u001b[0m     \u001b[39mand\u001b[39;00m \u001b[39mself\u001b[39m\u001b[39m.\u001b[39m_info_axis\u001b[39m.\u001b[39m_can_hold_identifiers_and_holds_name(name)\n\u001b[0;32m   5987\u001b[0m ):\n\u001b[0;32m   5988\u001b[0m     \u001b[39mreturn\u001b[39;00m \u001b[39mself\u001b[39m[name]\n\u001b[1;32m-> 5989\u001b[0m \u001b[39mreturn\u001b[39;00m \u001b[39mobject\u001b[39;49m\u001b[39m.\u001b[39;49m\u001b[39m__getattribute__\u001b[39;49m(\u001b[39mself\u001b[39;49m, name)\n",
      "\u001b[1;31mAttributeError\u001b[0m: 'DataFrame' object has no attribute 'validate'"
     ]
    }
   ],
   "source": [
    "SD_CTGAN = CTGAN(RD, metadata)"
   ]
  },
  {
   "attachments": {},
   "cell_type": "markdown",
   "metadata": {},
   "source": [
    "### Export"
   ]
  },
  {
   "cell_type": "code",
   "execution_count": null,
   "metadata": {},
   "outputs": [],
   "source": [
    "# Export synthetic dataset\n",
    "SD_CTGAN = pd.DataFrame(SD_CTGAN)\n",
    "SD_CTGAN.to_csv('../data/synthetic_data/CTGAN_d1.csv', index=False)"
   ]
  }
 ],
 "metadata": {
  "kernelspec": {
   "display_name": "SDV_env",
   "language": "python",
   "name": "python3"
  },
  "language_info": {
   "codemirror_mode": {
    "name": "ipython",
    "version": 3
   },
   "file_extension": ".py",
   "mimetype": "text/x-python",
   "name": "python",
   "nbconvert_exporter": "python",
   "pygments_lexer": "ipython3",
   "version": "3.8.16"
  },
  "orig_nbformat": 4
 },
 "nbformat": 4,
 "nbformat_minor": 2
}
