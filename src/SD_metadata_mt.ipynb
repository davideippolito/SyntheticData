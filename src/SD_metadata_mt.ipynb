{
 "cells": [
  {
   "attachments": {},
   "cell_type": "markdown",
   "metadata": {},
   "source": [
    "## Subject Table Definition"
   ]
  },
  {
   "cell_type": "code",
   "execution_count": null,
   "metadata": {},
   "outputs": [],
   "source": [
    "import pandas as pd"
   ]
  },
  {
   "cell_type": "code",
   "execution_count": null,
   "metadata": {},
   "outputs": [],
   "source": [
    "csv_file_path = '../data/real_data/test_dataset.csv'\n",
    "df = pd.read_csv(csv_file_path)"
   ]
  },
  {
   "cell_type": "code",
   "execution_count": null,
   "metadata": {},
   "outputs": [],
   "source": [
    "# Create an empty dictionary\n",
    "datasets = {}\n",
    "\n",
    "# Add the DataFrame to the dictionary\n",
    "datasets['test_dataset'] = df"
   ]
  },
  {
   "attachments": {},
   "cell_type": "markdown",
   "metadata": {},
   "source": [
    "## Metadata generation"
   ]
  },
  {
   "attachments": {},
   "cell_type": "markdown",
   "metadata": {},
   "source": [
    "### Metadata"
   ]
  },
  {
   "cell_type": "code",
   "execution_count": null,
   "metadata": {},
   "outputs": [],
   "source": [
    "from sdv.metadata import MultiTableMetadata"
   ]
  },
  {
   "cell_type": "code",
   "execution_count": null,
   "metadata": {},
   "outputs": [],
   "source": [
    "metadata = MultiTableMetadata()\n",
    "metadata.detect_table_from_dataframe(\n",
    "    table_name='test_dataset',\n",
    "    data=df\n",
    ")"
   ]
  },
  {
   "attachments": {},
   "cell_type": "markdown",
   "metadata": {},
   "source": [
    "Correct metadata sdtypes"
   ]
  },
  {
   "cell_type": "code",
   "execution_count": null,
   "metadata": {},
   "outputs": [],
   "source": [
    "metadata.update_column(\n",
    "    table_name='test_dataset',\n",
    "    column_name='NDG',\n",
    "    sdtype='id',\n",
    "    regex_format = r'\\d{21}'\n",
    ")\n",
    "\n",
    "metadata.update_column(\n",
    "    table_name='test_dataset',\n",
    "    column_name='Age Range',\n",
    "    sdtype='categorical'\n",
    ")\n",
    "\n",
    "metadata.update_column(\n",
    "    table_name='test_dataset',\n",
    "    column_name='Segment',\n",
    "    sdtype='categorical'\n",
    ")\n",
    "\n",
    "metadata.update_column(\n",
    "    table_name='test_dataset',\n",
    "    column_name='Income',\n",
    "    sdtype='numerical',\n",
    "    computer_representation='Float')"
   ]
  },
  {
   "attachments": {},
   "cell_type": "markdown",
   "metadata": {},
   "source": [
    "### Metadata_k"
   ]
  },
  {
   "cell_type": "code",
   "execution_count": null,
   "metadata": {},
   "outputs": [],
   "source": [
    "metadata_k = MultiTableMetadata()\n",
    "metadata_k.detect_table_from_dataframe(\n",
    "    table_name='test_dataset',\n",
    "    data=df\n",
    ")"
   ]
  },
  {
   "attachments": {},
   "cell_type": "markdown",
   "metadata": {},
   "source": [
    "Correct metadata_k sdtypes"
   ]
  },
  {
   "cell_type": "code",
   "execution_count": null,
   "metadata": {},
   "outputs": [],
   "source": [
    "metadata_k.update_column(\n",
    "    table_name='test_dataset',\n",
    "    column_name='NDG',\n",
    "    sdtype='id',\n",
    "    regex_format = r'\\d{21}'\n",
    ")\n",
    "\n",
    "metadata_k.update_column(\n",
    "    table_name='test_dataset',\n",
    "    column_name='Age Range',\n",
    "    sdtype='categorical'\n",
    ")\n",
    "\n",
    "metadata_k.update_column(\n",
    "    table_name='test_dataset',\n",
    "    column_name='Segment',\n",
    "    sdtype='categorical'\n",
    ")\n",
    "\n",
    "metadata_k.update_column(\n",
    "    table_name='test_dataset',\n",
    "    column_name='Income',\n",
    "    sdtype='numerical',\n",
    "    computer_representation='Float')"
   ]
  },
  {
   "attachments": {},
   "cell_type": "markdown",
   "metadata": {},
   "source": [
    "Primary Keys: These keys identify every row of the table. They must be unique to the entire table and other tables may refer to them."
   ]
  },
  {
   "cell_type": "code",
   "execution_count": null,
   "metadata": {},
   "outputs": [],
   "source": [
    "metadata_k.set_primary_key(\n",
    "    table_name='test_dataset',\n",
    "    column_name='NDG'\n",
    ")"
   ]
  },
  {
   "attachments": {},
   "cell_type": "markdown",
   "metadata": {},
   "source": [
    "## Export metadata json"
   ]
  },
  {
   "cell_type": "code",
   "execution_count": null,
   "metadata": {},
   "outputs": [],
   "source": [
    "# metadata.validate"
   ]
  },
  {
   "cell_type": "code",
   "execution_count": null,
   "metadata": {},
   "outputs": [],
   "source": [
    "# metadata_k.validate"
   ]
  },
  {
   "cell_type": "code",
   "execution_count": null,
   "metadata": {},
   "outputs": [],
   "source": [
    "# PATH\n",
    "metadata.save_to_json('../data/metadata/test_dataset_metadata_mt.json')\n",
    "metadata_k.save_to_json('../data/metadata/test_dataset_metadata_k_mt.json')"
   ]
  },
  {
   "cell_type": "code",
   "execution_count": null,
   "metadata": {},
   "outputs": [],
   "source": []
  }
 ],
 "metadata": {
  "kernelspec": {
   "display_name": "SD",
   "language": "python",
   "name": "python3"
  },
  "language_info": {
   "codemirror_mode": {
    "name": "ipython",
    "version": 3
   },
   "file_extension": ".py",
   "mimetype": "text/x-python",
   "name": "python",
   "nbconvert_exporter": "python",
   "pygments_lexer": "ipython3",
   "version": "3.8.16"
  },
  "orig_nbformat": 4
 },
 "nbformat": 4,
 "nbformat_minor": 2
}
