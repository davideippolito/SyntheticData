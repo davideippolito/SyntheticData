{
 "cells": [
  {
   "attachments": {},
   "cell_type": "markdown",
   "metadata": {},
   "source": [
    "## Dataset Generator"
   ]
  },
  {
   "cell_type": "code",
   "execution_count": 11,
   "metadata": {},
   "outputs": [],
   "source": [
    "import pandas as pd\n",
    "from faker import Faker\n",
    "import random\n",
    "\n",
    "fake = Faker()\n",
    "\n",
    "# Number of subjects\n",
    "n = 100000\n",
    "\n",
    "data = [\n",
    "    {\n",
    "        'NDG': str(fake.random_number(digits=21)),\n",
    "        'Segment': str(fake.random_int(min=1, max=4) * 10),\n",
    "        'Region': random.choice(['Lombardia', 'Lombardia', 'Lombardia', 'Trentino', 'Veneto', 'Veneto', 'Toscana', 'Sicilia']),\n",
    "        'Age Range': random.choice(['25', '35', '45', '45', '55', '55', '65', '65', '65']),\n",
    "        'Gender': random.choice(['F', 'M']),\n",
    "        'Income': float(fake.random_int(min=1000, max=100000)),\n",
    "        'Duration': str(fake.random_int(min=1, max=35))\n",
    "    }\n",
    "    for _ in range(n)\n",
    "]\n",
    "\n",
    "# Apply corrections and introduce correlation\n",
    "%run Utils/Correction.py\n",
    "correct_age_range_duration(data)\n",
    "\n",
    "%run Utils/Correlation.py\n",
    "correlation_income_age_range(data)\n",
    "correlation_income_region(data)\n",
    "df = pd.DataFrame(data)\n",
    "\n",
    "df.to_csv('../data/real_data/test_dataset.csv', index=False)"
   ]
  }
 ],
 "metadata": {
  "kernelspec": {
   "display_name": "SD",
   "language": "python",
   "name": "python3"
  },
  "language_info": {
   "codemirror_mode": {
    "name": "ipython",
    "version": 3
   },
   "file_extension": ".py",
   "mimetype": "text/x-python",
   "name": "python",
   "nbconvert_exporter": "python",
   "pygments_lexer": "ipython3",
   "version": "3.8.16"
  },
  "orig_nbformat": 4
 },
 "nbformat": 4,
 "nbformat_minor": 2
}
