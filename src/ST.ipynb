{
 "cells": [
  {
   "attachments": {},
   "cell_type": "markdown",
   "metadata": {},
   "source": [
    "# Statistics and Metrics Evaluation"
   ]
  },
  {
   "attachments": {},
   "cell_type": "markdown",
   "metadata": {},
   "source": [
    "### Import"
   ]
  },
  {
   "cell_type": "code",
   "execution_count": 19,
   "metadata": {},
   "outputs": [],
   "source": [
    "import pandas as pd\n",
    "from sdv.metadata import SingleTableMetadata\n",
    "from sdv.metadata import MultiTableMetadata\n",
    "from sdv.evaluation.single_table import evaluate_quality as eqs\n",
    "from sdv.evaluation.multi_table import evaluate_quality as eqm\n",
    "from sdv.evaluation.multi_table import run_diagnostic"
   ]
  },
  {
   "attachments": {},
   "cell_type": "markdown",
   "metadata": {},
   "source": [
    "External Functions"
   ]
  },
  {
   "cell_type": "code",
   "execution_count": 20,
   "metadata": {},
   "outputs": [],
   "source": [
    "%run utils/Statistics.py\n",
    "%run utils/Generator.py"
   ]
  },
  {
   "attachments": {},
   "cell_type": "markdown",
   "metadata": {},
   "source": [
    "File Paths"
   ]
  },
  {
   "cell_type": "code",
   "execution_count": 21,
   "metadata": {},
   "outputs": [],
   "source": [
    "# Real Dataset Output\n",
    "path_RD = '../data/real_data/d_c.csv'\n",
    "\n",
    "# Metadata based on Real Dataset Output\n",
    "path_metadata_st = '../data/metadata/metadata_st_d_c.json'\n",
    "path_metadata_mt = '../data/metadata/metadata_mt_d_c.json'\n",
    "\n",
    "# Synthetic Dataset Output\n",
    "path_CTGAN = '../data/synthetic_data/CTGAN_d_c.csv'\n",
    "path_FAST_ML = '../data/synthetic_data/FAST_ML_d_c.csv'\n",
    "path_HMA = '../data/synthetic_data/HMA_d_c.csv'"
   ]
  },
  {
   "cell_type": "code",
   "execution_count": 22,
   "metadata": {},
   "outputs": [],
   "source": [
    "# Test Synthetic Dataset Output\n",
    "path_FAST_ML_test = '../data/synthetic_data/FAST_ML_d_test.csv'\n",
    "path_HMA_test = '../data/synthetic_data/HMA_d_test.csv'"
   ]
  },
  {
   "attachments": {},
   "cell_type": "markdown",
   "metadata": {},
   "source": [
    "Real Data"
   ]
  },
  {
   "cell_type": "code",
   "execution_count": 23,
   "metadata": {},
   "outputs": [],
   "source": [
    "RD = pd.read_csv(path_RD)"
   ]
  },
  {
   "attachments": {},
   "cell_type": "markdown",
   "metadata": {},
   "source": [
    "Metadata"
   ]
  },
  {
   "cell_type": "code",
   "execution_count": 24,
   "metadata": {},
   "outputs": [],
   "source": [
    "# Single Table metadata\n",
    "metadata_st = SingleTableMetadata.load_from_json(path_metadata_st)\n",
    "\n",
    "# Multi Table metadata\n",
    "metadata_mt = MultiTableMetadata.load_from_json(path_metadata_mt)"
   ]
  },
  {
   "attachments": {},
   "cell_type": "markdown",
   "metadata": {},
   "source": [
    "Synthetic Data"
   ]
  },
  {
   "cell_type": "code",
   "execution_count": 25,
   "metadata": {},
   "outputs": [],
   "source": [
    "# CTGAN = pd.read_csv(path_CTGAN)\n",
    "SD_FAST_ML = pd.read_csv(path_FAST_ML)\n",
    "SD_HMA = pd.read_csv(path_HMA)"
   ]
  },
  {
   "attachments": {},
   "cell_type": "markdown",
   "metadata": {},
   "source": [
    "Test Data"
   ]
  },
  {
   "cell_type": "code",
   "execution_count": 26,
   "metadata": {},
   "outputs": [],
   "source": [
    "SD_FAST_ML_test = pd.read_csv(path_FAST_ML_test)\n",
    "SD_HMA_test = pd.read_csv(path_HMA_test)"
   ]
  },
  {
   "attachments": {},
   "cell_type": "markdown",
   "metadata": {},
   "source": [
    "### Statistics"
   ]
  },
  {
   "attachments": {},
   "cell_type": "markdown",
   "metadata": {},
   "source": [
    "FAST_ML"
   ]
  },
  {
   "cell_type": "code",
   "execution_count": 27,
   "metadata": {},
   "outputs": [
    {
     "data": {
      "text/html": [
       "<div>\n",
       "<style scoped>\n",
       "    .dataframe tbody tr th:only-of-type {\n",
       "        vertical-align: middle;\n",
       "    }\n",
       "\n",
       "    .dataframe tbody tr th {\n",
       "        vertical-align: top;\n",
       "    }\n",
       "\n",
       "    .dataframe thead th {\n",
       "        text-align: right;\n",
       "    }\n",
       "</style>\n",
       "<table border=\"1\" class=\"dataframe\">\n",
       "  <thead>\n",
       "    <tr style=\"text-align: right;\">\n",
       "      <th></th>\n",
       "      <th>Statistic</th>\n",
       "      <th>RD_Balance</th>\n",
       "      <th>SD_Balance</th>\n",
       "      <th>RD_Credit_Score</th>\n",
       "      <th>SD_Credit_Score</th>\n",
       "    </tr>\n",
       "  </thead>\n",
       "  <tbody>\n",
       "    <tr>\n",
       "      <th>0</th>\n",
       "      <td>Mean</td>\n",
       "      <td>476419.133964</td>\n",
       "      <td>495912.032381</td>\n",
       "      <td>824.073200</td>\n",
       "      <td>825.488507</td>\n",
       "    </tr>\n",
       "    <tr>\n",
       "      <th>1</th>\n",
       "      <td>Std</td>\n",
       "      <td>458746.994504</td>\n",
       "      <td>394787.777978</td>\n",
       "      <td>432.768709</td>\n",
       "      <td>417.377739</td>\n",
       "    </tr>\n",
       "  </tbody>\n",
       "</table>\n",
       "</div>"
      ],
      "text/plain": [
       "  Statistic     RD_Balance     SD_Balance  RD_Credit_Score  SD_Credit_Score\n",
       "0      Mean  476419.133964  495912.032381       824.073200       825.488507\n",
       "1       Std  458746.994504  394787.777978       432.768709       417.377739"
      ]
     },
     "execution_count": 27,
     "metadata": {},
     "output_type": "execute_result"
    }
   ],
   "source": [
    "RD_stats = calculate_statistics(RD)\n",
    "SD_FAST_ML_stats = calculate_statistics(SD_FAST_ML)\n",
    "compare_statistics(RD_stats, SD_FAST_ML_stats)"
   ]
  },
  {
   "attachments": {},
   "cell_type": "markdown",
   "metadata": {},
   "source": [
    "TEST"
   ]
  },
  {
   "cell_type": "code",
   "execution_count": 28,
   "metadata": {},
   "outputs": [
    {
     "data": {
      "text/html": [
       "<div>\n",
       "<style scoped>\n",
       "    .dataframe tbody tr th:only-of-type {\n",
       "        vertical-align: middle;\n",
       "    }\n",
       "\n",
       "    .dataframe tbody tr th {\n",
       "        vertical-align: top;\n",
       "    }\n",
       "\n",
       "    .dataframe thead th {\n",
       "        text-align: right;\n",
       "    }\n",
       "</style>\n",
       "<table border=\"1\" class=\"dataframe\">\n",
       "  <thead>\n",
       "    <tr style=\"text-align: right;\">\n",
       "      <th></th>\n",
       "      <th>Statistic</th>\n",
       "      <th>RD_Balance</th>\n",
       "      <th>SD_Balance</th>\n",
       "      <th>RD_Credit_Score</th>\n",
       "      <th>SD_Credit_Score</th>\n",
       "    </tr>\n",
       "  </thead>\n",
       "  <tbody>\n",
       "    <tr>\n",
       "      <th>0</th>\n",
       "      <td>Mean</td>\n",
       "      <td>476419.133964</td>\n",
       "      <td>533943.208948</td>\n",
       "      <td>824.073200</td>\n",
       "      <td>840.509613</td>\n",
       "    </tr>\n",
       "    <tr>\n",
       "      <th>1</th>\n",
       "      <td>Std</td>\n",
       "      <td>458746.994504</td>\n",
       "      <td>428938.034034</td>\n",
       "      <td>432.768709</td>\n",
       "      <td>425.492158</td>\n",
       "    </tr>\n",
       "  </tbody>\n",
       "</table>\n",
       "</div>"
      ],
      "text/plain": [
       "  Statistic     RD_Balance     SD_Balance  RD_Credit_Score  SD_Credit_Score\n",
       "0      Mean  476419.133964  533943.208948       824.073200       840.509613\n",
       "1       Std  458746.994504  428938.034034       432.768709       425.492158"
      ]
     },
     "execution_count": 28,
     "metadata": {},
     "output_type": "execute_result"
    }
   ],
   "source": [
    "RD_stats = calculate_statistics(RD)\n",
    "SD_FAST_ML_stats = calculate_statistics(SD_FAST_ML_test)\n",
    "compare_statistics(RD_stats, SD_FAST_ML_stats)"
   ]
  },
  {
   "attachments": {},
   "cell_type": "markdown",
   "metadata": {},
   "source": [
    "HMA"
   ]
  },
  {
   "cell_type": "code",
   "execution_count": 29,
   "metadata": {},
   "outputs": [
    {
     "data": {
      "text/html": [
       "<div>\n",
       "<style scoped>\n",
       "    .dataframe tbody tr th:only-of-type {\n",
       "        vertical-align: middle;\n",
       "    }\n",
       "\n",
       "    .dataframe tbody tr th {\n",
       "        vertical-align: top;\n",
       "    }\n",
       "\n",
       "    .dataframe thead th {\n",
       "        text-align: right;\n",
       "    }\n",
       "</style>\n",
       "<table border=\"1\" class=\"dataframe\">\n",
       "  <thead>\n",
       "    <tr style=\"text-align: right;\">\n",
       "      <th></th>\n",
       "      <th>Statistic</th>\n",
       "      <th>RD_Balance</th>\n",
       "      <th>SD_Balance</th>\n",
       "      <th>RD_Credit_Score</th>\n",
       "      <th>SD_Credit_Score</th>\n",
       "    </tr>\n",
       "  </thead>\n",
       "  <tbody>\n",
       "    <tr>\n",
       "      <th>0</th>\n",
       "      <td>Mean</td>\n",
       "      <td>476419.133964</td>\n",
       "      <td>488801.069948</td>\n",
       "      <td>824.073200</td>\n",
       "      <td>831.180674</td>\n",
       "    </tr>\n",
       "    <tr>\n",
       "      <th>1</th>\n",
       "      <td>Std</td>\n",
       "      <td>458746.994504</td>\n",
       "      <td>459951.570144</td>\n",
       "      <td>432.768709</td>\n",
       "      <td>446.400435</td>\n",
       "    </tr>\n",
       "  </tbody>\n",
       "</table>\n",
       "</div>"
      ],
      "text/plain": [
       "  Statistic     RD_Balance     SD_Balance  RD_Credit_Score  SD_Credit_Score\n",
       "0      Mean  476419.133964  488801.069948       824.073200       831.180674\n",
       "1       Std  458746.994504  459951.570144       432.768709       446.400435"
      ]
     },
     "execution_count": 29,
     "metadata": {},
     "output_type": "execute_result"
    }
   ],
   "source": [
    "RD_stats = calculate_statistics(RD)\n",
    "SD_HMA_stats = calculate_statistics(SD_HMA)\n",
    "compare_statistics(RD_stats, SD_HMA_stats)"
   ]
  },
  {
   "attachments": {},
   "cell_type": "markdown",
   "metadata": {},
   "source": [
    "TEST"
   ]
  },
  {
   "cell_type": "code",
   "execution_count": 30,
   "metadata": {},
   "outputs": [
    {
     "data": {
      "text/html": [
       "<div>\n",
       "<style scoped>\n",
       "    .dataframe tbody tr th:only-of-type {\n",
       "        vertical-align: middle;\n",
       "    }\n",
       "\n",
       "    .dataframe tbody tr th {\n",
       "        vertical-align: top;\n",
       "    }\n",
       "\n",
       "    .dataframe thead th {\n",
       "        text-align: right;\n",
       "    }\n",
       "</style>\n",
       "<table border=\"1\" class=\"dataframe\">\n",
       "  <thead>\n",
       "    <tr style=\"text-align: right;\">\n",
       "      <th></th>\n",
       "      <th>Statistic</th>\n",
       "      <th>RD_Balance</th>\n",
       "      <th>SD_Balance</th>\n",
       "      <th>RD_Credit_Score</th>\n",
       "      <th>SD_Credit_Score</th>\n",
       "    </tr>\n",
       "  </thead>\n",
       "  <tbody>\n",
       "    <tr>\n",
       "      <th>0</th>\n",
       "      <td>Mean</td>\n",
       "      <td>476419.133964</td>\n",
       "      <td>503634.254569</td>\n",
       "      <td>824.073200</td>\n",
       "      <td>841.803805</td>\n",
       "    </tr>\n",
       "    <tr>\n",
       "      <th>1</th>\n",
       "      <td>Std</td>\n",
       "      <td>458746.994504</td>\n",
       "      <td>464968.967484</td>\n",
       "      <td>432.768709</td>\n",
       "      <td>458.127227</td>\n",
       "    </tr>\n",
       "  </tbody>\n",
       "</table>\n",
       "</div>"
      ],
      "text/plain": [
       "  Statistic     RD_Balance     SD_Balance  RD_Credit_Score  SD_Credit_Score\n",
       "0      Mean  476419.133964  503634.254569       824.073200       841.803805\n",
       "1       Std  458746.994504  464968.967484       432.768709       458.127227"
      ]
     },
     "execution_count": 30,
     "metadata": {},
     "output_type": "execute_result"
    }
   ],
   "source": [
    "RD_stats = calculate_statistics(RD)\n",
    "SD_HMA_stats = calculate_statistics(SD_HMA_test)\n",
    "compare_statistics(RD_stats, SD_HMA_stats)"
   ]
  },
  {
   "attachments": {},
   "cell_type": "markdown",
   "metadata": {},
   "source": [
    "### Metrics"
   ]
  },
  {
   "attachments": {},
   "cell_type": "markdown",
   "metadata": {},
   "source": [
    "##### Evaluation Quality for Single Table models"
   ]
  },
  {
   "attachments": {},
   "cell_type": "markdown",
   "metadata": {},
   "source": [
    "FAST_ML"
   ]
  },
  {
   "cell_type": "code",
   "execution_count": 50,
   "metadata": {},
   "outputs": [
    {
     "name": "stderr",
     "output_type": "stream",
     "text": [
      "Creating report: 100%|██████████| 4/4 [00:03<00:00,  1.16it/s]\n"
     ]
    },
    {
     "name": "stdout",
     "output_type": "stream",
     "text": [
      "\n",
      "Overall Quality Score: 76.81%\n",
      "\n",
      "Properties:\n",
      "Column Shapes: 86.56%\n",
      "Column Pair Trends: 67.07%\n"
     ]
    }
   ],
   "source": [
    "# Evaluation Quality\n",
    "quality_report = eqs(\n",
    "    real_data=RD,\n",
    "    synthetic_data=SD_FAST_ML,\n",
    "    metadata=metadata_st\n",
    ")"
   ]
  },
  {
   "cell_type": "code",
   "execution_count": 51,
   "metadata": {},
   "outputs": [
    {
     "data": {
      "text/html": [
       "<div>\n",
       "<style scoped>\n",
       "    .dataframe tbody tr th:only-of-type {\n",
       "        vertical-align: middle;\n",
       "    }\n",
       "\n",
       "    .dataframe tbody tr th {\n",
       "        vertical-align: top;\n",
       "    }\n",
       "\n",
       "    .dataframe thead th {\n",
       "        text-align: right;\n",
       "    }\n",
       "</style>\n",
       "<table border=\"1\" class=\"dataframe\">\n",
       "  <thead>\n",
       "    <tr style=\"text-align: right;\">\n",
       "      <th></th>\n",
       "      <th>Column</th>\n",
       "      <th>Metric</th>\n",
       "      <th>Quality Score</th>\n",
       "    </tr>\n",
       "  </thead>\n",
       "  <tbody>\n",
       "    <tr>\n",
       "      <th>0</th>\n",
       "      <td>Balance</td>\n",
       "      <td>KSComplement</td>\n",
       "      <td>0.842</td>\n",
       "    </tr>\n",
       "    <tr>\n",
       "      <th>1</th>\n",
       "      <td>Last_Transaction_Date</td>\n",
       "      <td>KSComplement</td>\n",
       "      <td>0.924</td>\n",
       "    </tr>\n",
       "    <tr>\n",
       "      <th>2</th>\n",
       "      <td>Last_Transaction_Amount</td>\n",
       "      <td>KSComplement</td>\n",
       "      <td>0.918</td>\n",
       "    </tr>\n",
       "    <tr>\n",
       "      <th>3</th>\n",
       "      <td>Tot_Transaction_Amount</td>\n",
       "      <td>KSComplement</td>\n",
       "      <td>0.936</td>\n",
       "    </tr>\n",
       "    <tr>\n",
       "      <th>4</th>\n",
       "      <td>Credit_Score</td>\n",
       "      <td>KSComplement</td>\n",
       "      <td>0.915</td>\n",
       "    </tr>\n",
       "    <tr>\n",
       "      <th>5</th>\n",
       "      <td>Loan_Amount</td>\n",
       "      <td>KSComplement</td>\n",
       "      <td>0.916</td>\n",
       "    </tr>\n",
       "    <tr>\n",
       "      <th>6</th>\n",
       "      <td>Interest_Rate</td>\n",
       "      <td>KSComplement</td>\n",
       "      <td>0.934</td>\n",
       "    </tr>\n",
       "    <tr>\n",
       "      <th>7</th>\n",
       "      <td>Account_Type</td>\n",
       "      <td>TVComplement</td>\n",
       "      <td>0.985</td>\n",
       "    </tr>\n",
       "    <tr>\n",
       "      <th>8</th>\n",
       "      <td>Currency</td>\n",
       "      <td>TVComplement</td>\n",
       "      <td>1.000</td>\n",
       "    </tr>\n",
       "    <tr>\n",
       "      <th>9</th>\n",
       "      <td>Branch</td>\n",
       "      <td>TVComplement</td>\n",
       "      <td>0.589</td>\n",
       "    </tr>\n",
       "    <tr>\n",
       "      <th>10</th>\n",
       "      <td>Region</td>\n",
       "      <td>TVComplement</td>\n",
       "      <td>0.859</td>\n",
       "    </tr>\n",
       "    <tr>\n",
       "      <th>11</th>\n",
       "      <td>Company</td>\n",
       "      <td>TVComplement</td>\n",
       "      <td>0.553</td>\n",
       "    </tr>\n",
       "    <tr>\n",
       "      <th>12</th>\n",
       "      <td>Employment_Type</td>\n",
       "      <td>TVComplement</td>\n",
       "      <td>0.875</td>\n",
       "    </tr>\n",
       "    <tr>\n",
       "      <th>13</th>\n",
       "      <td>Loan_Term</td>\n",
       "      <td>TVComplement</td>\n",
       "      <td>0.872</td>\n",
       "    </tr>\n",
       "  </tbody>\n",
       "</table>\n",
       "</div>"
      ],
      "text/plain": [
       "                     Column        Metric  Quality Score\n",
       "0                   Balance  KSComplement          0.842\n",
       "1     Last_Transaction_Date  KSComplement          0.924\n",
       "2   Last_Transaction_Amount  KSComplement          0.918\n",
       "3    Tot_Transaction_Amount  KSComplement          0.936\n",
       "4              Credit_Score  KSComplement          0.915\n",
       "5               Loan_Amount  KSComplement          0.916\n",
       "6             Interest_Rate  KSComplement          0.934\n",
       "7              Account_Type  TVComplement          0.985\n",
       "8                  Currency  TVComplement          1.000\n",
       "9                    Branch  TVComplement          0.589\n",
       "10                   Region  TVComplement          0.859\n",
       "11                  Company  TVComplement          0.553\n",
       "12          Employment_Type  TVComplement          0.875\n",
       "13                Loan_Term  TVComplement          0.872"
      ]
     },
     "execution_count": 51,
     "metadata": {},
     "output_type": "execute_result"
    }
   ],
   "source": [
    "quality_report.get_details(property_name='Column Shapes')"
   ]
  },
  {
   "cell_type": "code",
   "execution_count": 49,
   "metadata": {},
   "outputs": [
    {
     "name": "stderr",
     "output_type": "stream",
     "text": [
      "c:\\Users\\david\\miniconda3\\envs\\SDV_env\\lib\\site-packages\\sdmetrics\\reports\\utils.py:660: UserWarning: Unexpected values (\"Castello Di Godego\", \"Zuccarello\", \"Capestrano\", \"Monchio Delle Corti\", \"Tordinia\" + more) in column \"Branch\"\n",
      "  warnings.warn(warning_format.format(values=values, column=column))\n",
      "c:\\Users\\david\\miniconda3\\envs\\SDV_env\\lib\\site-packages\\sdmetrics\\reports\\utils.py:660: UserWarning: Unexpected values (\"Donatoni s.r.l.\", \"Gargallo, Gentilini e Filogamo e figli\", \"Camilleri e figli\", \"Sobrero, Fiorucci e Mantegazza SPA\", \"Vivaldi, Ioppi e Cannizzaro e figli\" + more) in column \"Company\"\n",
      "  warnings.warn(warning_format.format(values=values, column=column))\n",
      "Creating report: 100%|██████████| 4/4 [00:14<00:00,  3.70s/it]\n"
     ]
    },
    {
     "name": "stdout",
     "output_type": "stream",
     "text": [
      "\n",
      "Overall Quality Score: 70.16%\n",
      "\n",
      "Properties:\n",
      "Column Shapes: 77.94%\n",
      "Column Pair Trends: 62.38%\n"
     ]
    }
   ],
   "source": [
    "# Evaluation Quality\n",
    "quality_report_test = eqs(\n",
    "    real_data=RD,\n",
    "    synthetic_data=SD_FAST_ML_test,\n",
    "    metadata=metadata_st\n",
    ")"
   ]
  },
  {
   "cell_type": "code",
   "execution_count": 52,
   "metadata": {},
   "outputs": [
    {
     "data": {
      "text/html": [
       "<div>\n",
       "<style scoped>\n",
       "    .dataframe tbody tr th:only-of-type {\n",
       "        vertical-align: middle;\n",
       "    }\n",
       "\n",
       "    .dataframe tbody tr th {\n",
       "        vertical-align: top;\n",
       "    }\n",
       "\n",
       "    .dataframe thead th {\n",
       "        text-align: right;\n",
       "    }\n",
       "</style>\n",
       "<table border=\"1\" class=\"dataframe\">\n",
       "  <thead>\n",
       "    <tr style=\"text-align: right;\">\n",
       "      <th></th>\n",
       "      <th>Column</th>\n",
       "      <th>Metric</th>\n",
       "      <th>Quality Score</th>\n",
       "    </tr>\n",
       "  </thead>\n",
       "  <tbody>\n",
       "    <tr>\n",
       "      <th>0</th>\n",
       "      <td>Balance</td>\n",
       "      <td>KSComplement</td>\n",
       "      <td>0.832000</td>\n",
       "    </tr>\n",
       "    <tr>\n",
       "      <th>1</th>\n",
       "      <td>Last_Transaction_Date</td>\n",
       "      <td>KSComplement</td>\n",
       "      <td>0.929000</td>\n",
       "    </tr>\n",
       "    <tr>\n",
       "      <th>2</th>\n",
       "      <td>Last_Transaction_Amount</td>\n",
       "      <td>KSComplement</td>\n",
       "      <td>0.916000</td>\n",
       "    </tr>\n",
       "    <tr>\n",
       "      <th>3</th>\n",
       "      <td>Tot_Transaction_Amount</td>\n",
       "      <td>KSComplement</td>\n",
       "      <td>0.930000</td>\n",
       "    </tr>\n",
       "    <tr>\n",
       "      <th>4</th>\n",
       "      <td>Credit_Score</td>\n",
       "      <td>KSComplement</td>\n",
       "      <td>0.875000</td>\n",
       "    </tr>\n",
       "    <tr>\n",
       "      <th>5</th>\n",
       "      <td>Loan_Amount</td>\n",
       "      <td>KSComplement</td>\n",
       "      <td>0.921000</td>\n",
       "    </tr>\n",
       "    <tr>\n",
       "      <th>6</th>\n",
       "      <td>Interest_Rate</td>\n",
       "      <td>KSComplement</td>\n",
       "      <td>0.936000</td>\n",
       "    </tr>\n",
       "    <tr>\n",
       "      <th>7</th>\n",
       "      <td>Account_Type</td>\n",
       "      <td>TVComplement</td>\n",
       "      <td>0.937000</td>\n",
       "    </tr>\n",
       "    <tr>\n",
       "      <th>8</th>\n",
       "      <td>Currency</td>\n",
       "      <td>TVComplement</td>\n",
       "      <td>1.000000</td>\n",
       "    </tr>\n",
       "    <tr>\n",
       "      <th>9</th>\n",
       "      <td>Branch</td>\n",
       "      <td>TVComplement</td>\n",
       "      <td>0.032001</td>\n",
       "    </tr>\n",
       "    <tr>\n",
       "      <th>10</th>\n",
       "      <td>Region</td>\n",
       "      <td>TVComplement</td>\n",
       "      <td>0.844000</td>\n",
       "    </tr>\n",
       "    <tr>\n",
       "      <th>11</th>\n",
       "      <td>Company</td>\n",
       "      <td>TVComplement</td>\n",
       "      <td>0.004001</td>\n",
       "    </tr>\n",
       "    <tr>\n",
       "      <th>12</th>\n",
       "      <td>Employment_Type</td>\n",
       "      <td>TVComplement</td>\n",
       "      <td>0.879000</td>\n",
       "    </tr>\n",
       "    <tr>\n",
       "      <th>13</th>\n",
       "      <td>Loan_Term</td>\n",
       "      <td>TVComplement</td>\n",
       "      <td>0.876000</td>\n",
       "    </tr>\n",
       "  </tbody>\n",
       "</table>\n",
       "</div>"
      ],
      "text/plain": [
       "                     Column        Metric  Quality Score\n",
       "0                   Balance  KSComplement       0.832000\n",
       "1     Last_Transaction_Date  KSComplement       0.929000\n",
       "2   Last_Transaction_Amount  KSComplement       0.916000\n",
       "3    Tot_Transaction_Amount  KSComplement       0.930000\n",
       "4              Credit_Score  KSComplement       0.875000\n",
       "5               Loan_Amount  KSComplement       0.921000\n",
       "6             Interest_Rate  KSComplement       0.936000\n",
       "7              Account_Type  TVComplement       0.937000\n",
       "8                  Currency  TVComplement       1.000000\n",
       "9                    Branch  TVComplement       0.032001\n",
       "10                   Region  TVComplement       0.844000\n",
       "11                  Company  TVComplement       0.004001\n",
       "12          Employment_Type  TVComplement       0.879000\n",
       "13                Loan_Term  TVComplement       0.876000"
      ]
     },
     "execution_count": 52,
     "metadata": {},
     "output_type": "execute_result"
    }
   ],
   "source": [
    "quality_report_test.get_details(property_name='Column Shapes')"
   ]
  },
  {
   "cell_type": "code",
   "execution_count": 34,
   "metadata": {},
   "outputs": [
    {
     "name": "stderr",
     "output_type": "stream",
     "text": [
      "Creating report: 100%|██████████| 4/4 [00:06<00:00,  1.68s/it]"
     ]
    },
    {
     "name": "stdout",
     "output_type": "stream",
     "text": [
      "\n",
      "DiagnosticResults:\n",
      "\n",
      "SUCCESS:\n",
      "✓ The synthetic data covers over 90% of the numerical ranges present in the real data\n",
      "✓ Over 90% of the synthetic rows are not copies of the real data\n",
      "✓ The synthetic data follows over 90% of the min/max boundaries set by the real data\n",
      "\n",
      "WARNING:\n",
      "! The synthetic data is missing more than 10% of the categories present in the real data\n"
     ]
    },
    {
     "name": "stderr",
     "output_type": "stream",
     "text": [
      "\n"
     ]
    }
   ],
   "source": [
    "# Reference Diagnostic (reuire Multi Table data/metadata)\n",
    "real_data = {'d1': RD}\n",
    "synthetic_data = {'d1': SD_FAST_ML}\n",
    "\n",
    "diagnostic_report = run_diagnostic(\n",
    "    real_data=real_data,\n",
    "    synthetic_data=synthetic_data,\n",
    "    metadata=metadata_mt\n",
    ")"
   ]
  },
  {
   "cell_type": "code",
   "execution_count": 39,
   "metadata": {},
   "outputs": [
    {
     "data": {
      "text/plain": [
       "{'SUCCESS': ['The synthetic data covers over 90% of the numerical ranges present in the real data',\n",
       "  'Over 90% of the synthetic rows are not copies of the real data',\n",
       "  'The synthetic data follows over 90% of the min/max boundaries set by the real data'],\n",
       " 'WARNING': ['The synthetic data is missing more than 10% of the categories present in the real data'],\n",
       " 'DANGER': []}"
      ]
     },
     "execution_count": 39,
     "metadata": {},
     "output_type": "execute_result"
    }
   ],
   "source": [
    "diagnostic_report.get_results()"
   ]
  },
  {
   "cell_type": "code",
   "execution_count": 40,
   "metadata": {},
   "outputs": [
    {
     "name": "stderr",
     "output_type": "stream",
     "text": [
      "c:\\Users\\david\\miniconda3\\envs\\SDV_env\\lib\\site-packages\\sdmetrics\\reports\\utils.py:660: UserWarning: Unexpected values (\"Castello Di Godego\", \"Zuccarello\", \"Capestrano\", \"Monchio Delle Corti\", \"Tordinia\" + more) in column \"Branch\" and table \"d1\"\n",
      "  warnings.warn(warning_format.format(values=values, column=column))\n",
      "c:\\Users\\david\\miniconda3\\envs\\SDV_env\\lib\\site-packages\\sdmetrics\\reports\\utils.py:660: UserWarning: Unexpected values (\"Donatoni s.r.l.\", \"Gargallo, Gentilini e Filogamo e figli\", \"Camilleri e figli\", \"Sobrero, Fiorucci e Mantegazza SPA\", \"Vivaldi, Ioppi e Cannizzaro e figli\" + more) in column \"Company\" and table \"d1\"\n",
      "  warnings.warn(warning_format.format(values=values, column=column))\n",
      "Creating report: 100%|██████████| 4/4 [00:06<00:00,  1.70s/it]"
     ]
    },
    {
     "name": "stdout",
     "output_type": "stream",
     "text": [
      "\n",
      "DiagnosticResults:\n",
      "\n",
      "SUCCESS:\n",
      "✓ The synthetic data covers over 90% of the numerical ranges present in the real data\n",
      "✓ Over 90% of the synthetic rows are not copies of the real data\n",
      "✓ The synthetic data follows over 90% of the min/max boundaries set by the real data\n",
      "\n",
      "WARNING:\n",
      "! The synthetic data is missing more than 10% of the categories present in the real data\n"
     ]
    },
    {
     "name": "stderr",
     "output_type": "stream",
     "text": [
      "\n"
     ]
    }
   ],
   "source": [
    "# Test Diagnostic (reuire Multi Table data/metadata)\n",
    "real_data = {'d1': RD}\n",
    "synthetic_data = {'d1': SD_FAST_ML_test}\n",
    "\n",
    "diagnostic_report_test = run_diagnostic(\n",
    "    real_data=real_data,\n",
    "    synthetic_data=synthetic_data,\n",
    "    metadata=metadata_mt\n",
    ")"
   ]
  },
  {
   "cell_type": "code",
   "execution_count": 41,
   "metadata": {},
   "outputs": [
    {
     "data": {
      "text/plain": [
       "{'SUCCESS': ['The synthetic data covers over 90% of the numerical ranges present in the real data',\n",
       "  'Over 90% of the synthetic rows are not copies of the real data',\n",
       "  'The synthetic data follows over 90% of the min/max boundaries set by the real data'],\n",
       " 'WARNING': ['The synthetic data is missing more than 10% of the categories present in the real data'],\n",
       " 'DANGER': []}"
      ]
     },
     "execution_count": 41,
     "metadata": {},
     "output_type": "execute_result"
    }
   ],
   "source": [
    "diagnostic_report_test.get_results()"
   ]
  },
  {
   "attachments": {},
   "cell_type": "markdown",
   "metadata": {},
   "source": [
    "##### Evaluation Quality for Multi Table models"
   ]
  },
  {
   "attachments": {},
   "cell_type": "markdown",
   "metadata": {},
   "source": [
    "HMA"
   ]
  },
  {
   "cell_type": "code",
   "execution_count": 42,
   "metadata": {},
   "outputs": [],
   "source": [
    "# Data dictionaries for quality evaluation\n",
    "real_data = {'d1': RD}\n",
    "synthetic_data = {'d1': SD_HMA}\n",
    "synthetic_data_test = {'d1': SD_HMA_test}"
   ]
  },
  {
   "cell_type": "code",
   "execution_count": 43,
   "metadata": {},
   "outputs": [
    {
     "name": "stderr",
     "output_type": "stream",
     "text": [
      "Creating report: 100%|██████████| 5/5 [00:03<00:00,  1.52it/s]\n"
     ]
    },
    {
     "name": "stdout",
     "output_type": "stream",
     "text": [
      "\n",
      "Overall Quality Score: 82.24%\n",
      "\n",
      "Properties:\n",
      "Column Shapes: 91.26%\n",
      "Column Pair Trends: 73.21%\n",
      "Parent Child Relationships: NaN\n"
     ]
    },
    {
     "name": "stderr",
     "output_type": "stream",
     "text": [
      "c:\\Users\\david\\miniconda3\\envs\\SDV_env\\lib\\site-packages\\sdmetrics\\reports\\multi_table\\quality_report.py:127: RuntimeWarning: Mean of empty slice\n",
      "  self._property_breakdown[prop] = np.nanmean(prop_scores) if (\n"
     ]
    }
   ],
   "source": [
    "# Evaluation Quality Reference\n",
    "quality_report = eqm(\n",
    "    real_data=real_data,\n",
    "    synthetic_data=synthetic_data,\n",
    "    metadata=metadata_mt\n",
    ")"
   ]
  },
  {
   "cell_type": "code",
   "execution_count": 44,
   "metadata": {},
   "outputs": [
    {
     "name": "stderr",
     "output_type": "stream",
     "text": [
      "c:\\Users\\david\\miniconda3\\envs\\SDV_env\\lib\\site-packages\\sdmetrics\\reports\\utils.py:660: UserWarning: Unexpected values (\"Seit\", \"Muccignano\", \"Pilcante\", \"San Colombano Belmonte\", \"Montjovet\" + more) in column \"Branch\" and table \"d1\"\n",
      "  warnings.warn(warning_format.format(values=values, column=column))\n",
      "c:\\Users\\david\\miniconda3\\envs\\SDV_env\\lib\\site-packages\\sdmetrics\\reports\\utils.py:660: UserWarning: Unexpected values (\"Tamburello, Adinolfi e Tarantini s.r.l.\", \"Legnante, Jovinelli e Impastato SPA\", \"Morpurgo, Binaghi e Ruffini SPA\", \"Battaglia-Bonolis Group\", \"Palumbo s.r.l.\" + more) in column \"Company\" and table \"d1\"\n",
      "  warnings.warn(warning_format.format(values=values, column=column))\n",
      "Creating report: 100%|██████████| 5/5 [00:14<00:00,  2.92s/it]\n"
     ]
    },
    {
     "name": "stdout",
     "output_type": "stream",
     "text": [
      "\n",
      "Overall Quality Score: 75.38%\n",
      "\n",
      "Properties:\n",
      "Column Shapes: 82.11%\n",
      "Column Pair Trends: 68.65%\n",
      "Parent Child Relationships: NaN\n"
     ]
    },
    {
     "name": "stderr",
     "output_type": "stream",
     "text": [
      "c:\\Users\\david\\miniconda3\\envs\\SDV_env\\lib\\site-packages\\sdmetrics\\reports\\multi_table\\quality_report.py:127: RuntimeWarning: Mean of empty slice\n",
      "  self._property_breakdown[prop] = np.nanmean(prop_scores) if (\n"
     ]
    }
   ],
   "source": [
    "# Evaluation Quality Test\n",
    "quality_report = eqm(\n",
    "    real_data=real_data,\n",
    "    synthetic_data=synthetic_data_test,\n",
    "    metadata=metadata_mt\n",
    ")"
   ]
  },
  {
   "cell_type": "code",
   "execution_count": 45,
   "metadata": {},
   "outputs": [
    {
     "name": "stderr",
     "output_type": "stream",
     "text": [
      "Creating report: 100%|██████████| 4/4 [00:06<00:00,  1.68s/it]"
     ]
    },
    {
     "name": "stdout",
     "output_type": "stream",
     "text": [
      "\n",
      "DiagnosticResults:\n",
      "\n",
      "SUCCESS:\n",
      "✓ The synthetic data covers over 90% of the numerical ranges present in the real data\n",
      "✓ Over 90% of the synthetic rows are not copies of the real data\n",
      "✓ The synthetic data follows over 90% of the min/max boundaries set by the real data\n",
      "\n",
      "WARNING:\n",
      "! The synthetic data is missing more than 10% of the categories present in the real data\n"
     ]
    },
    {
     "name": "stderr",
     "output_type": "stream",
     "text": [
      "\n"
     ]
    }
   ],
   "source": [
    "# Diagnostic Reference\n",
    "diagnostic_report = run_diagnostic(\n",
    "    real_data=real_data,\n",
    "    synthetic_data=synthetic_data,\n",
    "    metadata=metadata_mt\n",
    ")"
   ]
  },
  {
   "cell_type": "code",
   "execution_count": 47,
   "metadata": {},
   "outputs": [
    {
     "name": "stderr",
     "output_type": "stream",
     "text": [
      "c:\\Users\\david\\miniconda3\\envs\\SDV_env\\lib\\site-packages\\sdmetrics\\reports\\utils.py:660: UserWarning: Unexpected values (\"Seit\", \"Muccignano\", \"Pilcante\", \"San Colombano Belmonte\", \"Montjovet\" + more) in column \"Branch\" and table \"d1\"\n",
      "  warnings.warn(warning_format.format(values=values, column=column))\n",
      "c:\\Users\\david\\miniconda3\\envs\\SDV_env\\lib\\site-packages\\sdmetrics\\reports\\utils.py:660: UserWarning: Unexpected values (\"Tamburello, Adinolfi e Tarantini s.r.l.\", \"Legnante, Jovinelli e Impastato SPA\", \"Morpurgo, Binaghi e Ruffini SPA\", \"Battaglia-Bonolis Group\", \"Palumbo s.r.l.\" + more) in column \"Company\" and table \"d1\"\n",
      "  warnings.warn(warning_format.format(values=values, column=column))\n",
      "Creating report: 100%|██████████| 4/4 [00:06<00:00,  1.61s/it]"
     ]
    },
    {
     "name": "stdout",
     "output_type": "stream",
     "text": [
      "\n",
      "DiagnosticResults:\n",
      "\n",
      "SUCCESS:\n",
      "✓ The synthetic data covers over 90% of the numerical ranges present in the real data\n",
      "✓ Over 90% of the synthetic rows are not copies of the real data\n",
      "✓ The synthetic data follows over 90% of the min/max boundaries set by the real data\n",
      "\n",
      "WARNING:\n",
      "! The synthetic data is missing more than 10% of the categories present in the real data\n"
     ]
    },
    {
     "name": "stderr",
     "output_type": "stream",
     "text": [
      "\n"
     ]
    }
   ],
   "source": [
    "# Diagnostic Test\n",
    "diagnostic_report_test = run_diagnostic(\n",
    "    real_data=real_data,\n",
    "    synthetic_data=synthetic_data_test,\n",
    "    metadata=metadata_mt\n",
    ")"
   ]
  },
  {
   "attachments": {},
   "cell_type": "markdown",
   "metadata": {},
   "source": [
    "# To Do"
   ]
  },
  {
   "attachments": {},
   "cell_type": "markdown",
   "metadata": {},
   "source": [
    "CTGAN"
   ]
  },
  {
   "cell_type": "code",
   "execution_count": null,
   "metadata": {},
   "outputs": [],
   "source": [
    "# RD_stats = calculate_statistics(RD)\n",
    "# SD_CTGAN_stats = calculate_statistics(SD_CTGAN)\n",
    "# compare_statistics(RD_stats, SD_CTGAN_stats)"
   ]
  },
  {
   "cell_type": "code",
   "execution_count": null,
   "metadata": {},
   "outputs": [],
   "source": []
  }
 ],
 "metadata": {
  "kernelspec": {
   "display_name": "SDV_env",
   "language": "python",
   "name": "python3"
  },
  "language_info": {
   "codemirror_mode": {
    "name": "ipython",
    "version": 3
   },
   "file_extension": ".py",
   "mimetype": "text/x-python",
   "name": "python",
   "nbconvert_exporter": "python",
   "pygments_lexer": "ipython3",
   "version": "3.8.16"
  },
  "orig_nbformat": 4
 },
 "nbformat": 4,
 "nbformat_minor": 2
}
