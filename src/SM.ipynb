{
 "cells": [
  {
   "attachments": {},
   "cell_type": "markdown",
   "metadata": {},
   "source": [
    "# Statistics and Metrics Evaluation"
   ]
  },
  {
   "attachments": {},
   "cell_type": "markdown",
   "metadata": {},
   "source": [
    "### Import"
   ]
  },
  {
   "cell_type": "code",
   "execution_count": 24,
   "metadata": {},
   "outputs": [],
   "source": [
    "import pandas as pd\n",
    "from sdv.metadata import SingleTableMetadata\n",
    "from sdv.metadata import MultiTableMetadata\n",
    "from sdv.evaluation.single_table import evaluate_quality as eqs\n",
    "from sdv.evaluation.multi_table import evaluate_quality as eqm\n",
    "from sdv.evaluation.multi_table import run_diagnostic"
   ]
  },
  {
   "attachments": {},
   "cell_type": "markdown",
   "metadata": {},
   "source": [
    "External Functions"
   ]
  },
  {
   "cell_type": "code",
   "execution_count": 25,
   "metadata": {},
   "outputs": [],
   "source": [
    "%run utils/Statistics.py\n",
    "%run utils/Generator.py"
   ]
  },
  {
   "attachments": {},
   "cell_type": "markdown",
   "metadata": {},
   "source": [
    "File Paths"
   ]
  },
  {
   "cell_type": "code",
   "execution_count": 26,
   "metadata": {},
   "outputs": [],
   "source": [
    "# Real Dataset Output\n",
    "path_RD = '../data/real_data/REF.csv'\n",
    "\n",
    "# Metadata based on Real Dataset Output\n",
    "path_metadata_st = '../data/metadata/metadata_st_REF.json'\n",
    "path_metadata_mt = '../data/metadata/metadata_mt_REF.json'\n",
    "\n",
    "# Reference Synthetic Dataset Output\n",
    "path_FAST_ML = '../data/synthetic_data/FAST_ML_test.csv'\n",
    "path_CTGAN = '../data/synthetic_data/CTGAN_test.csv'\n",
    "path_HMA = '../data/synthetic_data/HMA_test.csv'\n",
    "\n",
    "# Test Synthetic Dataset Output\n",
    "path_FAST_ML_test = '../data/synthetic_data/FAST_ML_d_test.csv'\n",
    "path_CTGAN_test = '../data/synthetic_data/CTGAN_d_test.csv'\n",
    "path_HMA_test = '../data/synthetic_data/HMA_d_test.csv'"
   ]
  },
  {
   "attachments": {},
   "cell_type": "markdown",
   "metadata": {},
   "source": [
    "Real Data"
   ]
  },
  {
   "cell_type": "code",
   "execution_count": 27,
   "metadata": {},
   "outputs": [],
   "source": [
    "RD = pd.read_csv(path_RD)"
   ]
  },
  {
   "attachments": {},
   "cell_type": "markdown",
   "metadata": {},
   "source": [
    "Metadata"
   ]
  },
  {
   "cell_type": "code",
   "execution_count": 28,
   "metadata": {},
   "outputs": [],
   "source": [
    "# Single Table metadata\n",
    "metadata_st = SingleTableMetadata.load_from_json(path_metadata_st)\n",
    "\n",
    "# Multi Table metadata\n",
    "metadata_mt = MultiTableMetadata.load_from_json(path_metadata_mt)"
   ]
  },
  {
   "attachments": {},
   "cell_type": "markdown",
   "metadata": {},
   "source": [
    "Synthetic Data"
   ]
  },
  {
   "cell_type": "code",
   "execution_count": 29,
   "metadata": {},
   "outputs": [],
   "source": [
    "# CTGAN = pd.read_csv(path_CTGAN)\n",
    "SD_FAST_ML = pd.read_csv(path_FAST_ML)\n",
    "SD_CTGAN = pd.read_csv(path_CTGAN)\n",
    "SD_HMA = pd.read_csv(path_HMA)"
   ]
  },
  {
   "attachments": {},
   "cell_type": "markdown",
   "metadata": {},
   "source": [
    "### Statistics"
   ]
  },
  {
   "attachments": {},
   "cell_type": "markdown",
   "metadata": {},
   "source": [
    "In this section a reference SD is compared to a new test SD to evaluate and statistics."
   ]
  },
  {
   "attachments": {},
   "cell_type": "markdown",
   "metadata": {},
   "source": [
    "##### FAST_ML"
   ]
  },
  {
   "cell_type": "code",
   "execution_count": 31,
   "metadata": {},
   "outputs": [
    {
     "data": {
      "text/html": [
       "<div>\n",
       "<style scoped>\n",
       "    .dataframe tbody tr th:only-of-type {\n",
       "        vertical-align: middle;\n",
       "    }\n",
       "\n",
       "    .dataframe tbody tr th {\n",
       "        vertical-align: top;\n",
       "    }\n",
       "\n",
       "    .dataframe thead th {\n",
       "        text-align: right;\n",
       "    }\n",
       "</style>\n",
       "<table border=\"1\" class=\"dataframe\">\n",
       "  <thead>\n",
       "    <tr style=\"text-align: right;\">\n",
       "      <th></th>\n",
       "      <th>Statistic</th>\n",
       "      <th>RD_Balance</th>\n",
       "      <th>SD_Balance</th>\n",
       "      <th>RD_Credit_Score</th>\n",
       "      <th>SD_Credit_Score</th>\n",
       "    </tr>\n",
       "  </thead>\n",
       "  <tbody>\n",
       "    <tr>\n",
       "      <th>0</th>\n",
       "      <td>Mean</td>\n",
       "      <td>502181.747275</td>\n",
       "      <td>536612.451899</td>\n",
       "      <td>822.326603</td>\n",
       "      <td>825.501710</td>\n",
       "    </tr>\n",
       "    <tr>\n",
       "      <th>1</th>\n",
       "      <td>Std</td>\n",
       "      <td>472645.099200</td>\n",
       "      <td>414670.592861</td>\n",
       "      <td>429.086412</td>\n",
       "      <td>407.082121</td>\n",
       "    </tr>\n",
       "  </tbody>\n",
       "</table>\n",
       "</div>"
      ],
      "text/plain": [
       "  Statistic     RD_Balance     SD_Balance  RD_Credit_Score  SD_Credit_Score\n",
       "0      Mean  502181.747275  536612.451899       822.326603       825.501710\n",
       "1       Std  472645.099200  414670.592861       429.086412       407.082121"
      ]
     },
     "execution_count": 31,
     "metadata": {},
     "output_type": "execute_result"
    }
   ],
   "source": [
    "RD_stats = calculate_statistics(RD)\n",
    "SD_FAST_ML_stats = calculate_statistics(SD_FAST_ML)\n",
    "compare_statistics(RD_stats, SD_FAST_ML_stats)"
   ]
  },
  {
   "attachments": {},
   "cell_type": "markdown",
   "metadata": {},
   "source": [
    "##### CTGAN"
   ]
  },
  {
   "cell_type": "code",
   "execution_count": 33,
   "metadata": {},
   "outputs": [
    {
     "data": {
      "text/html": [
       "<div>\n",
       "<style scoped>\n",
       "    .dataframe tbody tr th:only-of-type {\n",
       "        vertical-align: middle;\n",
       "    }\n",
       "\n",
       "    .dataframe tbody tr th {\n",
       "        vertical-align: top;\n",
       "    }\n",
       "\n",
       "    .dataframe thead th {\n",
       "        text-align: right;\n",
       "    }\n",
       "</style>\n",
       "<table border=\"1\" class=\"dataframe\">\n",
       "  <thead>\n",
       "    <tr style=\"text-align: right;\">\n",
       "      <th></th>\n",
       "      <th>Statistic</th>\n",
       "      <th>RD_Balance</th>\n",
       "      <th>SD_Balance</th>\n",
       "      <th>RD_Credit_Score</th>\n",
       "      <th>SD_Credit_Score</th>\n",
       "    </tr>\n",
       "  </thead>\n",
       "  <tbody>\n",
       "    <tr>\n",
       "      <th>0</th>\n",
       "      <td>Mean</td>\n",
       "      <td>502181.747275</td>\n",
       "      <td>258423.760714</td>\n",
       "      <td>822.326603</td>\n",
       "      <td>577.940527</td>\n",
       "    </tr>\n",
       "    <tr>\n",
       "      <th>1</th>\n",
       "      <td>Std</td>\n",
       "      <td>472645.099200</td>\n",
       "      <td>NaN</td>\n",
       "      <td>429.086412</td>\n",
       "      <td>NaN</td>\n",
       "    </tr>\n",
       "  </tbody>\n",
       "</table>\n",
       "</div>"
      ],
      "text/plain": [
       "  Statistic     RD_Balance     SD_Balance  RD_Credit_Score  SD_Credit_Score\n",
       "0      Mean  502181.747275  258423.760714       822.326603       577.940527\n",
       "1       Std  472645.099200            NaN       429.086412              NaN"
      ]
     },
     "execution_count": 33,
     "metadata": {},
     "output_type": "execute_result"
    }
   ],
   "source": [
    "# RD_stats = calculate_statistics(RD)\n",
    "SD_CTGAN_stats = calculate_statistics(SD_CTGAN)\n",
    "compare_statistics(RD_stats, SD_CTGAN_stats)"
   ]
  },
  {
   "attachments": {},
   "cell_type": "markdown",
   "metadata": {},
   "source": [
    "##### HMA"
   ]
  },
  {
   "cell_type": "code",
   "execution_count": 35,
   "metadata": {},
   "outputs": [
    {
     "data": {
      "text/html": [
       "<div>\n",
       "<style scoped>\n",
       "    .dataframe tbody tr th:only-of-type {\n",
       "        vertical-align: middle;\n",
       "    }\n",
       "\n",
       "    .dataframe tbody tr th {\n",
       "        vertical-align: top;\n",
       "    }\n",
       "\n",
       "    .dataframe thead th {\n",
       "        text-align: right;\n",
       "    }\n",
       "</style>\n",
       "<table border=\"1\" class=\"dataframe\">\n",
       "  <thead>\n",
       "    <tr style=\"text-align: right;\">\n",
       "      <th></th>\n",
       "      <th>Statistic</th>\n",
       "      <th>RD_Balance</th>\n",
       "      <th>SD_Balance</th>\n",
       "      <th>RD_Credit_Score</th>\n",
       "      <th>SD_Credit_Score</th>\n",
       "    </tr>\n",
       "  </thead>\n",
       "  <tbody>\n",
       "    <tr>\n",
       "      <th>0</th>\n",
       "      <td>Mean</td>\n",
       "      <td>502181.747275</td>\n",
       "      <td>501840.886799</td>\n",
       "      <td>822.326603</td>\n",
       "      <td>829.322619</td>\n",
       "    </tr>\n",
       "    <tr>\n",
       "      <th>1</th>\n",
       "      <td>Std</td>\n",
       "      <td>472645.099200</td>\n",
       "      <td>469844.973593</td>\n",
       "      <td>429.086412</td>\n",
       "      <td>449.160143</td>\n",
       "    </tr>\n",
       "  </tbody>\n",
       "</table>\n",
       "</div>"
      ],
      "text/plain": [
       "  Statistic     RD_Balance     SD_Balance  RD_Credit_Score  SD_Credit_Score\n",
       "0      Mean  502181.747275  501840.886799       822.326603       829.322619\n",
       "1       Std  472645.099200  469844.973593       429.086412       449.160143"
      ]
     },
     "execution_count": 35,
     "metadata": {},
     "output_type": "execute_result"
    }
   ],
   "source": [
    "RD_stats = calculate_statistics(RD)\n",
    "SD_HMA_stats = calculate_statistics(SD_HMA)\n",
    "compare_statistics(RD_stats, SD_HMA_stats)"
   ]
  },
  {
   "attachments": {},
   "cell_type": "markdown",
   "metadata": {},
   "source": [
    "### Metrics"
   ]
  },
  {
   "attachments": {},
   "cell_type": "markdown",
   "metadata": {},
   "source": [
    "In this section a reference SD and a new test SD are compared to the RD to evaluate quality on synthetic data and provide diagnostic information."
   ]
  },
  {
   "attachments": {},
   "cell_type": "markdown",
   "metadata": {},
   "source": [
    "##### FAST_ML"
   ]
  },
  {
   "cell_type": "code",
   "execution_count": 37,
   "metadata": {},
   "outputs": [
    {
     "name": "stderr",
     "output_type": "stream",
     "text": [
      "Creating report: 100%|██████████| 4/4 [00:25<00:00,  6.47s/it]\n"
     ]
    },
    {
     "name": "stdout",
     "output_type": "stream",
     "text": [
      "\n",
      "Overall Quality Score: 90.61%\n",
      "\n",
      "Properties:\n",
      "Column Shapes: 92.61%\n",
      "Column Pair Trends: 88.6%\n"
     ]
    }
   ],
   "source": [
    "quality_report = eqs(\n",
    "    real_data=RD,\n",
    "    synthetic_data=SD_FAST_ML,\n",
    "    metadata=metadata_st\n",
    ")"
   ]
  },
  {
   "cell_type": "code",
   "execution_count": 38,
   "metadata": {},
   "outputs": [
    {
     "data": {
      "text/html": [
       "<div>\n",
       "<style scoped>\n",
       "    .dataframe tbody tr th:only-of-type {\n",
       "        vertical-align: middle;\n",
       "    }\n",
       "\n",
       "    .dataframe tbody tr th {\n",
       "        vertical-align: top;\n",
       "    }\n",
       "\n",
       "    .dataframe thead th {\n",
       "        text-align: right;\n",
       "    }\n",
       "</style>\n",
       "<table border=\"1\" class=\"dataframe\">\n",
       "  <thead>\n",
       "    <tr style=\"text-align: right;\">\n",
       "      <th></th>\n",
       "      <th>Column</th>\n",
       "      <th>Metric</th>\n",
       "      <th>Quality Score</th>\n",
       "    </tr>\n",
       "  </thead>\n",
       "  <tbody>\n",
       "    <tr>\n",
       "      <th>0</th>\n",
       "      <td>Balance</td>\n",
       "      <td>KSComplement</td>\n",
       "      <td>0.856408</td>\n",
       "    </tr>\n",
       "    <tr>\n",
       "      <th>1</th>\n",
       "      <td>Last_Transaction_Date</td>\n",
       "      <td>KSComplement</td>\n",
       "      <td>0.941388</td>\n",
       "    </tr>\n",
       "    <tr>\n",
       "      <th>2</th>\n",
       "      <td>Last_Transaction_Amount</td>\n",
       "      <td>KSComplement</td>\n",
       "      <td>0.942081</td>\n",
       "    </tr>\n",
       "    <tr>\n",
       "      <th>3</th>\n",
       "      <td>Tot_Transaction_Amount</td>\n",
       "      <td>KSComplement</td>\n",
       "      <td>0.939183</td>\n",
       "    </tr>\n",
       "    <tr>\n",
       "      <th>4</th>\n",
       "      <td>Credit_Score</td>\n",
       "      <td>KSComplement</td>\n",
       "      <td>0.912097</td>\n",
       "    </tr>\n",
       "    <tr>\n",
       "      <th>5</th>\n",
       "      <td>Loan_Amount</td>\n",
       "      <td>KSComplement</td>\n",
       "      <td>0.942067</td>\n",
       "    </tr>\n",
       "    <tr>\n",
       "      <th>6</th>\n",
       "      <td>Interest_Rate</td>\n",
       "      <td>KSComplement</td>\n",
       "      <td>0.941535</td>\n",
       "    </tr>\n",
       "    <tr>\n",
       "      <th>7</th>\n",
       "      <td>Account_Type</td>\n",
       "      <td>TVComplement</td>\n",
       "      <td>0.999144</td>\n",
       "    </tr>\n",
       "    <tr>\n",
       "      <th>8</th>\n",
       "      <td>Currency</td>\n",
       "      <td>TVComplement</td>\n",
       "      <td>1.000000</td>\n",
       "    </tr>\n",
       "    <tr>\n",
       "      <th>9</th>\n",
       "      <td>Region</td>\n",
       "      <td>TVComplement</td>\n",
       "      <td>0.866659</td>\n",
       "    </tr>\n",
       "    <tr>\n",
       "      <th>10</th>\n",
       "      <td>Employment_Type</td>\n",
       "      <td>TVComplement</td>\n",
       "      <td>0.881330</td>\n",
       "    </tr>\n",
       "    <tr>\n",
       "      <th>11</th>\n",
       "      <td>Loan_Term</td>\n",
       "      <td>TVComplement</td>\n",
       "      <td>0.891841</td>\n",
       "    </tr>\n",
       "  </tbody>\n",
       "</table>\n",
       "</div>"
      ],
      "text/plain": [
       "                     Column        Metric  Quality Score\n",
       "0                   Balance  KSComplement       0.856408\n",
       "1     Last_Transaction_Date  KSComplement       0.941388\n",
       "2   Last_Transaction_Amount  KSComplement       0.942081\n",
       "3    Tot_Transaction_Amount  KSComplement       0.939183\n",
       "4              Credit_Score  KSComplement       0.912097\n",
       "5               Loan_Amount  KSComplement       0.942067\n",
       "6             Interest_Rate  KSComplement       0.941535\n",
       "7              Account_Type  TVComplement       0.999144\n",
       "8                  Currency  TVComplement       1.000000\n",
       "9                    Region  TVComplement       0.866659\n",
       "10          Employment_Type  TVComplement       0.881330\n",
       "11                Loan_Term  TVComplement       0.891841"
      ]
     },
     "execution_count": 38,
     "metadata": {},
     "output_type": "execute_result"
    }
   ],
   "source": [
    "quality_report.get_details(property_name='Column Shapes')"
   ]
  },
  {
   "attachments": {},
   "cell_type": "markdown",
   "metadata": {},
   "source": [
    "##### CTGAN"
   ]
  },
  {
   "cell_type": "code",
   "execution_count": 39,
   "metadata": {},
   "outputs": [
    {
     "name": "stderr",
     "output_type": "stream",
     "text": [
      "Creating report:  50%|█████     | 2/4 [00:02<00:02,  1.47s/it]c:\\Users\\david\\miniconda3\\envs\\SDV_env\\lib\\site-packages\\sdmetrics\\column_pairs\\statistical\\correlation_similarity.py:78: ConstantInputWarning: The synthetic data in columns 'Balance, Last_Transaction_Date' contain a constant value. Correlation is undefined for constant data.\n",
      "  warnings.warn(ConstantInputWarning(msg))\n",
      "c:\\Users\\david\\miniconda3\\envs\\SDV_env\\lib\\site-packages\\sdmetrics\\column_pairs\\statistical\\correlation_similarity.py:78: ConstantInputWarning: The synthetic data in columns 'Balance, Last_Transaction_Amount' contain a constant value. Correlation is undefined for constant data.\n",
      "  warnings.warn(ConstantInputWarning(msg))\n",
      "c:\\Users\\david\\miniconda3\\envs\\SDV_env\\lib\\site-packages\\sdmetrics\\column_pairs\\statistical\\correlation_similarity.py:78: ConstantInputWarning: The synthetic data in columns 'Balance, Tot_Transaction_Amount' contain a constant value. Correlation is undefined for constant data.\n",
      "  warnings.warn(ConstantInputWarning(msg))\n",
      "c:\\Users\\david\\miniconda3\\envs\\SDV_env\\lib\\site-packages\\sdmetrics\\column_pairs\\statistical\\correlation_similarity.py:78: ConstantInputWarning: The synthetic data in columns 'Balance, Credit_Score' contain a constant value. Correlation is undefined for constant data.\n",
      "  warnings.warn(ConstantInputWarning(msg))\n",
      "c:\\Users\\david\\miniconda3\\envs\\SDV_env\\lib\\site-packages\\sdmetrics\\column_pairs\\statistical\\correlation_similarity.py:78: ConstantInputWarning: The synthetic data in columns 'Balance, Loan_Amount' contain a constant value. Correlation is undefined for constant data.\n",
      "  warnings.warn(ConstantInputWarning(msg))\n",
      "c:\\Users\\david\\miniconda3\\envs\\SDV_env\\lib\\site-packages\\sdmetrics\\column_pairs\\statistical\\correlation_similarity.py:78: ConstantInputWarning: The synthetic data in columns 'Balance, Interest_Rate' contain a constant value. Correlation is undefined for constant data.\n",
      "  warnings.warn(ConstantInputWarning(msg))\n",
      "c:\\Users\\david\\miniconda3\\envs\\SDV_env\\lib\\site-packages\\sdmetrics\\column_pairs\\statistical\\correlation_similarity.py:78: ConstantInputWarning: The synthetic data in columns 'Last_Transaction_Amount, Last_Transaction_Date' contain a constant value. Correlation is undefined for constant data.\n",
      "  warnings.warn(ConstantInputWarning(msg))\n",
      "c:\\Users\\david\\miniconda3\\envs\\SDV_env\\lib\\site-packages\\sdmetrics\\column_pairs\\statistical\\correlation_similarity.py:78: ConstantInputWarning: The synthetic data in columns 'Last_Transaction_Date, Tot_Transaction_Amount' contain a constant value. Correlation is undefined for constant data.\n",
      "  warnings.warn(ConstantInputWarning(msg))\n",
      "c:\\Users\\david\\miniconda3\\envs\\SDV_env\\lib\\site-packages\\sdmetrics\\column_pairs\\statistical\\correlation_similarity.py:78: ConstantInputWarning: The synthetic data in columns 'Credit_Score, Last_Transaction_Date' contain a constant value. Correlation is undefined for constant data.\n",
      "  warnings.warn(ConstantInputWarning(msg))\n",
      "c:\\Users\\david\\miniconda3\\envs\\SDV_env\\lib\\site-packages\\sdmetrics\\column_pairs\\statistical\\correlation_similarity.py:78: ConstantInputWarning: The synthetic data in columns 'Last_Transaction_Date, Loan_Amount' contain a constant value. Correlation is undefined for constant data.\n",
      "  warnings.warn(ConstantInputWarning(msg))\n",
      "c:\\Users\\david\\miniconda3\\envs\\SDV_env\\lib\\site-packages\\sdmetrics\\column_pairs\\statistical\\correlation_similarity.py:78: ConstantInputWarning: The synthetic data in columns 'Interest_Rate, Last_Transaction_Date' contain a constant value. Correlation is undefined for constant data.\n",
      "  warnings.warn(ConstantInputWarning(msg))\n",
      "c:\\Users\\david\\miniconda3\\envs\\SDV_env\\lib\\site-packages\\sdmetrics\\column_pairs\\statistical\\correlation_similarity.py:78: ConstantInputWarning: The synthetic data in columns 'Last_Transaction_Amount, Tot_Transaction_Amount' contain a constant value. Correlation is undefined for constant data.\n",
      "  warnings.warn(ConstantInputWarning(msg))\n",
      "c:\\Users\\david\\miniconda3\\envs\\SDV_env\\lib\\site-packages\\sdmetrics\\column_pairs\\statistical\\correlation_similarity.py:78: ConstantInputWarning: The synthetic data in columns 'Credit_Score, Last_Transaction_Amount' contain a constant value. Correlation is undefined for constant data.\n",
      "  warnings.warn(ConstantInputWarning(msg))\n",
      "c:\\Users\\david\\miniconda3\\envs\\SDV_env\\lib\\site-packages\\sdmetrics\\column_pairs\\statistical\\correlation_similarity.py:78: ConstantInputWarning: The synthetic data in columns 'Last_Transaction_Amount, Loan_Amount' contain a constant value. Correlation is undefined for constant data.\n",
      "  warnings.warn(ConstantInputWarning(msg))\n",
      "c:\\Users\\david\\miniconda3\\envs\\SDV_env\\lib\\site-packages\\sdmetrics\\column_pairs\\statistical\\correlation_similarity.py:78: ConstantInputWarning: The synthetic data in columns 'Interest_Rate, Last_Transaction_Amount' contain a constant value. Correlation is undefined for constant data.\n",
      "  warnings.warn(ConstantInputWarning(msg))\n",
      "c:\\Users\\david\\miniconda3\\envs\\SDV_env\\lib\\site-packages\\sdmetrics\\column_pairs\\statistical\\correlation_similarity.py:78: ConstantInputWarning: The synthetic data in columns 'Credit_Score, Tot_Transaction_Amount' contain a constant value. Correlation is undefined for constant data.\n",
      "  warnings.warn(ConstantInputWarning(msg))\n",
      "c:\\Users\\david\\miniconda3\\envs\\SDV_env\\lib\\site-packages\\sdmetrics\\column_pairs\\statistical\\correlation_similarity.py:78: ConstantInputWarning: The synthetic data in columns 'Loan_Amount, Tot_Transaction_Amount' contain a constant value. Correlation is undefined for constant data.\n",
      "  warnings.warn(ConstantInputWarning(msg))\n",
      "c:\\Users\\david\\miniconda3\\envs\\SDV_env\\lib\\site-packages\\sdmetrics\\column_pairs\\statistical\\correlation_similarity.py:78: ConstantInputWarning: The synthetic data in columns 'Interest_Rate, Tot_Transaction_Amount' contain a constant value. Correlation is undefined for constant data.\n",
      "  warnings.warn(ConstantInputWarning(msg))\n",
      "c:\\Users\\david\\miniconda3\\envs\\SDV_env\\lib\\site-packages\\sdmetrics\\column_pairs\\statistical\\correlation_similarity.py:78: ConstantInputWarning: The synthetic data in columns 'Credit_Score, Loan_Amount' contain a constant value. Correlation is undefined for constant data.\n",
      "  warnings.warn(ConstantInputWarning(msg))\n",
      "c:\\Users\\david\\miniconda3\\envs\\SDV_env\\lib\\site-packages\\sdmetrics\\column_pairs\\statistical\\correlation_similarity.py:78: ConstantInputWarning: The synthetic data in columns 'Credit_Score, Interest_Rate' contain a constant value. Correlation is undefined for constant data.\n",
      "  warnings.warn(ConstantInputWarning(msg))\n",
      "c:\\Users\\david\\miniconda3\\envs\\SDV_env\\lib\\site-packages\\sdmetrics\\column_pairs\\statistical\\correlation_similarity.py:78: ConstantInputWarning: The synthetic data in columns 'Interest_Rate, Loan_Amount' contain a constant value. Correlation is undefined for constant data.\n",
      "  warnings.warn(ConstantInputWarning(msg))\n",
      "Creating report: 100%|██████████| 4/4 [00:12<00:00,  3.09s/it]\n"
     ]
    },
    {
     "name": "stdout",
     "output_type": "stream",
     "text": [
      "\n",
      "Overall Quality Score: 23.38%\n",
      "\n",
      "Properties:\n",
      "Column Shapes: 38.52%\n",
      "Column Pair Trends: 8.23%\n"
     ]
    },
    {
     "name": "stderr",
     "output_type": "stream",
     "text": [
      "c:\\Users\\david\\miniconda3\\envs\\SDV_env\\lib\\site-packages\\numpy\\core\\fromnumeric.py:3464: RuntimeWarning: Mean of empty slice.\n",
      "  return _methods._mean(a, axis=axis, dtype=dtype,\n",
      "c:\\Users\\david\\miniconda3\\envs\\SDV_env\\lib\\site-packages\\numpy\\core\\_methods.py:192: RuntimeWarning: invalid value encountered in scalar divide\n",
      "  ret = ret.dtype.type(ret / rcount)\n"
     ]
    }
   ],
   "source": [
    "quality_report = eqs(\n",
    "    real_data=RD,\n",
    "    synthetic_data=SD_CTGAN,\n",
    "    metadata=metadata_st\n",
    ")"
   ]
  },
  {
   "cell_type": "code",
   "execution_count": 40,
   "metadata": {},
   "outputs": [
    {
     "data": {
      "text/html": [
       "<div>\n",
       "<style scoped>\n",
       "    .dataframe tbody tr th:only-of-type {\n",
       "        vertical-align: middle;\n",
       "    }\n",
       "\n",
       "    .dataframe tbody tr th {\n",
       "        vertical-align: top;\n",
       "    }\n",
       "\n",
       "    .dataframe thead th {\n",
       "        text-align: right;\n",
       "    }\n",
       "</style>\n",
       "<table border=\"1\" class=\"dataframe\">\n",
       "  <thead>\n",
       "    <tr style=\"text-align: right;\">\n",
       "      <th></th>\n",
       "      <th>Column</th>\n",
       "      <th>Metric</th>\n",
       "      <th>Quality Score</th>\n",
       "    </tr>\n",
       "  </thead>\n",
       "  <tbody>\n",
       "    <tr>\n",
       "      <th>0</th>\n",
       "      <td>Balance</td>\n",
       "      <td>KSComplement</td>\n",
       "      <td>0.391832</td>\n",
       "    </tr>\n",
       "    <tr>\n",
       "      <th>1</th>\n",
       "      <td>Last_Transaction_Date</td>\n",
       "      <td>KSComplement</td>\n",
       "      <td>0.235284</td>\n",
       "    </tr>\n",
       "    <tr>\n",
       "      <th>2</th>\n",
       "      <td>Last_Transaction_Amount</td>\n",
       "      <td>KSComplement</td>\n",
       "      <td>0.391554</td>\n",
       "    </tr>\n",
       "    <tr>\n",
       "      <th>3</th>\n",
       "      <td>Tot_Transaction_Amount</td>\n",
       "      <td>KSComplement</td>\n",
       "      <td>0.409688</td>\n",
       "    </tr>\n",
       "    <tr>\n",
       "      <th>4</th>\n",
       "      <td>Credit_Score</td>\n",
       "      <td>KSComplement</td>\n",
       "      <td>0.295842</td>\n",
       "    </tr>\n",
       "    <tr>\n",
       "      <th>5</th>\n",
       "      <td>Loan_Amount</td>\n",
       "      <td>KSComplement</td>\n",
       "      <td>0.369000</td>\n",
       "    </tr>\n",
       "    <tr>\n",
       "      <th>6</th>\n",
       "      <td>Interest_Rate</td>\n",
       "      <td>KSComplement</td>\n",
       "      <td>0.447279</td>\n",
       "    </tr>\n",
       "    <tr>\n",
       "      <th>7</th>\n",
       "      <td>Account_Type</td>\n",
       "      <td>TVComplement</td>\n",
       "      <td>0.499122</td>\n",
       "    </tr>\n",
       "    <tr>\n",
       "      <th>8</th>\n",
       "      <td>Currency</td>\n",
       "      <td>TVComplement</td>\n",
       "      <td>1.000000</td>\n",
       "    </tr>\n",
       "    <tr>\n",
       "      <th>9</th>\n",
       "      <td>Region</td>\n",
       "      <td>TVComplement</td>\n",
       "      <td>0.049894</td>\n",
       "    </tr>\n",
       "    <tr>\n",
       "      <th>10</th>\n",
       "      <td>Employment_Type</td>\n",
       "      <td>TVComplement</td>\n",
       "      <td>0.333493</td>\n",
       "    </tr>\n",
       "    <tr>\n",
       "      <th>11</th>\n",
       "      <td>Loan_Term</td>\n",
       "      <td>TVComplement</td>\n",
       "      <td>0.199882</td>\n",
       "    </tr>\n",
       "  </tbody>\n",
       "</table>\n",
       "</div>"
      ],
      "text/plain": [
       "                     Column        Metric  Quality Score\n",
       "0                   Balance  KSComplement       0.391832\n",
       "1     Last_Transaction_Date  KSComplement       0.235284\n",
       "2   Last_Transaction_Amount  KSComplement       0.391554\n",
       "3    Tot_Transaction_Amount  KSComplement       0.409688\n",
       "4              Credit_Score  KSComplement       0.295842\n",
       "5               Loan_Amount  KSComplement       0.369000\n",
       "6             Interest_Rate  KSComplement       0.447279\n",
       "7              Account_Type  TVComplement       0.499122\n",
       "8                  Currency  TVComplement       1.000000\n",
       "9                    Region  TVComplement       0.049894\n",
       "10          Employment_Type  TVComplement       0.333493\n",
       "11                Loan_Term  TVComplement       0.199882"
      ]
     },
     "execution_count": 40,
     "metadata": {},
     "output_type": "execute_result"
    }
   ],
   "source": [
    "quality_report.get_details(property_name='Column Shapes')"
   ]
  },
  {
   "attachments": {},
   "cell_type": "markdown",
   "metadata": {},
   "source": [
    "##### HMA"
   ]
  },
  {
   "cell_type": "code",
   "execution_count": 42,
   "metadata": {},
   "outputs": [],
   "source": [
    "# Data dictionaries for quality evaluation\n",
    "real_data = {'d1': RD}\n",
    "synthetic_data = {'d1': SD_HMA}"
   ]
  },
  {
   "cell_type": "code",
   "execution_count": 43,
   "metadata": {},
   "outputs": [
    {
     "name": "stderr",
     "output_type": "stream",
     "text": [
      "Creating report: 100%|██████████| 5/5 [00:27<00:00,  5.43s/it]\n"
     ]
    },
    {
     "name": "stdout",
     "output_type": "stream",
     "text": [
      "\n",
      "Overall Quality Score: 97.8%\n",
      "\n",
      "Properties:\n",
      "Column Shapes: 98.9%\n",
      "Column Pair Trends: 96.7%\n",
      "Parent Child Relationships: NaN\n"
     ]
    },
    {
     "name": "stderr",
     "output_type": "stream",
     "text": [
      "c:\\Users\\david\\miniconda3\\envs\\SDV_env\\lib\\site-packages\\sdmetrics\\reports\\multi_table\\quality_report.py:127: RuntimeWarning: Mean of empty slice\n",
      "  self._property_breakdown[prop] = np.nanmean(prop_scores) if (\n"
     ]
    }
   ],
   "source": [
    "quality_report = eqm(\n",
    "    real_data=real_data,\n",
    "    synthetic_data=synthetic_data,\n",
    "    metadata=metadata_mt\n",
    ")"
   ]
  },
  {
   "cell_type": "code",
   "execution_count": 44,
   "metadata": {},
   "outputs": [
    {
     "data": {
      "text/html": [
       "<div>\n",
       "<style scoped>\n",
       "    .dataframe tbody tr th:only-of-type {\n",
       "        vertical-align: middle;\n",
       "    }\n",
       "\n",
       "    .dataframe tbody tr th {\n",
       "        vertical-align: top;\n",
       "    }\n",
       "\n",
       "    .dataframe thead th {\n",
       "        text-align: right;\n",
       "    }\n",
       "</style>\n",
       "<table border=\"1\" class=\"dataframe\">\n",
       "  <thead>\n",
       "    <tr style=\"text-align: right;\">\n",
       "      <th></th>\n",
       "      <th>Table</th>\n",
       "      <th>Column</th>\n",
       "      <th>Metric</th>\n",
       "      <th>Quality Score</th>\n",
       "    </tr>\n",
       "  </thead>\n",
       "  <tbody>\n",
       "    <tr>\n",
       "      <th>0</th>\n",
       "      <td>d1</td>\n",
       "      <td>Balance</td>\n",
       "      <td>KSComplement</td>\n",
       "      <td>0.982929</td>\n",
       "    </tr>\n",
       "    <tr>\n",
       "      <th>1</th>\n",
       "      <td>d1</td>\n",
       "      <td>Last_Transaction_Date</td>\n",
       "      <td>KSComplement</td>\n",
       "      <td>0.997223</td>\n",
       "    </tr>\n",
       "    <tr>\n",
       "      <th>2</th>\n",
       "      <td>d1</td>\n",
       "      <td>Last_Transaction_Amount</td>\n",
       "      <td>KSComplement</td>\n",
       "      <td>0.998663</td>\n",
       "    </tr>\n",
       "    <tr>\n",
       "      <th>3</th>\n",
       "      <td>d1</td>\n",
       "      <td>Tot_Transaction_Amount</td>\n",
       "      <td>KSComplement</td>\n",
       "      <td>0.987003</td>\n",
       "    </tr>\n",
       "    <tr>\n",
       "      <th>4</th>\n",
       "      <td>d1</td>\n",
       "      <td>Credit_Score</td>\n",
       "      <td>KSComplement</td>\n",
       "      <td>0.910966</td>\n",
       "    </tr>\n",
       "    <tr>\n",
       "      <th>5</th>\n",
       "      <td>d1</td>\n",
       "      <td>Loan_Amount</td>\n",
       "      <td>KSComplement</td>\n",
       "      <td>0.998410</td>\n",
       "    </tr>\n",
       "    <tr>\n",
       "      <th>6</th>\n",
       "      <td>d1</td>\n",
       "      <td>Interest_Rate</td>\n",
       "      <td>KSComplement</td>\n",
       "      <td>0.998039</td>\n",
       "    </tr>\n",
       "    <tr>\n",
       "      <th>7</th>\n",
       "      <td>d1</td>\n",
       "      <td>Account_Type</td>\n",
       "      <td>TVComplement</td>\n",
       "      <td>0.999803</td>\n",
       "    </tr>\n",
       "    <tr>\n",
       "      <th>8</th>\n",
       "      <td>d1</td>\n",
       "      <td>Currency</td>\n",
       "      <td>TVComplement</td>\n",
       "      <td>1.000000</td>\n",
       "    </tr>\n",
       "    <tr>\n",
       "      <th>9</th>\n",
       "      <td>d1</td>\n",
       "      <td>Region</td>\n",
       "      <td>TVComplement</td>\n",
       "      <td>0.997105</td>\n",
       "    </tr>\n",
       "    <tr>\n",
       "      <th>10</th>\n",
       "      <td>d1</td>\n",
       "      <td>Employment_Type</td>\n",
       "      <td>TVComplement</td>\n",
       "      <td>0.999563</td>\n",
       "    </tr>\n",
       "    <tr>\n",
       "      <th>11</th>\n",
       "      <td>d1</td>\n",
       "      <td>Loan_Term</td>\n",
       "      <td>TVComplement</td>\n",
       "      <td>0.998630</td>\n",
       "    </tr>\n",
       "  </tbody>\n",
       "</table>\n",
       "</div>"
      ],
      "text/plain": [
       "   Table                   Column        Metric  Quality Score\n",
       "0     d1                  Balance  KSComplement       0.982929\n",
       "1     d1    Last_Transaction_Date  KSComplement       0.997223\n",
       "2     d1  Last_Transaction_Amount  KSComplement       0.998663\n",
       "3     d1   Tot_Transaction_Amount  KSComplement       0.987003\n",
       "4     d1             Credit_Score  KSComplement       0.910966\n",
       "5     d1              Loan_Amount  KSComplement       0.998410\n",
       "6     d1            Interest_Rate  KSComplement       0.998039\n",
       "7     d1             Account_Type  TVComplement       0.999803\n",
       "8     d1                 Currency  TVComplement       1.000000\n",
       "9     d1                   Region  TVComplement       0.997105\n",
       "10    d1          Employment_Type  TVComplement       0.999563\n",
       "11    d1                Loan_Term  TVComplement       0.998630"
      ]
     },
     "execution_count": 44,
     "metadata": {},
     "output_type": "execute_result"
    }
   ],
   "source": [
    "quality_report.get_details(property_name='Column Shapes')"
   ]
  },
  {
   "cell_type": "code",
   "execution_count": null,
   "metadata": {},
   "outputs": [],
   "source": []
  }
 ],
 "metadata": {
  "kernelspec": {
   "display_name": "SDV_env",
   "language": "python",
   "name": "python3"
  },
  "language_info": {
   "codemirror_mode": {
    "name": "ipython",
    "version": 3
   },
   "file_extension": ".py",
   "mimetype": "text/x-python",
   "name": "python",
   "nbconvert_exporter": "python",
   "pygments_lexer": "ipython3",
   "version": "3.8.16"
  },
  "orig_nbformat": 4
 },
 "nbformat": 4,
 "nbformat_minor": 2
}
