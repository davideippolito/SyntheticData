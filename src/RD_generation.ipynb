{
 "cells": [
  {
   "attachments": {},
   "cell_type": "markdown",
   "metadata": {},
   "source": [
    "# Import"
   ]
  },
  {
   "cell_type": "code",
   "execution_count": 45,
   "metadata": {},
   "outputs": [],
   "source": [
    "import os\n",
    "import pandas as pd\n",
    "from sdv.single_table import CTGANSynthesizer"
   ]
  },
  {
   "cell_type": "code",
   "execution_count": 46,
   "metadata": {},
   "outputs": [],
   "source": [
    "%run utils/Correlation.py\n",
    "%run utils/Generator.py"
   ]
  },
  {
   "attachments": {},
   "cell_type": "markdown",
   "metadata": {},
   "source": [
    "# Synthetic Data Generation and Analysis"
   ]
  },
  {
   "attachments": {},
   "cell_type": "markdown",
   "metadata": {},
   "source": [
    "### Fake Dataset Generation "
   ]
  },
  {
   "cell_type": "code",
   "execution_count": 47,
   "metadata": {},
   "outputs": [],
   "source": [
    "# Number of subjects\n",
    "n = 10000 # 1M"
   ]
  },
  {
   "cell_type": "code",
   "execution_count": 48,
   "metadata": {},
   "outputs": [
    {
     "data": {
      "text/plain": [
       "10000"
      ]
     },
     "execution_count": 48,
     "metadata": {},
     "output_type": "execute_result"
    }
   ],
   "source": [
    "# Generate a random dataset\n",
    "data = generate_banking_dataset(n)\n",
    "RD = pd.DataFrame(data)\n",
    "len(RD)"
   ]
  },
  {
   "cell_type": "code",
   "execution_count": 54,
   "metadata": {},
   "outputs": [
    {
     "data": {
      "text/html": [
       "<div>\n",
       "<style scoped>\n",
       "    .dataframe tbody tr th:only-of-type {\n",
       "        vertical-align: middle;\n",
       "    }\n",
       "\n",
       "    .dataframe tbody tr th {\n",
       "        vertical-align: top;\n",
       "    }\n",
       "\n",
       "    .dataframe thead th {\n",
       "        text-align: right;\n",
       "    }\n",
       "</style>\n",
       "<table border=\"1\" class=\"dataframe\">\n",
       "  <thead>\n",
       "    <tr style=\"text-align: right;\">\n",
       "      <th></th>\n",
       "      <th>Customer_ID</th>\n",
       "      <th>Account_Number</th>\n",
       "      <th>Account_Type</th>\n",
       "      <th>Balance</th>\n",
       "      <th>Currency</th>\n",
       "      <th>Last_Transaction Date</th>\n",
       "      <th>Last_Transaction Amount</th>\n",
       "      <th>Tot_Transaction_Amount</th>\n",
       "      <th>Branch</th>\n",
       "      <th>Region</th>\n",
       "      <th>Address</th>\n",
       "      <th>Phone</th>\n",
       "      <th>Email</th>\n",
       "      <th>Employer</th>\n",
       "      <th>Employment_Type</th>\n",
       "      <th>Credit_Score</th>\n",
       "      <th>Loan_Amount</th>\n",
       "      <th>Loan_Term</th>\n",
       "      <th>Interest_Rate</th>\n",
       "    </tr>\n",
       "  </thead>\n",
       "  <tbody>\n",
       "    <tr>\n",
       "      <th>0</th>\n",
       "      <td>548202413988662240852</td>\n",
       "      <td>2135665980</td>\n",
       "      <td>Conto Corrente</td>\n",
       "      <td>365226.7</td>\n",
       "      <td>EUR</td>\n",
       "      <td>2023-03-09</td>\n",
       "      <td>1710.83</td>\n",
       "      <td>40363.57</td>\n",
       "      <td>Blavy</td>\n",
       "      <td>Trentino-Alto Adige</td>\n",
       "      <td>Strada Dossi, 9, 42027, Montecchio Emilia (RE)</td>\n",
       "      <td>+003965996486</td>\n",
       "      <td>lillapapafava@example.org</td>\n",
       "      <td>Petrucci, Berrè e Saraceno s.r.l.</td>\n",
       "      <td>Libero Professionista</td>\n",
       "      <td>735</td>\n",
       "      <td>84740.12</td>\n",
       "      <td>12 months</td>\n",
       "      <td>13.58</td>\n",
       "    </tr>\n",
       "  </tbody>\n",
       "</table>\n",
       "</div>"
      ],
      "text/plain": [
       "             Customer_ID  Account_Number    Account_Type   Balance Currency  \\\n",
       "0  548202413988662240852      2135665980  Conto Corrente  365226.7      EUR   \n",
       "\n",
       "  Last_Transaction Date  Last_Transaction Amount  Tot_Transaction_Amount  \\\n",
       "0            2023-03-09                  1710.83                40363.57   \n",
       "\n",
       "  Branch               Region                                         Address  \\\n",
       "0  Blavy  Trentino-Alto Adige  Strada Dossi, 9, 42027, Montecchio Emilia (RE)   \n",
       "\n",
       "           Phone                      Email  \\\n",
       "0  +003965996486  lillapapafava@example.org   \n",
       "\n",
       "                            Employer        Employment_Type  Credit_Score  \\\n",
       "0  Petrucci, Berrè e Saraceno s.r.l.  Libero Professionista           735   \n",
       "\n",
       "   Loan_Amount  Loan_Term  Interest_Rate  \n",
       "0     84740.12  12 months          13.58  "
      ]
     },
     "execution_count": 54,
     "metadata": {},
     "output_type": "execute_result"
    }
   ],
   "source": [
    "RD.head(1)"
   ]
  },
  {
   "cell_type": "code",
   "execution_count": 49,
   "metadata": {},
   "outputs": [],
   "source": [
    "# Apply corrections and introduce correlation\n",
    "dependency_balance_employment_type(data)\n",
    "dependency_region_balance(data)\n",
    "dependency_tot_transaction_amount_credit_score(data)"
   ]
  },
  {
   "cell_type": "code",
   "execution_count": 50,
   "metadata": {},
   "outputs": [],
   "source": [
    "# Check if the file exists and delete it if it does\n",
    "if os.path.isfile('../data/real_data/d_nan.csv'):\n",
    "    os.remove('../data/real_data/d_nan.csv')\n",
    "    \n",
    "# Export of the dataset\n",
    "RD.to_csv('../data/real_data/d_nan.csv', index=False)"
   ]
  },
  {
   "attachments": {},
   "cell_type": "markdown",
   "metadata": {},
   "source": [
    "### Metadata Generation"
   ]
  },
  {
   "cell_type": "code",
   "execution_count": 51,
   "metadata": {},
   "outputs": [],
   "source": [
    "# Generate metadata st\n",
    "metadata_st = generate_metadata_st(RD)\n",
    "# Generate metadata mt\n",
    "metadata_mt = generate_metadata_mt(RD)"
   ]
  },
  {
   "attachments": {},
   "cell_type": "markdown",
   "metadata": {},
   "source": [
    "Export metadata json"
   ]
  },
  {
   "cell_type": "code",
   "execution_count": 52,
   "metadata": {},
   "outputs": [],
   "source": [
    "# Check if the file exists and delete it if it does\n",
    "if os.path.isfile('../data/metadata/metadata_st_d_nan.json'):\n",
    "    os.remove('../data/metadata/metadata_st_d_nan.json')\n",
    "metadata_st.save_to_json('../data/metadata/metadata_st_d_nan.json')"
   ]
  },
  {
   "cell_type": "code",
   "execution_count": 53,
   "metadata": {},
   "outputs": [],
   "source": [
    "# Check if the file exists and delete it if it does\n",
    "if os.path.isfile('../data/metadata/metadata_mt_d_nan.json'):\n",
    "    os.remove('../data/metadata/metadata_mt_d_nan.json')\n",
    "metadata_mt.save_to_json('../data/metadata/metadata_mt_d_nan.json')"
   ]
  },
  {
   "cell_type": "code",
   "execution_count": null,
   "metadata": {},
   "outputs": [],
   "source": []
  }
 ],
 "metadata": {
  "kernelspec": {
   "display_name": "SDV_env",
   "language": "python",
   "name": "python3"
  },
  "language_info": {
   "codemirror_mode": {
    "name": "ipython",
    "version": 3
   },
   "file_extension": ".py",
   "mimetype": "text/x-python",
   "name": "python",
   "nbconvert_exporter": "python",
   "pygments_lexer": "ipython3",
   "version": "3.8.16"
  },
  "orig_nbformat": 4
 },
 "nbformat": 4,
 "nbformat_minor": 2
}
