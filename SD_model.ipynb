{
 "cells": [
  {
   "attachments": {},
   "cell_type": "markdown",
   "metadata": {},
   "source": [
    "# Subject Table Definition"
   ]
  },
  {
   "attachments": {},
   "cell_type": "markdown",
   "metadata": {},
   "source": [
    "### Dataset import"
   ]
  },
  {
   "cell_type": "code",
   "execution_count": 29,
   "metadata": {},
   "outputs": [],
   "source": [
    "import pandas as pd"
   ]
  },
  {
   "cell_type": "code",
   "execution_count": 30,
   "metadata": {},
   "outputs": [],
   "source": [
    "# Specify the path to the CSV file\n",
    "csv_file_path = 'C:/Users/david/Desktop/Davide/SyntheticData/Github/SyntheticData/data/test_dataset.csv'\n",
    "# Load the CSV file into a DataFrame\n",
    "df = pd.read_csv(csv_file_path)"
   ]
  },
  {
   "cell_type": "code",
   "execution_count": 31,
   "metadata": {},
   "outputs": [],
   "source": [
    "# Create an empty dictionary\n",
    "datasets = {}\n",
    "\n",
    "# Add the DataFrame to the dictionary\n",
    "datasets['test_dataset'] = df\n"
   ]
  },
  {
   "cell_type": "code",
   "execution_count": 32,
   "metadata": {},
   "outputs": [
    {
     "data": {
      "text/plain": [
       "{'test_dataset':                         NDG  Segment     Region  Age Range Gender     Income  \\\n",
       " 0      29077800288462831460       20  Lombardia         65      M  344940.00   \n",
       " 1     629940137899049454465       30    Sicilia         65      F   94364.00   \n",
       " 2     392586367169128742483       10     Veneto         65      M  116270.00   \n",
       " 3     908525913488204920962       30  Lombardia         65      F  134755.00   \n",
       " 4     432979353440523532437       40    Toscana         25      M   29621.25   \n",
       " ...                     ...      ...        ...        ...    ...        ...   \n",
       " 9995  539391625009438288024       40     Veneto         55      M  161975.00   \n",
       " 9996  313270091782835594768       10   Trentino         65      M   33204.00   \n",
       " 9997  627847515718849033297       40  Lombardia         65      F  446515.00   \n",
       " 9998  408427169752387416101       40     Veneto         55      F   19410.00   \n",
       " 9999  883835472490109028594       20     Veneto         55      F   40037.50   \n",
       " \n",
       "       Duration  \n",
       " 0            3  \n",
       " 1           34  \n",
       " 2           21  \n",
       " 3           20  \n",
       " 4            4  \n",
       " ...        ...  \n",
       " 9995         1  \n",
       " 9996        12  \n",
       " 9997        12  \n",
       " 9998        13  \n",
       " 9999        19  \n",
       " \n",
       " [10000 rows x 7 columns]}"
      ]
     },
     "execution_count": 32,
     "metadata": {},
     "output_type": "execute_result"
    }
   ],
   "source": [
    "datasets"
   ]
  },
  {
   "attachments": {},
   "cell_type": "markdown",
   "metadata": {},
   "source": [
    "### Dataset metadata"
   ]
  },
  {
   "cell_type": "code",
   "execution_count": 33,
   "metadata": {},
   "outputs": [],
   "source": [
    "from sdv.metadata import MultiTableMetadata"
   ]
  },
  {
   "cell_type": "code",
   "execution_count": 34,
   "metadata": {},
   "outputs": [],
   "source": [
    "metadata = MultiTableMetadata()\n",
    "\n",
    "metadata.detect_table_from_dataframe(\n",
    "    table_name='test_dataset',\n",
    "    data=df\n",
    ")"
   ]
  },
  {
   "attachments": {},
   "cell_type": "markdown",
   "metadata": {},
   "source": [
    "Correct metadata sdtypes"
   ]
  },
  {
   "cell_type": "code",
   "execution_count": 35,
   "metadata": {},
   "outputs": [],
   "source": [
    "metadata.update_column(\n",
    "    table_name='test_dataset',\n",
    "    column_name='NDG',\n",
    "    sdtype='id',\n",
    "    regex_format = r'\\d{21}'\n",
    ")\n",
    "\n",
    "metadata.update_column(\n",
    "    table_name='test_dataset',\n",
    "    column_name='Age Range',\n",
    "    sdtype='categorical'\n",
    ")\n",
    "\n",
    "metadata.update_column(\n",
    "    table_name='test_dataset',\n",
    "    column_name='Segment',\n",
    "    sdtype='categorical'\n",
    ")\n",
    "\n",
    "metadata.update_column(\n",
    "    table_name='test_dataset',\n",
    "    column_name='Income',\n",
    "    sdtype='numerical',\n",
    "    computer_representation='Float')"
   ]
  },
  {
   "attachments": {},
   "cell_type": "markdown",
   "metadata": {},
   "source": [
    "Primary Keys: These keys identify every row of the table. They must be unique to the entire table and other tables may refer to them."
   ]
  },
  {
   "cell_type": "code",
   "execution_count": 36,
   "metadata": {},
   "outputs": [],
   "source": [
    "metadata.set_primary_key(\n",
    "    table_name='test_dataset',\n",
    "    column_name='NDG'\n",
    ")"
   ]
  },
  {
   "cell_type": "code",
   "execution_count": 37,
   "metadata": {},
   "outputs": [
    {
     "data": {
      "text/plain": [
       "<bound method MultiTableMetadata.validate of {\n",
       "    \"tables\": {\n",
       "        \"test_dataset\": {\n",
       "            \"columns\": {\n",
       "                \"NDG\": {\n",
       "                    \"sdtype\": \"id\",\n",
       "                    \"regex_format\": \"\\\\d{21}\"\n",
       "                },\n",
       "                \"Segment\": {\n",
       "                    \"sdtype\": \"categorical\"\n",
       "                },\n",
       "                \"Region\": {\n",
       "                    \"sdtype\": \"categorical\"\n",
       "                },\n",
       "                \"Age Range\": {\n",
       "                    \"sdtype\": \"categorical\"\n",
       "                },\n",
       "                \"Gender\": {\n",
       "                    \"sdtype\": \"categorical\"\n",
       "                },\n",
       "                \"Income\": {\n",
       "                    \"sdtype\": \"numerical\",\n",
       "                    \"computer_representation\": \"Float\"\n",
       "                },\n",
       "                \"Duration\": {\n",
       "                    \"sdtype\": \"numerical\"\n",
       "                }\n",
       "            },\n",
       "            \"primary_key\": \"NDG\"\n",
       "        }\n",
       "    },\n",
       "    \"relationships\": [],\n",
       "    \"METADATA_SPEC_VERSION\": \"MULTI_TABLE_V1\"\n",
       "}>"
      ]
     },
     "execution_count": 37,
     "metadata": {},
     "output_type": "execute_result"
    }
   ],
   "source": [
    "#metadata\n",
    "metadata.validate"
   ]
  },
  {
   "attachments": {},
   "cell_type": "markdown",
   "metadata": {},
   "source": [
    "Export metadata json"
   ]
  },
  {
   "cell_type": "code",
   "execution_count": 38,
   "metadata": {},
   "outputs": [],
   "source": [
    "metadata.save_to_json('data/test_dataset_metadata.json')\n",
    "metadata = MultiTableMetadata.load_from_json('data/test_dataset_metadata.json')"
   ]
  },
  {
   "attachments": {},
   "cell_type": "markdown",
   "metadata": {},
   "source": [
    "# Synthetic Data Generation"
   ]
  },
  {
   "cell_type": "code",
   "execution_count": 39,
   "metadata": {},
   "outputs": [],
   "source": [
    "from sdv.multi_table import HMASynthesizer"
   ]
  },
  {
   "cell_type": "code",
   "execution_count": 40,
   "metadata": {},
   "outputs": [],
   "source": [
    "synthesizer = HMASynthesizer(metadata)\n",
    "synthesizer.validate(datasets)"
   ]
  },
  {
   "attachments": {},
   "cell_type": "markdown",
   "metadata": {},
   "source": [
    "Initialize the SDV model and fit it to the DataFrame:"
   ]
  },
  {
   "cell_type": "code",
   "execution_count": 41,
   "metadata": {},
   "outputs": [],
   "source": [
    "synthesizer.fit(datasets)"
   ]
  },
  {
   "attachments": {},
   "cell_type": "markdown",
   "metadata": {},
   "source": [
    "Generate synthetic data using the SDV model:"
   ]
  },
  {
   "cell_type": "code",
   "execution_count": 42,
   "metadata": {},
   "outputs": [],
   "source": [
    "synthetic_data = synthesizer.sample(scale=1)"
   ]
  },
  {
   "cell_type": "code",
   "execution_count": 43,
   "metadata": {},
   "outputs": [
    {
     "data": {
      "text/plain": [
       "{'test_dataset':                         NDG  Segment     Region  Age Range Gender  \\\n",
       " 0     000000000000000000000       40     Veneto         35      F   \n",
       " 1     000000000000000000001       10    Sicilia         25      F   \n",
       " 2     000000000000000000002       10    Toscana         45      M   \n",
       " 3     000000000000000000003       30    Sicilia         65      F   \n",
       " 4     000000000000000000004       40   Trentino         45      F   \n",
       " ...                     ...      ...        ...        ...    ...   \n",
       " 9995  000000000000000009995       40   Trentino         65      F   \n",
       " 9996  000000000000000009996       20   Trentino         55      F   \n",
       " 9997  000000000000000009997       30    Toscana         25      F   \n",
       " 9998  000000000000000009998       10  Lombardia         25      F   \n",
       " 9999  000000000000000009999       10  Lombardia         25      F   \n",
       " \n",
       "              Income  Duration  \n",
       " 0      76297.890936        19  \n",
       " 1      18023.281533        32  \n",
       " 2      46577.379555         9  \n",
       " 3      28055.289942         4  \n",
       " 4      17305.573917         2  \n",
       " ...             ...       ...  \n",
       " 9995  162879.104359        11  \n",
       " 9996  405649.801120        10  \n",
       " 9997  176430.362985        23  \n",
       " 9998  328343.307720         1  \n",
       " 9999  119195.008777        31  \n",
       " \n",
       " [10000 rows x 7 columns]}"
      ]
     },
     "execution_count": 43,
     "metadata": {},
     "output_type": "execute_result"
    }
   ],
   "source": [
    "synthetic_data"
   ]
  },
  {
   "cell_type": "code",
   "execution_count": 44,
   "metadata": {},
   "outputs": [
    {
     "data": {
      "text/plain": [
       "{'test_dataset':                         NDG  Segment     Region  Age Range Gender     Income  \\\n",
       " 0      29077800288462831460       20  Lombardia         65      M  344940.00   \n",
       " 1     629940137899049454465       30    Sicilia         65      F   94364.00   \n",
       " 2     392586367169128742483       10     Veneto         65      M  116270.00   \n",
       " 3     908525913488204920962       30  Lombardia         65      F  134755.00   \n",
       " 4     432979353440523532437       40    Toscana         25      M   29621.25   \n",
       " ...                     ...      ...        ...        ...    ...        ...   \n",
       " 9995  539391625009438288024       40     Veneto         55      M  161975.00   \n",
       " 9996  313270091782835594768       10   Trentino         65      M   33204.00   \n",
       " 9997  627847515718849033297       40  Lombardia         65      F  446515.00   \n",
       " 9998  408427169752387416101       40     Veneto         55      F   19410.00   \n",
       " 9999  883835472490109028594       20     Veneto         55      F   40037.50   \n",
       " \n",
       "       Duration  \n",
       " 0            3  \n",
       " 1           34  \n",
       " 2           21  \n",
       " 3           20  \n",
       " 4            4  \n",
       " ...        ...  \n",
       " 9995         1  \n",
       " 9996        12  \n",
       " 9997        12  \n",
       " 9998        13  \n",
       " 9999        19  \n",
       " \n",
       " [10000 rows x 7 columns]}"
      ]
     },
     "execution_count": 44,
     "metadata": {},
     "output_type": "execute_result"
    }
   ],
   "source": [
    "datasets"
   ]
  },
  {
   "attachments": {},
   "cell_type": "markdown",
   "metadata": {},
   "source": [
    "# Export to csv"
   ]
  },
  {
   "cell_type": "code",
   "execution_count": 45,
   "metadata": {},
   "outputs": [],
   "source": [
    "synthetic_data['test_dataset'].to_csv('data/test_dataset_synthetic.csv', index=False)"
   ]
  }
 ],
 "metadata": {
  "kernelspec": {
   "display_name": "SD",
   "language": "python",
   "name": "python3"
  },
  "language_info": {
   "codemirror_mode": {
    "name": "ipython",
    "version": 3
   },
   "file_extension": ".py",
   "mimetype": "text/x-python",
   "name": "python",
   "nbconvert_exporter": "python",
   "pygments_lexer": "ipython3",
   "version": "3.8.16"
  },
  "orig_nbformat": 4
 },
 "nbformat": 4,
 "nbformat_minor": 2
}
