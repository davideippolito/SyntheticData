{
 "cells": [
  {
   "attachments": {},
   "cell_type": "markdown",
   "metadata": {},
   "source": [
    "# Subject Table Definition"
   ]
  },
  {
   "attachments": {},
   "cell_type": "markdown",
   "metadata": {},
   "source": [
    "### Dataset import"
   ]
  },
  {
   "cell_type": "code",
   "execution_count": 11,
   "metadata": {},
   "outputs": [],
   "source": [
    "import pandas as pd"
   ]
  },
  {
   "cell_type": "code",
   "execution_count": 12,
   "metadata": {},
   "outputs": [],
   "source": [
    "# Specify the path to the CSV file\n",
    "csv_file_path = 'C:/Users/david/Desktop/Davide/SyntheticData/Github/SyntheticData/data/test_dataset.csv'\n",
    "# Load the CSV file into a DataFrame\n",
    "df = pd.read_csv(csv_file_path)"
   ]
  },
  {
   "cell_type": "code",
   "execution_count": 13,
   "metadata": {},
   "outputs": [],
   "source": [
    "# Create an empty dictionary\n",
    "datasets = {}\n",
    "\n",
    "# Add the DataFrame to the dictionary\n",
    "datasets['test_dataset'] = df\n"
   ]
  },
  {
   "cell_type": "code",
   "execution_count": 14,
   "metadata": {},
   "outputs": [
    {
     "data": {
      "text/plain": [
       "{'test_dataset':                         NDG  Segment     Region  Age Range Gender     Income  \\\n",
       " 0     726402800814062217560       40  Lombardia         65      F  113838.75   \n",
       " 1     889583567071317812454       40   Trentino         65      F  186538.50   \n",
       " 2     530630346698908304055       10  Lombardia         35      M  195732.50   \n",
       " 3     528364642665697783653       20   Trentino         25      M   46722.00   \n",
       " 4     527645717531677479155       40    Toscana         65      M   81958.80   \n",
       " ...                     ...      ...        ...        ...    ...        ...   \n",
       " 9995  970347933603133106111       40     Veneto         45      M  149925.00   \n",
       " 9996  930273368294131315307       20    Toscana         65      M  144211.65   \n",
       " 9997  447183733060950082862       10   Trentino         25      F  118972.50   \n",
       " 9998  494600646125903229884       20   Trentino         45      F   23001.00   \n",
       " 9999  296791268150097416112       20     Veneto         45      M   83766.00   \n",
       " \n",
       "       Duration  \n",
       " 0           24  \n",
       " 1           27  \n",
       " 2           33  \n",
       " 3            9  \n",
       " 4           16  \n",
       " ...        ...  \n",
       " 9995        13  \n",
       " 9996        13  \n",
       " 9997        10  \n",
       " 9998        22  \n",
       " 9999        17  \n",
       " \n",
       " [10000 rows x 7 columns]}"
      ]
     },
     "execution_count": 14,
     "metadata": {},
     "output_type": "execute_result"
    }
   ],
   "source": [
    "datasets"
   ]
  },
  {
   "attachments": {},
   "cell_type": "markdown",
   "metadata": {},
   "source": [
    "### Dataset metadata"
   ]
  },
  {
   "cell_type": "code",
   "execution_count": 15,
   "metadata": {},
   "outputs": [],
   "source": [
    "from sdv.metadata import MultiTableMetadata"
   ]
  },
  {
   "cell_type": "code",
   "execution_count": 16,
   "metadata": {},
   "outputs": [],
   "source": [
    "metadata = MultiTableMetadata()\n",
    "\n",
    "metadata.detect_table_from_dataframe(\n",
    "    table_name='test_dataset',\n",
    "    data=df\n",
    ")"
   ]
  },
  {
   "attachments": {},
   "cell_type": "markdown",
   "metadata": {},
   "source": [
    "Correct metadata sdtypes"
   ]
  },
  {
   "cell_type": "code",
   "execution_count": 17,
   "metadata": {},
   "outputs": [],
   "source": [
    "metadata.update_column(\n",
    "    table_name='test_dataset',\n",
    "    column_name='NDG',\n",
    "    sdtype='id',\n",
    "    regex_format = r'\\d{21}'\n",
    ")\n",
    "\n",
    "metadata.update_column(\n",
    "    table_name='test_dataset',\n",
    "    column_name='Age Range',\n",
    "    sdtype='categorical'\n",
    ")\n",
    "\n",
    "metadata.update_column(\n",
    "    table_name='test_dataset',\n",
    "    column_name='Segment',\n",
    "    sdtype='categorical'\n",
    ")\n",
    "\n",
    "metadata.update_column(\n",
    "    table_name='test_dataset',\n",
    "    column_name='Income',\n",
    "    sdtype='numerical',\n",
    "    computer_representation='Float')"
   ]
  },
  {
   "attachments": {},
   "cell_type": "markdown",
   "metadata": {},
   "source": [
    "Primary Keys: These keys identify every row of the table. They must be unique to the entire table and other tables may refer to them."
   ]
  },
  {
   "cell_type": "code",
   "execution_count": 18,
   "metadata": {},
   "outputs": [],
   "source": [
    "metadata.set_primary_key(\n",
    "    table_name='test_dataset',\n",
    "    column_name='NDG'\n",
    ")"
   ]
  },
  {
   "cell_type": "code",
   "execution_count": 19,
   "metadata": {},
   "outputs": [
    {
     "data": {
      "text/plain": [
       "<bound method MultiTableMetadata.validate of {\n",
       "    \"tables\": {\n",
       "        \"test_dataset\": {\n",
       "            \"columns\": {\n",
       "                \"NDG\": {\n",
       "                    \"sdtype\": \"id\",\n",
       "                    \"regex_format\": \"\\\\d{21}\"\n",
       "                },\n",
       "                \"Segment\": {\n",
       "                    \"sdtype\": \"categorical\"\n",
       "                },\n",
       "                \"Region\": {\n",
       "                    \"sdtype\": \"categorical\"\n",
       "                },\n",
       "                \"Age Range\": {\n",
       "                    \"sdtype\": \"categorical\"\n",
       "                },\n",
       "                \"Gender\": {\n",
       "                    \"sdtype\": \"categorical\"\n",
       "                },\n",
       "                \"Income\": {\n",
       "                    \"sdtype\": \"numerical\",\n",
       "                    \"computer_representation\": \"Float\"\n",
       "                },\n",
       "                \"Duration\": {\n",
       "                    \"sdtype\": \"numerical\"\n",
       "                }\n",
       "            },\n",
       "            \"primary_key\": \"NDG\"\n",
       "        }\n",
       "    },\n",
       "    \"relationships\": [],\n",
       "    \"METADATA_SPEC_VERSION\": \"MULTI_TABLE_V1\"\n",
       "}>"
      ]
     },
     "execution_count": 19,
     "metadata": {},
     "output_type": "execute_result"
    }
   ],
   "source": [
    "#metadata\n",
    "metadata.validate"
   ]
  },
  {
   "attachments": {},
   "cell_type": "markdown",
   "metadata": {},
   "source": [
    "Export metadata json"
   ]
  },
  {
   "cell_type": "code",
   "execution_count": 20,
   "metadata": {},
   "outputs": [],
   "source": [
    "metadata.save_to_json('data/test_dataset_metadata.json')\n",
    "metadata = MultiTableMetadata.load_from_json('data/test_dataset_metadata.json')"
   ]
  },
  {
   "attachments": {},
   "cell_type": "markdown",
   "metadata": {},
   "source": [
    "# Synthetic Data Generation"
   ]
  },
  {
   "cell_type": "code",
   "execution_count": 21,
   "metadata": {},
   "outputs": [],
   "source": [
    "from sdv.multi_table import HMASynthesizer"
   ]
  },
  {
   "cell_type": "code",
   "execution_count": 22,
   "metadata": {},
   "outputs": [],
   "source": [
    "synthesizer = HMASynthesizer(metadata)\n",
    "synthesizer.validate(datasets)"
   ]
  },
  {
   "attachments": {},
   "cell_type": "markdown",
   "metadata": {},
   "source": [
    "Initialize the SDV model and fit it to the DataFrame:"
   ]
  },
  {
   "cell_type": "code",
   "execution_count": 23,
   "metadata": {},
   "outputs": [],
   "source": [
    "synthesizer.fit(datasets)"
   ]
  },
  {
   "attachments": {},
   "cell_type": "markdown",
   "metadata": {},
   "source": [
    "Generate synthetic data using the SDV model:"
   ]
  },
  {
   "cell_type": "code",
   "execution_count": 24,
   "metadata": {},
   "outputs": [],
   "source": [
    "synthetic_data = synthesizer.sample(scale=1)"
   ]
  },
  {
   "cell_type": "code",
   "execution_count": 25,
   "metadata": {},
   "outputs": [
    {
     "data": {
      "text/plain": [
       "{'test_dataset':                         NDG  Segment     Region  Age Range Gender  \\\n",
       " 0     000000000000000000000       30    Toscana         45      M   \n",
       " 1     000000000000000000001       20  Lombardia         35      M   \n",
       " 2     000000000000000000002       20    Sicilia         55      F   \n",
       " 3     000000000000000000003       40    Sicilia         35      M   \n",
       " 4     000000000000000000004       30     Veneto         55      M   \n",
       " ...                     ...      ...        ...        ...    ...   \n",
       " 9995  000000000000000009995       20    Toscana         55      M   \n",
       " 9996  000000000000000009996       30     Veneto         65      F   \n",
       " 9997  000000000000000009997       30    Sicilia         65      M   \n",
       " 9998  000000000000000009998       40     Veneto         35      M   \n",
       " 9999  000000000000000009999       20  Lombardia         65      M   \n",
       " \n",
       "              Income  Duration  \n",
       " 0      47987.377229        27  \n",
       " 1      33511.002646        13  \n",
       " 2      44768.226382        10  \n",
       " 3      56502.728439        13  \n",
       " 4      42199.090970         7  \n",
       " ...             ...       ...  \n",
       " 9995  231650.013461        18  \n",
       " 9996  238399.004967        16  \n",
       " 9997  197893.572884        13  \n",
       " 9998  213650.380419        35  \n",
       " 9999  103171.444168        24  \n",
       " \n",
       " [10000 rows x 7 columns]}"
      ]
     },
     "execution_count": 25,
     "metadata": {},
     "output_type": "execute_result"
    }
   ],
   "source": [
    "synthetic_data"
   ]
  },
  {
   "cell_type": "code",
   "execution_count": 26,
   "metadata": {},
   "outputs": [
    {
     "data": {
      "text/plain": [
       "{'test_dataset':                         NDG  Segment     Region  Age Range Gender     Income  \\\n",
       " 0     726402800814062217560       40  Lombardia         65      F  113838.75   \n",
       " 1     889583567071317812454       40   Trentino         65      F  186538.50   \n",
       " 2     530630346698908304055       10  Lombardia         35      M  195732.50   \n",
       " 3     528364642665697783653       20   Trentino         25      M   46722.00   \n",
       " 4     527645717531677479155       40    Toscana         65      M   81958.80   \n",
       " ...                     ...      ...        ...        ...    ...        ...   \n",
       " 9995  970347933603133106111       40     Veneto         45      M  149925.00   \n",
       " 9996  930273368294131315307       20    Toscana         65      M  144211.65   \n",
       " 9997  447183733060950082862       10   Trentino         25      F  118972.50   \n",
       " 9998  494600646125903229884       20   Trentino         45      F   23001.00   \n",
       " 9999  296791268150097416112       20     Veneto         45      M   83766.00   \n",
       " \n",
       "       Duration  \n",
       " 0           24  \n",
       " 1           27  \n",
       " 2           33  \n",
       " 3            9  \n",
       " 4           16  \n",
       " ...        ...  \n",
       " 9995        13  \n",
       " 9996        13  \n",
       " 9997        10  \n",
       " 9998        22  \n",
       " 9999        17  \n",
       " \n",
       " [10000 rows x 7 columns]}"
      ]
     },
     "execution_count": 26,
     "metadata": {},
     "output_type": "execute_result"
    }
   ],
   "source": [
    "datasets"
   ]
  },
  {
   "attachments": {},
   "cell_type": "markdown",
   "metadata": {},
   "source": [
    "# Export to csv"
   ]
  },
  {
   "cell_type": "code",
   "execution_count": 28,
   "metadata": {},
   "outputs": [],
   "source": [
    "synthetic_data['test_dataset'].to_csv('data/test_dataset_synthetic.csv', index=False)"
   ]
  },
  {
   "cell_type": "code",
   "execution_count": null,
   "metadata": {},
   "outputs": [],
   "source": []
  }
 ],
 "metadata": {
  "kernelspec": {
   "display_name": "SD",
   "language": "python",
   "name": "python3"
  },
  "language_info": {
   "codemirror_mode": {
    "name": "ipython",
    "version": 3
   },
   "file_extension": ".py",
   "mimetype": "text/x-python",
   "name": "python",
   "nbconvert_exporter": "python",
   "pygments_lexer": "ipython3",
   "version": "3.8.16"
  },
  "orig_nbformat": 4
 },
 "nbformat": 4,
 "nbformat_minor": 2
}
