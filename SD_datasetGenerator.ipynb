{
 "cells": [
  {
   "attachments": {},
   "cell_type": "markdown",
   "metadata": {},
   "source": [
    "## Dataset Generator"
   ]
  },
  {
   "cell_type": "code",
   "execution_count": 28,
   "metadata": {},
   "outputs": [],
   "source": [
    "import pandas as pd\n",
    "from faker import Faker\n",
    "import random"
   ]
  },
  {
   "cell_type": "code",
   "execution_count": 29,
   "metadata": {},
   "outputs": [],
   "source": [
    "fake = Faker()"
   ]
  },
  {
   "cell_type": "code",
   "execution_count": 30,
   "metadata": {},
   "outputs": [],
   "source": [
    "# Number of subjects\n",
    "n = 1000000"
   ]
  },
  {
   "attachments": {},
   "cell_type": "markdown",
   "metadata": {},
   "source": [
    "Definition of the dataset"
   ]
  },
  {
   "cell_type": "code",
   "execution_count": 31,
   "metadata": {},
   "outputs": [],
   "source": [
    "data = [\n",
    "    {\n",
    "        'NDG': str(fake.random_number(digits=21)),\n",
    "        'Segment': str(fake.random_int(min=1, max=4) * 10),\n",
    "        'Region': random.choice(['Lombardia', 'Lombardia', 'Lombardia', 'Trentino', 'Veneto', 'Veneto', 'Toscana', 'Sicilia']),\n",
    "        'Age Range': random.choice(['25', '35', '45', '55', '65', '65']),\n",
    "        'Gender': random.choice(['F', 'M']),\n",
    "        'Income': float(fake.random_int(min=1000, max=100000)),\n",
    "        'Duration': str(fake.random_int(min=1, max=35))\n",
    "    }\n",
    "    for _ in range(n)\n",
    "]"
   ]
  },
  {
   "attachments": {},
   "cell_type": "markdown",
   "metadata": {},
   "source": [
    "## Introducing corrections and variations"
   ]
  },
  {
   "cell_type": "code",
   "execution_count": 32,
   "metadata": {},
   "outputs": [],
   "source": [
    "def correct_age_range_duration(data):\n",
    "    for _ in data:\n",
    "        age_range = int(_['Age Range'])\n",
    "        duration = int(_['Duration'])\n",
    "        if age_range - duration < 18:\n",
    "            _['Duration'] = str(fake.random_int(min=1, max=7))\n",
    "\n",
    "def introduce_income_age_range_correlation(data):\n",
    "    for _ in data:\n",
    "        if _['Age Range'] == '65':\n",
    "            _['Income'] = _['Income'] * 2\n",
    "        elif _['Age Range'] == '55':\n",
    "            _['Income'] = _['Income'] * 2.5\n",
    "        elif _['Age Range'] == '45':\n",
    "            _['Income'] = _['Income'] * 1.5\n",
    "        elif _['Age Range'] == '35':\n",
    "            _['Income'] = _['Income'] * 1\n",
    "        elif _['Age Range'] == '25':\n",
    "            _['Income'] = _['Income'] * 0.5\n",
    "\n",
    "def introduce_income_region_correlation(data):\n",
    "    for _ in data:\n",
    "        if _['Region'] == 'Lombardia':\n",
    "            _['Income'] = _['Income'] * 2.5\n",
    "        elif _['Region'] in ['Toscana', 'Trentino']:\n",
    "            _['Income'] = _['Income'] * 1.5\n",
    "        elif _['Region'] in ['Sicilia', 'Veneto']:\n",
    "            _['Income'] = _['Income'] * 1"
   ]
  },
  {
   "cell_type": "code",
   "execution_count": 33,
   "metadata": {},
   "outputs": [],
   "source": [
    "# Apply corrections and introduce correlation\n",
    "correct_age_range_duration(data)\n",
    "introduce_income_age_range_correlation(data)\n",
    "introduce_income_region_correlation(data)\n",
    "df = pd.DataFrame(data)"
   ]
  },
  {
   "cell_type": "code",
   "execution_count": 34,
   "metadata": {},
   "outputs": [],
   "source": [
    "#df.head(1)"
   ]
  },
  {
   "attachments": {},
   "cell_type": "markdown",
   "metadata": {},
   "source": [
    "## Export to csv"
   ]
  },
  {
   "cell_type": "code",
   "execution_count": 35,
   "metadata": {},
   "outputs": [],
   "source": [
    "df.to_csv('data/test_dataset.csv', index=False)"
   ]
  }
 ],
 "metadata": {
  "kernelspec": {
   "display_name": "SD",
   "language": "python",
   "name": "python3"
  },
  "language_info": {
   "codemirror_mode": {
    "name": "ipython",
    "version": 3
   },
   "file_extension": ".py",
   "mimetype": "text/x-python",
   "name": "python",
   "nbconvert_exporter": "python",
   "pygments_lexer": "ipython3",
   "version": "3.8.16"
  },
  "orig_nbformat": 4
 },
 "nbformat": 4,
 "nbformat_minor": 2
}
