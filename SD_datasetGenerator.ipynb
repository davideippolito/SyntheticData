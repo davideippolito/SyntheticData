{
 "cells": [
  {
   "attachments": {},
   "cell_type": "markdown",
   "metadata": {},
   "source": [
    "## Dataset Generator"
   ]
  },
  {
   "cell_type": "code",
   "execution_count": 19,
   "metadata": {},
   "outputs": [],
   "source": [
    "import pandas as pd\n",
    "from faker import Faker\n",
    "import random"
   ]
  },
  {
   "cell_type": "code",
   "execution_count": 20,
   "metadata": {},
   "outputs": [],
   "source": [
    "fake = Faker()"
   ]
  },
  {
   "cell_type": "code",
   "execution_count": 21,
   "metadata": {},
   "outputs": [],
   "source": [
    "# Number of subjects\n",
    "n = 10000"
   ]
  },
  {
   "attachments": {},
   "cell_type": "markdown",
   "metadata": {},
   "source": [
    "Definition of the dataset"
   ]
  },
  {
   "cell_type": "code",
   "execution_count": 22,
   "metadata": {},
   "outputs": [],
   "source": [
    "data = [\n",
    "    {\n",
    "        'NDG': str(fake.random_number(digits=21)),\n",
    "        'Segment': str(fake.random_int(min=1, max=4) * 10),\n",
    "        'Region': random.choice(['Lombardia', 'Lombardia', 'Lombardia', 'Trentino', 'Veneto', 'Veneto', 'Toscana', 'Sicilia']),\n",
    "        'Age Range': random.choice(['25', '35', '45', '55', '65', '65']),\n",
    "        'Gender': random.choice(['F', 'M']),\n",
    "        'Income': float(fake.random_int(min=1000, max=100000)),\n",
    "        'Duration': str(fake.random_int(min=1, max=35))\n",
    "    }\n",
    "    for _ in range(n)\n",
    "]"
   ]
  },
  {
   "attachments": {},
   "cell_type": "markdown",
   "metadata": {},
   "source": [
    "## Introducing corrections and variations"
   ]
  },
  {
   "cell_type": "code",
   "execution_count": 23,
   "metadata": {},
   "outputs": [],
   "source": [
    "def correct_age_range_duration(data):\n",
    "    for _ in data:\n",
    "        age_range = int(_['Age Range'])\n",
    "        duration = int(_['Duration'])\n",
    "        if age_range - duration < 18:\n",
    "            _['Duration'] = str(fake.random_int(min=1, max=7))\n",
    "\n",
    "def introduce_income_age_range_correlation(data):\n",
    "    for _ in data:\n",
    "        if _['Age Range'] == '65':\n",
    "            _['Income'] = _['Income'] * 2\n",
    "        elif _['Age Range'] == '55':\n",
    "            _['Income'] = _['Income'] * 2.5\n",
    "        elif _['Age Range'] == '45':\n",
    "            _['Income'] = _['Income'] * 1.5\n",
    "        elif _['Age Range'] == '35':\n",
    "            _['Income'] = _['Income'] * 1\n",
    "        elif _['Age Range'] == '25':\n",
    "            _['Income'] = _['Income'] * 0.5\n",
    "\n",
    "def introduce_income_region_correlation(data):\n",
    "    for _ in data:\n",
    "        if _['Region'] == 'Lombardia':\n",
    "            _['Income'] = _['Income'] * 2.5\n",
    "        elif _['Region'] in ['Toscana', 'Trentino']:\n",
    "            _['Income'] = _['Income'] * 1.5\n",
    "        elif _['Region'] in ['Sicilia', 'Veneto']:\n",
    "            _['Income'] = _['Income'] * 1"
   ]
  },
  {
   "cell_type": "code",
   "execution_count": 24,
   "metadata": {},
   "outputs": [],
   "source": [
    "# Apply corrections and introduce correlation\n",
    "correct_age_range_duration(data)\n",
    "introduce_income_age_range_correlation(data)\n",
    "introduce_income_region_correlation(data)\n",
    "df = pd.DataFrame(data)"
   ]
  },
  {
   "cell_type": "code",
   "execution_count": 25,
   "metadata": {},
   "outputs": [
    {
     "data": {
      "text/html": [
       "<div>\n",
       "<style scoped>\n",
       "    .dataframe tbody tr th:only-of-type {\n",
       "        vertical-align: middle;\n",
       "    }\n",
       "\n",
       "    .dataframe tbody tr th {\n",
       "        vertical-align: top;\n",
       "    }\n",
       "\n",
       "    .dataframe thead th {\n",
       "        text-align: right;\n",
       "    }\n",
       "</style>\n",
       "<table border=\"1\" class=\"dataframe\">\n",
       "  <thead>\n",
       "    <tr style=\"text-align: right;\">\n",
       "      <th></th>\n",
       "      <th>NDG</th>\n",
       "      <th>Segment</th>\n",
       "      <th>Region</th>\n",
       "      <th>Age Range</th>\n",
       "      <th>Gender</th>\n",
       "      <th>Income</th>\n",
       "      <th>Duration</th>\n",
       "    </tr>\n",
       "  </thead>\n",
       "  <tbody>\n",
       "    <tr>\n",
       "      <th>0</th>\n",
       "      <td>29077800288462831460</td>\n",
       "      <td>20</td>\n",
       "      <td>Lombardia</td>\n",
       "      <td>65</td>\n",
       "      <td>M</td>\n",
       "      <td>344940.0</td>\n",
       "      <td>3</td>\n",
       "    </tr>\n",
       "  </tbody>\n",
       "</table>\n",
       "</div>"
      ],
      "text/plain": [
       "                    NDG Segment     Region Age Range Gender    Income Duration\n",
       "0  29077800288462831460      20  Lombardia        65      M  344940.0        3"
      ]
     },
     "execution_count": 25,
     "metadata": {},
     "output_type": "execute_result"
    }
   ],
   "source": [
    "df.head(1)"
   ]
  },
  {
   "attachments": {},
   "cell_type": "markdown",
   "metadata": {},
   "source": [
    "## Export to csv"
   ]
  },
  {
   "cell_type": "code",
   "execution_count": 26,
   "metadata": {},
   "outputs": [],
   "source": [
    "df.to_csv('data/test_dataset.csv', index=False)"
   ]
  }
 ],
 "metadata": {
  "kernelspec": {
   "display_name": "SD",
   "language": "python",
   "name": "python3"
  },
  "language_info": {
   "codemirror_mode": {
    "name": "ipython",
    "version": 3
   },
   "file_extension": ".py",
   "mimetype": "text/x-python",
   "name": "python",
   "nbconvert_exporter": "python",
   "pygments_lexer": "ipython3",
   "version": "3.8.16"
  },
  "orig_nbformat": 4
 },
 "nbformat": 4,
 "nbformat_minor": 2
}
